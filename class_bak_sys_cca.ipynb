{
 "cells": [
  {
   "cell_type": "code",
   "execution_count": 9,
   "metadata": {},
   "outputs": [
    {
     "name": "stdout",
     "output_type": "stream",
     "text": [
      "Creating RawArray with float64 data, n_channels=128, n_times=768\n",
      "    Range : 0 ... 767 =      0.000 ...     2.996 secs\n",
      "Ready.\n",
      "Setting up band-pass filter from 1 - 40 Hz\n",
      "fir_design defaults to \"firwin2\" in 0.15 but will change to \"firwin\" in 0.16, set it explicitly to avoid this warning.\n",
      "l_trans_bandwidth chosen to be 1.0 Hz\n",
      "h_trans_bandwidth chosen to be 10.0 Hz\n",
      "Filter length of 1690 samples (6.602 sec) selected\n",
      "filter_length (1691) is longer than the signal (768), distortion is likely. Reduce filter length or filter a longer signal.\n"
     ]
    },
    {
     "name": "stderr",
     "output_type": "stream",
     "text": [
      "/home/stakar/Studia/kogni/Magisterka/code/bieg.py:98: DeprecationWarning: fir_design defaults to \"firwin2\" in 0.15 but will change to \"firwin\" in 0.16, set it explicitly to avoid this warning.\n",
      "  self.raw.filter(filter[0], filter[1], n_jobs=2)\n",
      "/home/stakar/Studia/kogni/Magisterka/code/bieg.py:98: RuntimeWarning: filter_length (1691) is longer than the signal (768), distortion is likely. Reduce filter length or filter a longer signal.\n",
      "  self.raw.filter(filter[0], filter[1], n_jobs=2)\n"
     ]
    },
    {
     "name": "stdout",
     "output_type": "stream",
     "text": [
      "<ICA  |  no decomposition, fit (fastica):  samples, no dimension reduction>\n",
      "Fitting ICA to data using 128 channels. \n",
      "Please be patient, this may take some time\n",
      "Inferring max_pca_components from picks.\n"
     ]
    },
    {
     "name": "stderr",
     "output_type": "stream",
     "text": [
      "[Parallel(n_jobs=2)]: Done 128 out of 128 | elapsed:    0.0s finished\n"
     ]
    },
    {
     "name": "stdout",
     "output_type": "stream",
     "text": [
      "Using all PCA components: 128\n",
      "<ICA  |  raw data decomposition, fit (fastica): 171 samples, 128 components, channels used: \"eeg\">\n",
      "Creating RawArray with float64 data, n_channels=128, n_times=768\n",
      "    Range : 0 ... 767 =      0.000 ...     2.996 secs\n",
      "Ready.\n",
      "Setting up band-pass filter from 1 - 40 Hz\n",
      "fir_design defaults to \"firwin2\" in 0.15 but will change to \"firwin\" in 0.16, set it explicitly to avoid this warning.\n",
      "l_trans_bandwidth chosen to be 1.0 Hz\n",
      "h_trans_bandwidth chosen to be 10.0 Hz\n",
      "Filter length of 1690 samples (6.602 sec) selected\n",
      "filter_length (1691) is longer than the signal (768), distortion is likely. Reduce filter length or filter a longer signal.\n"
     ]
    },
    {
     "name": "stderr",
     "output_type": "stream",
     "text": [
      "/home/stakar/Studia/kogni/Magisterka/code/bieg.py:98: DeprecationWarning: fir_design defaults to \"firwin2\" in 0.15 but will change to \"firwin\" in 0.16, set it explicitly to avoid this warning.\n",
      "  self.raw.filter(filter[0], filter[1], n_jobs=2)\n",
      "/home/stakar/Studia/kogni/Magisterka/code/bieg.py:98: RuntimeWarning: filter_length (1691) is longer than the signal (768), distortion is likely. Reduce filter length or filter a longer signal.\n",
      "  self.raw.filter(filter[0], filter[1], n_jobs=2)\n"
     ]
    },
    {
     "name": "stdout",
     "output_type": "stream",
     "text": [
      "<ICA  |  no decomposition, fit (fastica):  samples, no dimension reduction>\n",
      "Fitting ICA to data using 128 channels. \n",
      "Please be patient, this may take some time\n",
      "Inferring max_pca_components from picks.\n"
     ]
    },
    {
     "name": "stderr",
     "output_type": "stream",
     "text": [
      "[Parallel(n_jobs=2)]: Done 128 out of 128 | elapsed:    0.0s finished\n"
     ]
    },
    {
     "name": "stdout",
     "output_type": "stream",
     "text": [
      "Using all PCA components: 128\n",
      "<ICA  |  raw data decomposition, fit (fastica): 171 samples, 128 components, channels used: \"eeg\">\n",
      "Transforming to ICA space (128 components)\n",
      "Zeroing out 5 ICA components\n",
      "Creating RawArray with float64 data, n_channels=128, n_times=768\n",
      "    Range : 0 ... 767 =      0.000 ...     2.996 secs\n",
      "Ready.\n",
      "Setting up band-pass filter from 1 - 40 Hz\n",
      "fir_design defaults to \"firwin2\" in 0.15 but will change to \"firwin\" in 0.16, set it explicitly to avoid this warning.\n",
      "l_trans_bandwidth chosen to be 1.0 Hz\n",
      "h_trans_bandwidth chosen to be 10.0 Hz\n",
      "Filter length of 1690 samples (6.602 sec) selected\n",
      "filter_length (1691) is longer than the signal (768), distortion is likely. Reduce filter length or filter a longer signal.\n"
     ]
    },
    {
     "name": "stderr",
     "output_type": "stream",
     "text": [
      "/home/stakar/Studia/kogni/Magisterka/code/bieg.py:98: DeprecationWarning: fir_design defaults to \"firwin2\" in 0.15 but will change to \"firwin\" in 0.16, set it explicitly to avoid this warning.\n",
      "  self.raw.filter(filter[0], filter[1], n_jobs=2)\n",
      "/home/stakar/Studia/kogni/Magisterka/code/bieg.py:98: RuntimeWarning: filter_length (1691) is longer than the signal (768), distortion is likely. Reduce filter length or filter a longer signal.\n",
      "  self.raw.filter(filter[0], filter[1], n_jobs=2)\n"
     ]
    },
    {
     "name": "stdout",
     "output_type": "stream",
     "text": [
      "<ICA  |  no decomposition, fit (fastica):  samples, no dimension reduction>\n",
      "Fitting ICA to data using 128 channels. \n",
      "Please be patient, this may take some time\n",
      "Inferring max_pca_components from picks.\n"
     ]
    },
    {
     "name": "stderr",
     "output_type": "stream",
     "text": [
      "[Parallel(n_jobs=2)]: Done 128 out of 128 | elapsed:    0.1s finished\n"
     ]
    },
    {
     "name": "stdout",
     "output_type": "stream",
     "text": [
      "Using all PCA components: 128\n",
      "<ICA  |  raw data decomposition, fit (fastica): 171 samples, 128 components, channels used: \"eeg\">\n",
      "Creating RawArray with float64 data, n_channels=128, n_times=768\n",
      "    Range : 0 ... 767 =      0.000 ...     2.996 secs\n",
      "Ready.\n",
      "Setting up band-pass filter from 1 - 40 Hz\n",
      "fir_design defaults to \"firwin2\" in 0.15 but will change to \"firwin\" in 0.16, set it explicitly to avoid this warning.\n",
      "l_trans_bandwidth chosen to be 1.0 Hz\n",
      "h_trans_bandwidth chosen to be 10.0 Hz\n",
      "Filter length of 1690 samples (6.602 sec) selected\n",
      "filter_length (1691) is longer than the signal (768), distortion is likely. Reduce filter length or filter a longer signal.\n"
     ]
    },
    {
     "name": "stderr",
     "output_type": "stream",
     "text": [
      "/home/stakar/Studia/kogni/Magisterka/code/bieg.py:98: DeprecationWarning: fir_design defaults to \"firwin2\" in 0.15 but will change to \"firwin\" in 0.16, set it explicitly to avoid this warning.\n",
      "  self.raw.filter(filter[0], filter[1], n_jobs=2)\n",
      "/home/stakar/Studia/kogni/Magisterka/code/bieg.py:98: RuntimeWarning: filter_length (1691) is longer than the signal (768), distortion is likely. Reduce filter length or filter a longer signal.\n",
      "  self.raw.filter(filter[0], filter[1], n_jobs=2)\n",
      "[Parallel(n_jobs=2)]: Done 128 out of 128 | elapsed:    0.0s finished\n"
     ]
    },
    {
     "name": "stdout",
     "output_type": "stream",
     "text": [
      "<ICA  |  no decomposition, fit (fastica):  samples, no dimension reduction>\n",
      "Fitting ICA to data using 128 channels. \n",
      "Please be patient, this may take some time\n",
      "Inferring max_pca_components from picks.\n",
      "Using all PCA components: 128\n",
      "<ICA  |  raw data decomposition, fit (fastica): 171 samples, 128 components, channels used: \"eeg\">\n",
      "Transforming to ICA space (128 components)\n",
      "Zeroing out 5 ICA components\n",
      "Creating RawArray with float64 data, n_channels=128, n_times=768\n",
      "    Range : 0 ... 767 =      0.000 ...     2.996 secs\n",
      "Ready.\n",
      "Setting up band-pass filter from 1 - 40 Hz\n",
      "fir_design defaults to \"firwin2\" in 0.15 but will change to \"firwin\" in 0.16, set it explicitly to avoid this warning.\n",
      "l_trans_bandwidth chosen to be 1.0 Hz\n",
      "h_trans_bandwidth chosen to be 10.0 Hz\n",
      "Filter length of 1690 samples (6.602 sec) selected\n",
      "filter_length (1691) is longer than the signal (768), distortion is likely. Reduce filter length or filter a longer signal.\n"
     ]
    },
    {
     "name": "stderr",
     "output_type": "stream",
     "text": [
      "/home/stakar/Studia/kogni/Magisterka/code/bieg.py:98: DeprecationWarning: fir_design defaults to \"firwin2\" in 0.15 but will change to \"firwin\" in 0.16, set it explicitly to avoid this warning.\n",
      "  self.raw.filter(filter[0], filter[1], n_jobs=2)\n",
      "/home/stakar/Studia/kogni/Magisterka/code/bieg.py:98: RuntimeWarning: filter_length (1691) is longer than the signal (768), distortion is likely. Reduce filter length or filter a longer signal.\n",
      "  self.raw.filter(filter[0], filter[1], n_jobs=2)\n"
     ]
    },
    {
     "name": "stdout",
     "output_type": "stream",
     "text": [
      "<ICA  |  no decomposition, fit (fastica):  samples, no dimension reduction>"
     ]
    },
    {
     "name": "stderr",
     "output_type": "stream",
     "text": [
      "[Parallel(n_jobs=2)]: Done 128 out of 128 | elapsed:    0.0s finished\n"
     ]
    },
    {
     "name": "stdout",
     "output_type": "stream",
     "text": [
      "\n",
      "Fitting ICA to data using 128 channels. \n",
      "Please be patient, this may take some time\n",
      "Inferring max_pca_components from picks.\n",
      "Using all PCA components: 128\n",
      "<ICA  |  raw data decomposition, fit (fastica): 171 samples, 128 components, channels used: \"eeg\">\n",
      "Creating RawArray with float64 data, n_channels=128, n_times=768\n",
      "    Range : 0 ... 767 =      0.000 ...     2.996 secs\n",
      "Ready.\n",
      "Setting up band-pass filter from 1 - 40 Hz\n",
      "fir_design defaults to \"firwin2\" in 0.15 but will change to \"firwin\" in 0.16, set it explicitly to avoid this warning.\n",
      "l_trans_bandwidth chosen to be 1.0 Hz\n",
      "h_trans_bandwidth chosen to be 10.0 Hz\n",
      "Filter length of 1690 samples (6.602 sec) selected\n",
      "filter_length (1691) is longer than the signal (768), distortion is likely. Reduce filter length or filter a longer signal.\n"
     ]
    },
    {
     "name": "stderr",
     "output_type": "stream",
     "text": [
      "/home/stakar/Studia/kogni/Magisterka/code/bieg.py:98: DeprecationWarning: fir_design defaults to \"firwin2\" in 0.15 but will change to \"firwin\" in 0.16, set it explicitly to avoid this warning.\n",
      "  self.raw.filter(filter[0], filter[1], n_jobs=2)\n",
      "/home/stakar/Studia/kogni/Magisterka/code/bieg.py:98: RuntimeWarning: filter_length (1691) is longer than the signal (768), distortion is likely. Reduce filter length or filter a longer signal.\n",
      "  self.raw.filter(filter[0], filter[1], n_jobs=2)\n"
     ]
    },
    {
     "name": "stdout",
     "output_type": "stream",
     "text": [
      "<ICA  |  no decomposition, fit (fastica):  samples, no dimension reduction>\n",
      "Fitting ICA to data using 128 channels. \n",
      "Please be patient, this may take some time\n",
      "Inferring max_pca_components from picks.\n"
     ]
    },
    {
     "name": "stderr",
     "output_type": "stream",
     "text": [
      "[Parallel(n_jobs=2)]: Done 128 out of 128 | elapsed:    0.0s finished\n"
     ]
    },
    {
     "name": "stdout",
     "output_type": "stream",
     "text": [
      "Using all PCA components: 128\n",
      "<ICA  |  raw data decomposition, fit (fastica): 171 samples, 128 components, channels used: \"eeg\">\n",
      "Transforming to ICA space (128 components)\n",
      "Zeroing out 5 ICA components\n",
      "Creating RawArray with float64 data, n_channels=128, n_times=768\n",
      "    Range : 0 ... 767 =      0.000 ...     2.996 secs\n",
      "Ready.\n",
      "Setting up band-pass filter from 1 - 40 Hz\n",
      "fir_design defaults to \"firwin2\" in 0.15 but will change to \"firwin\" in 0.16, set it explicitly to avoid this warning.\n",
      "l_trans_bandwidth chosen to be 1.0 Hz\n",
      "h_trans_bandwidth chosen to be 10.0 Hz\n",
      "Filter length of 1690 samples (6.602 sec) selected\n",
      "filter_length (1691) is longer than the signal (768), distortion is likely. Reduce filter length or filter a longer signal.\n"
     ]
    },
    {
     "name": "stderr",
     "output_type": "stream",
     "text": [
      "/home/stakar/Studia/kogni/Magisterka/code/bieg.py:98: DeprecationWarning: fir_design defaults to \"firwin2\" in 0.15 but will change to \"firwin\" in 0.16, set it explicitly to avoid this warning.\n",
      "  self.raw.filter(filter[0], filter[1], n_jobs=2)\n",
      "/home/stakar/Studia/kogni/Magisterka/code/bieg.py:98: RuntimeWarning: filter_length (1691) is longer than the signal (768), distortion is likely. Reduce filter length or filter a longer signal.\n",
      "  self.raw.filter(filter[0], filter[1], n_jobs=2)\n"
     ]
    },
    {
     "name": "stdout",
     "output_type": "stream",
     "text": [
      "<ICA  |  no decomposition, fit (fastica):  samples, no dimension reduction>\n",
      "Fitting ICA to data using 128 channels. \n",
      "Please be patient, this may take some time\n",
      "Inferring max_pca_components from picks.\n"
     ]
    },
    {
     "name": "stderr",
     "output_type": "stream",
     "text": [
      "[Parallel(n_jobs=2)]: Done 128 out of 128 | elapsed:    0.0s finished\n"
     ]
    },
    {
     "name": "stdout",
     "output_type": "stream",
     "text": [
      "Using all PCA components: 128\n",
      "<ICA  |  raw data decomposition, fit (fastica): 171 samples, 128 components, channels used: \"eeg\">\n",
      "Creating RawArray with float64 data, n_channels=128, n_times=768\n",
      "    Range : 0 ... 767 =      0.000 ...     2.996 secs\n",
      "Ready.\n",
      "Setting up band-pass filter from 1 - 40 Hz\n",
      "fir_design defaults to \"firwin2\" in 0.15 but will change to \"firwin\" in 0.16, set it explicitly to avoid this warning.\n",
      "l_trans_bandwidth chosen to be 1.0 Hz\n",
      "h_trans_bandwidth chosen to be 10.0 Hz\n",
      "Filter length of 1690 samples (6.602 sec) selected\n",
      "filter_length (1691) is longer than the signal (768), distortion is likely. Reduce filter length or filter a longer signal.\n"
     ]
    },
    {
     "name": "stderr",
     "output_type": "stream",
     "text": [
      "/home/stakar/Studia/kogni/Magisterka/code/bieg.py:98: DeprecationWarning: fir_design defaults to \"firwin2\" in 0.15 but will change to \"firwin\" in 0.16, set it explicitly to avoid this warning.\n",
      "  self.raw.filter(filter[0], filter[1], n_jobs=2)\n",
      "/home/stakar/Studia/kogni/Magisterka/code/bieg.py:98: RuntimeWarning: filter_length (1691) is longer than the signal (768), distortion is likely. Reduce filter length or filter a longer signal.\n",
      "  self.raw.filter(filter[0], filter[1], n_jobs=2)\n"
     ]
    },
    {
     "name": "stdout",
     "output_type": "stream",
     "text": [
      "<ICA  |  no decomposition, fit (fastica):  samples, no dimension reduction>\n",
      "Fitting ICA to data using 128 channels. \n",
      "Please be patient, this may take some time\n",
      "Inferring max_pca_components from picks.\n"
     ]
    },
    {
     "name": "stderr",
     "output_type": "stream",
     "text": [
      "[Parallel(n_jobs=2)]: Done 128 out of 128 | elapsed:    0.0s finished\n"
     ]
    },
    {
     "name": "stdout",
     "output_type": "stream",
     "text": [
      "Using all PCA components: 128\n",
      "<ICA  |  raw data decomposition, fit (fastica): 171 samples, 128 components, channels used: \"eeg\">\n",
      "Transforming to ICA space (128 components)\n",
      "Zeroing out 5 ICA components\n",
      "Creating RawArray with float64 data, n_channels=128, n_times=768\n",
      "    Range : 0 ... 767 =      0.000 ...     2.996 secs\n",
      "Ready.\n",
      "Setting up band-pass filter from 1 - 40 Hz\n",
      "fir_design defaults to \"firwin2\" in 0.15 but will change to \"firwin\" in 0.16, set it explicitly to avoid this warning.\n",
      "l_trans_bandwidth chosen to be 1.0 Hz\n",
      "h_trans_bandwidth chosen to be 10.0 Hz\n",
      "Filter length of 1690 samples (6.602 sec) selected\n",
      "filter_length (1691) is longer than the signal (768), distortion is likely. Reduce filter length or filter a longer signal.\n"
     ]
    },
    {
     "name": "stderr",
     "output_type": "stream",
     "text": [
      "/home/stakar/Studia/kogni/Magisterka/code/bieg.py:98: DeprecationWarning: fir_design defaults to \"firwin2\" in 0.15 but will change to \"firwin\" in 0.16, set it explicitly to avoid this warning.\n",
      "  self.raw.filter(filter[0], filter[1], n_jobs=2)\n",
      "/home/stakar/Studia/kogni/Magisterka/code/bieg.py:98: RuntimeWarning: filter_length (1691) is longer than the signal (768), distortion is likely. Reduce filter length or filter a longer signal.\n",
      "  self.raw.filter(filter[0], filter[1], n_jobs=2)\n"
     ]
    },
    {
     "name": "stdout",
     "output_type": "stream",
     "text": [
      "<ICA  |  no decomposition, fit (fastica):  samples, no dimension reduction>\n",
      "Fitting ICA to data using 128 channels. \n",
      "Please be patient, this may take some time\n",
      "Inferring max_pca_components from picks.\n"
     ]
    },
    {
     "name": "stderr",
     "output_type": "stream",
     "text": [
      "[Parallel(n_jobs=2)]: Done 128 out of 128 | elapsed:    0.0s finished\n"
     ]
    },
    {
     "name": "stdout",
     "output_type": "stream",
     "text": [
      "Using all PCA components: 128\n",
      "<ICA  |  raw data decomposition, fit (fastica): 171 samples, 128 components, channels used: \"eeg\">\n",
      "Creating RawArray with float64 data, n_channels=128, n_times=768\n",
      "    Range : 0 ... 767 =      0.000 ...     2.996 secs\n",
      "Ready.\n",
      "Setting up band-pass filter from 1 - 40 Hz\n",
      "fir_design defaults to \"firwin2\" in 0.15 but will change to \"firwin\" in 0.16, set it explicitly to avoid this warning.\n",
      "l_trans_bandwidth chosen to be 1.0 Hz\n",
      "h_trans_bandwidth chosen to be 10.0 Hz\n",
      "Filter length of 1690 samples (6.602 sec) selected\n",
      "filter_length (1691) is longer than the signal (768), distortion is likely. Reduce filter length or filter a longer signal.\n"
     ]
    },
    {
     "name": "stderr",
     "output_type": "stream",
     "text": [
      "/home/stakar/Studia/kogni/Magisterka/code/bieg.py:98: DeprecationWarning: fir_design defaults to \"firwin2\" in 0.15 but will change to \"firwin\" in 0.16, set it explicitly to avoid this warning.\n",
      "  self.raw.filter(filter[0], filter[1], n_jobs=2)\n",
      "/home/stakar/Studia/kogni/Magisterka/code/bieg.py:98: RuntimeWarning: filter_length (1691) is longer than the signal (768), distortion is likely. Reduce filter length or filter a longer signal.\n",
      "  self.raw.filter(filter[0], filter[1], n_jobs=2)\n",
      "[Parallel(n_jobs=2)]: Done 128 out of 128 | elapsed:    0.1s finished\n"
     ]
    },
    {
     "name": "stdout",
     "output_type": "stream",
     "text": [
      "<ICA  |  no decomposition, fit (fastica):  samples, no dimension reduction>\n",
      "Fitting ICA to data using 128 channels. \n",
      "Please be patient, this may take some time\n",
      "Inferring max_pca_components from picks.\n",
      "Using all PCA components: 128\n",
      "<ICA  |  raw data decomposition, fit (fastica): 171 samples, 128 components, channels used: \"eeg\">\n",
      "Transforming to ICA space (128 components)\n",
      "Zeroing out 5 ICA components\n",
      "Creating RawArray with float64 data, n_channels=128, n_times=768\n",
      "    Range : 0 ... 767 =      0.000 ...     2.996 secs\n",
      "Ready.\n",
      "Setting up band-pass filter from 1 - 40 Hz\n",
      "fir_design defaults to \"firwin2\" in 0.15 but will change to \"firwin\" in 0.16, set it explicitly to avoid this warning.\n",
      "l_trans_bandwidth chosen to be 1.0 Hz\n",
      "h_trans_bandwidth chosen to be 10.0 Hz\n",
      "Filter length of 1690 samples (6.602 sec) selected\n",
      "filter_length (1691) is longer than the signal (768), distortion is likely. Reduce filter length or filter a longer signal.\n"
     ]
    },
    {
     "name": "stderr",
     "output_type": "stream",
     "text": [
      "/home/stakar/Studia/kogni/Magisterka/code/bieg.py:98: DeprecationWarning: fir_design defaults to \"firwin2\" in 0.15 but will change to \"firwin\" in 0.16, set it explicitly to avoid this warning.\n",
      "  self.raw.filter(filter[0], filter[1], n_jobs=2)\n",
      "/home/stakar/Studia/kogni/Magisterka/code/bieg.py:98: RuntimeWarning: filter_length (1691) is longer than the signal (768), distortion is likely. Reduce filter length or filter a longer signal.\n",
      "  self.raw.filter(filter[0], filter[1], n_jobs=2)\n"
     ]
    },
    {
     "name": "stdout",
     "output_type": "stream",
     "text": [
      "<ICA  |  no decomposition, fit (fastica):  samples, no dimension reduction>\n",
      "Fitting ICA to data using 128 channels. \n",
      "Please be patient, this may take some time\n",
      "Inferring max_pca_components from picks.\n"
     ]
    },
    {
     "name": "stderr",
     "output_type": "stream",
     "text": [
      "[Parallel(n_jobs=2)]: Done 128 out of 128 | elapsed:    0.1s finished\n"
     ]
    },
    {
     "name": "stdout",
     "output_type": "stream",
     "text": [
      "Using all PCA components: 128\n",
      "<ICA  |  raw data decomposition, fit (fastica): 171 samples, 128 components, channels used: \"eeg\">\n",
      "Creating RawArray with float64 data, n_channels=128, n_times=768\n",
      "    Range : 0 ... 767 =      0.000 ...     2.996 secs\n",
      "Ready.\n",
      "Setting up band-pass filter from 1 - 40 Hz\n",
      "fir_design defaults to \"firwin2\" in 0.15 but will change to \"firwin\" in 0.16, set it explicitly to avoid this warning.\n",
      "l_trans_bandwidth chosen to be 1.0 Hz\n",
      "h_trans_bandwidth chosen to be 10.0 Hz\n",
      "Filter length of 1690 samples (6.602 sec) selected\n",
      "filter_length (1691) is longer than the signal (768), distortion is likely. Reduce filter length or filter a longer signal.\n"
     ]
    },
    {
     "name": "stderr",
     "output_type": "stream",
     "text": [
      "/home/stakar/Studia/kogni/Magisterka/code/bieg.py:98: DeprecationWarning: fir_design defaults to \"firwin2\" in 0.15 but will change to \"firwin\" in 0.16, set it explicitly to avoid this warning.\n",
      "  self.raw.filter(filter[0], filter[1], n_jobs=2)\n",
      "/home/stakar/Studia/kogni/Magisterka/code/bieg.py:98: RuntimeWarning: filter_length (1691) is longer than the signal (768), distortion is likely. Reduce filter length or filter a longer signal.\n",
      "  self.raw.filter(filter[0], filter[1], n_jobs=2)\n"
     ]
    },
    {
     "name": "stdout",
     "output_type": "stream",
     "text": [
      "<ICA  |  no decomposition, fit (fastica):  samples, no dimension reduction>\n",
      "Fitting ICA to data using 128 channels. \n",
      "Please be patient, this may take some time\n"
     ]
    },
    {
     "name": "stderr",
     "output_type": "stream",
     "text": [
      "[Parallel(n_jobs=2)]: Done 128 out of 128 | elapsed:    0.1s finished\n"
     ]
    },
    {
     "name": "stdout",
     "output_type": "stream",
     "text": [
      "Inferring max_pca_components from picks.\n",
      "Using all PCA components: 128\n",
      "<ICA  |  raw data decomposition, fit (fastica): 171 samples, 128 components, channels used: \"eeg\">\n",
      "Transforming to ICA space (128 components)\n",
      "Zeroing out 5 ICA components\n",
      "Creating RawArray with float64 data, n_channels=128, n_times=768\n",
      "    Range : 0 ... 767 =      0.000 ...     2.996 secs\n",
      "Ready.\n",
      "Setting up band-pass filter from 1 - 40 Hz\n",
      "fir_design defaults to \"firwin2\" in 0.15 but will change to \"firwin\" in 0.16, set it explicitly to avoid this warning.\n",
      "l_trans_bandwidth chosen to be 1.0 Hz\n",
      "h_trans_bandwidth chosen to be 10.0 Hz\n",
      "Filter length of 1690 samples (6.602 sec) selected\n",
      "filter_length (1691) is longer than the signal (768), distortion is likely. Reduce filter length or filter a longer signal.\n"
     ]
    },
    {
     "name": "stderr",
     "output_type": "stream",
     "text": [
      "/home/stakar/Studia/kogni/Magisterka/code/bieg.py:98: DeprecationWarning: fir_design defaults to \"firwin2\" in 0.15 but will change to \"firwin\" in 0.16, set it explicitly to avoid this warning.\n",
      "  self.raw.filter(filter[0], filter[1], n_jobs=2)\n",
      "/home/stakar/Studia/kogni/Magisterka/code/bieg.py:98: RuntimeWarning: filter_length (1691) is longer than the signal (768), distortion is likely. Reduce filter length or filter a longer signal.\n",
      "  self.raw.filter(filter[0], filter[1], n_jobs=2)\n"
     ]
    },
    {
     "name": "stdout",
     "output_type": "stream",
     "text": [
      "<ICA  |  no decomposition, fit (fastica):  samples, no dimension reduction>\n",
      "Fitting ICA to data using 128 channels. \n",
      "Please be patient, this may take some time"
     ]
    },
    {
     "name": "stderr",
     "output_type": "stream",
     "text": [
      "[Parallel(n_jobs=2)]: Done 128 out of 128 | elapsed:    0.0s finished\n"
     ]
    },
    {
     "name": "stdout",
     "output_type": "stream",
     "text": [
      "\n",
      "Inferring max_pca_components from picks.\n",
      "Using all PCA components: 128\n",
      "<ICA  |  raw data decomposition, fit (fastica): 171 samples, 128 components, channels used: \"eeg\">\n",
      "Creating RawArray with float64 data, n_channels=128, n_times=768\n",
      "    Range : 0 ... 767 =      0.000 ...     2.996 secs\n",
      "Ready.\n",
      "Setting up band-pass filter from 1 - 40 Hz\n",
      "fir_design defaults to \"firwin2\" in 0.15 but will change to \"firwin\" in 0.16, set it explicitly to avoid this warning.\n",
      "l_trans_bandwidth chosen to be 1.0 Hz\n",
      "h_trans_bandwidth chosen to be 10.0 Hz\n",
      "Filter length of 1690 samples (6.602 sec) selected\n",
      "filter_length (1691) is longer than the signal (768), distortion is likely. Reduce filter length or filter a longer signal.\n"
     ]
    },
    {
     "name": "stderr",
     "output_type": "stream",
     "text": [
      "/home/stakar/Studia/kogni/Magisterka/code/bieg.py:98: DeprecationWarning: fir_design defaults to \"firwin2\" in 0.15 but will change to \"firwin\" in 0.16, set it explicitly to avoid this warning.\n",
      "  self.raw.filter(filter[0], filter[1], n_jobs=2)\n",
      "/home/stakar/Studia/kogni/Magisterka/code/bieg.py:98: RuntimeWarning: filter_length (1691) is longer than the signal (768), distortion is likely. Reduce filter length or filter a longer signal.\n",
      "  self.raw.filter(filter[0], filter[1], n_jobs=2)\n"
     ]
    },
    {
     "name": "stdout",
     "output_type": "stream",
     "text": [
      "<ICA  |  no decomposition, fit (fastica):  samples, no dimension reduction>\n",
      "Fitting ICA to data using 128 channels. \n",
      "Please be patient, this may take some time\n",
      "Inferring max_pca_components from picks.\n"
     ]
    },
    {
     "name": "stderr",
     "output_type": "stream",
     "text": [
      "[Parallel(n_jobs=2)]: Done 128 out of 128 | elapsed:    0.0s finished\n"
     ]
    },
    {
     "name": "stdout",
     "output_type": "stream",
     "text": [
      "Using all PCA components: 128\n",
      "<ICA  |  raw data decomposition, fit (fastica): 171 samples, 128 components, channels used: \"eeg\">\n",
      "Transforming to ICA space (128 components)\n",
      "Zeroing out 5 ICA components\n",
      "Creating RawArray with float64 data, n_channels=128, n_times=768\n",
      "    Range : 0 ... 767 =      0.000 ...     2.996 secs\n",
      "Ready.\n",
      "Setting up band-pass filter from 1 - 40 Hz\n",
      "fir_design defaults to \"firwin2\" in 0.15 but will change to \"firwin\" in 0.16, set it explicitly to avoid this warning.\n",
      "l_trans_bandwidth chosen to be 1.0 Hz\n",
      "h_trans_bandwidth chosen to be 10.0 Hz\n",
      "Filter length of 1690 samples (6.602 sec) selected\n",
      "filter_length (1691) is longer than the signal (768), distortion is likely. Reduce filter length or filter a longer signal.\n"
     ]
    },
    {
     "name": "stderr",
     "output_type": "stream",
     "text": [
      "/home/stakar/Studia/kogni/Magisterka/code/bieg.py:98: DeprecationWarning: fir_design defaults to \"firwin2\" in 0.15 but will change to \"firwin\" in 0.16, set it explicitly to avoid this warning.\n",
      "  self.raw.filter(filter[0], filter[1], n_jobs=2)\n",
      "/home/stakar/Studia/kogni/Magisterka/code/bieg.py:98: RuntimeWarning: filter_length (1691) is longer than the signal (768), distortion is likely. Reduce filter length or filter a longer signal.\n",
      "  self.raw.filter(filter[0], filter[1], n_jobs=2)\n"
     ]
    },
    {
     "name": "stdout",
     "output_type": "stream",
     "text": [
      "<ICA  |  no decomposition, fit (fastica):  samples, no dimension reduction>\n",
      "Fitting ICA to data using 128 channels. \n",
      "Please be patient, this may take some time\n",
      "Inferring max_pca_components from picks.\n"
     ]
    },
    {
     "name": "stderr",
     "output_type": "stream",
     "text": [
      "[Parallel(n_jobs=2)]: Done 128 out of 128 | elapsed:    0.0s finished\n"
     ]
    },
    {
     "name": "stdout",
     "output_type": "stream",
     "text": [
      "Using all PCA components: 128\n",
      "<ICA  |  raw data decomposition, fit (fastica): 171 samples, 128 components, channels used: \"eeg\">\n",
      "Creating RawArray with float64 data, n_channels=128, n_times=768\n",
      "    Range : 0 ... 767 =      0.000 ...     2.996 secs\n",
      "Ready.\n",
      "Setting up band-pass filter from 1 - 40 Hz\n",
      "fir_design defaults to \"firwin2\" in 0.15 but will change to \"firwin\" in 0.16, set it explicitly to avoid this warning.\n",
      "l_trans_bandwidth chosen to be 1.0 Hz\n",
      "h_trans_bandwidth chosen to be 10.0 Hz\n",
      "Filter length of 1690 samples (6.602 sec) selected\n",
      "filter_length (1691) is longer than the signal (768), distortion is likely. Reduce filter length or filter a longer signal.\n"
     ]
    },
    {
     "name": "stderr",
     "output_type": "stream",
     "text": [
      "/home/stakar/Studia/kogni/Magisterka/code/bieg.py:98: DeprecationWarning: fir_design defaults to \"firwin2\" in 0.15 but will change to \"firwin\" in 0.16, set it explicitly to avoid this warning.\n",
      "  self.raw.filter(filter[0], filter[1], n_jobs=2)\n",
      "/home/stakar/Studia/kogni/Magisterka/code/bieg.py:98: RuntimeWarning: filter_length (1691) is longer than the signal (768), distortion is likely. Reduce filter length or filter a longer signal.\n",
      "  self.raw.filter(filter[0], filter[1], n_jobs=2)\n"
     ]
    },
    {
     "name": "stdout",
     "output_type": "stream",
     "text": [
      "<ICA  |  no decomposition, fit (fastica):  samples, no dimension reduction>\n",
      "Fitting ICA to data using 128 channels. \n",
      "Please be patient, this may take some time\n",
      "Inferring max_pca_components from picks.\n"
     ]
    },
    {
     "name": "stderr",
     "output_type": "stream",
     "text": [
      "[Parallel(n_jobs=2)]: Done 128 out of 128 | elapsed:    0.0s finished\n"
     ]
    },
    {
     "name": "stdout",
     "output_type": "stream",
     "text": [
      "Using all PCA components: 128\n",
      "<ICA  |  raw data decomposition, fit (fastica): 171 samples, 128 components, channels used: \"eeg\">\n",
      "Transforming to ICA space (128 components)\n",
      "Zeroing out 5 ICA components\n",
      "Creating RawArray with float64 data, n_channels=128, n_times=768\n",
      "    Range : 0 ... 767 =      0.000 ...     2.996 secs\n",
      "Ready.\n",
      "Setting up band-pass filter from 1 - 40 Hz\n",
      "fir_design defaults to \"firwin2\" in 0.15 but will change to \"firwin\" in 0.16, set it explicitly to avoid this warning.\n",
      "l_trans_bandwidth chosen to be 1.0 Hz\n",
      "h_trans_bandwidth chosen to be 10.0 Hz\n",
      "Filter length of 1690 samples (6.602 sec) selected\n",
      "filter_length (1691) is longer than the signal (768), distortion is likely. Reduce filter length or filter a longer signal.\n"
     ]
    },
    {
     "name": "stderr",
     "output_type": "stream",
     "text": [
      "/home/stakar/Studia/kogni/Magisterka/code/bieg.py:98: DeprecationWarning: fir_design defaults to \"firwin2\" in 0.15 but will change to \"firwin\" in 0.16, set it explicitly to avoid this warning.\n",
      "  self.raw.filter(filter[0], filter[1], n_jobs=2)\n",
      "/home/stakar/Studia/kogni/Magisterka/code/bieg.py:98: RuntimeWarning: filter_length (1691) is longer than the signal (768), distortion is likely. Reduce filter length or filter a longer signal.\n",
      "  self.raw.filter(filter[0], filter[1], n_jobs=2)\n"
     ]
    },
    {
     "name": "stdout",
     "output_type": "stream",
     "text": [
      "<ICA  |  no decomposition, fit (fastica):  samples, no dimension reduction>\n",
      "Fitting ICA to data using 128 channels. \n",
      "Please be patient, this may take some time\n",
      "Inferring max_pca_components from picks.\n"
     ]
    },
    {
     "name": "stderr",
     "output_type": "stream",
     "text": [
      "[Parallel(n_jobs=2)]: Done 128 out of 128 | elapsed:    0.0s finished\n"
     ]
    },
    {
     "name": "stdout",
     "output_type": "stream",
     "text": [
      "Using all PCA components: 128\n",
      "<ICA  |  raw data decomposition, fit (fastica): 171 samples, 128 components, channels used: \"eeg\">\n",
      "Creating RawArray with float64 data, n_channels=128, n_times=768\n",
      "    Range : 0 ... 767 =      0.000 ...     2.996 secs\n",
      "Ready.\n",
      "Setting up band-pass filter from 1 - 40 Hz\n",
      "fir_design defaults to \"firwin2\" in 0.15 but will change to \"firwin\" in 0.16, set it explicitly to avoid this warning.\n",
      "l_trans_bandwidth chosen to be 1.0 Hz\n",
      "h_trans_bandwidth chosen to be 10.0 Hz\n",
      "Filter length of 1690 samples (6.602 sec) selected\n",
      "filter_length (1691) is longer than the signal (768), distortion is likely. Reduce filter length or filter a longer signal.\n"
     ]
    },
    {
     "name": "stderr",
     "output_type": "stream",
     "text": [
      "/home/stakar/Studia/kogni/Magisterka/code/bieg.py:98: DeprecationWarning: fir_design defaults to \"firwin2\" in 0.15 but will change to \"firwin\" in 0.16, set it explicitly to avoid this warning.\n",
      "  self.raw.filter(filter[0], filter[1], n_jobs=2)\n",
      "/home/stakar/Studia/kogni/Magisterka/code/bieg.py:98: RuntimeWarning: filter_length (1691) is longer than the signal (768), distortion is likely. Reduce filter length or filter a longer signal.\n",
      "  self.raw.filter(filter[0], filter[1], n_jobs=2)\n"
     ]
    },
    {
     "name": "stdout",
     "output_type": "stream",
     "text": [
      "<ICA  |  no decomposition, fit (fastica):  samples, no dimension reduction>\n",
      "Fitting ICA to data using 128 channels. \n",
      "Please be patient, this may take some time\n",
      "Inferring max_pca_components from picks.\n"
     ]
    },
    {
     "name": "stderr",
     "output_type": "stream",
     "text": [
      "[Parallel(n_jobs=2)]: Done 128 out of 128 | elapsed:    0.0s finished\n"
     ]
    },
    {
     "name": "stdout",
     "output_type": "stream",
     "text": [
      "Using all PCA components: 128\n",
      "<ICA  |  raw data decomposition, fit (fastica): 171 samples, 128 components, channels used: \"eeg\">\n",
      "Transforming to ICA space (128 components)\n",
      "Zeroing out 5 ICA components\n",
      "Creating RawArray with float64 data, n_channels=128, n_times=768\n",
      "    Range : 0 ... 767 =      0.000 ...     2.996 secs\n",
      "Ready.\n",
      "Setting up band-pass filter from 1 - 40 Hz\n",
      "fir_design defaults to \"firwin2\" in 0.15 but will change to \"firwin\" in 0.16, set it explicitly to avoid this warning.\n",
      "l_trans_bandwidth chosen to be 1.0 Hz\n",
      "h_trans_bandwidth chosen to be 10.0 Hz\n",
      "Filter length of 1690 samples (6.602 sec) selected\n",
      "filter_length (1691) is longer than the signal (768), distortion is likely. Reduce filter length or filter a longer signal.\n"
     ]
    },
    {
     "name": "stderr",
     "output_type": "stream",
     "text": [
      "/home/stakar/Studia/kogni/Magisterka/code/bieg.py:98: DeprecationWarning: fir_design defaults to \"firwin2\" in 0.15 but will change to \"firwin\" in 0.16, set it explicitly to avoid this warning.\n",
      "  self.raw.filter(filter[0], filter[1], n_jobs=2)\n",
      "/home/stakar/Studia/kogni/Magisterka/code/bieg.py:98: RuntimeWarning: filter_length (1691) is longer than the signal (768), distortion is likely. Reduce filter length or filter a longer signal.\n",
      "  self.raw.filter(filter[0], filter[1], n_jobs=2)\n"
     ]
    },
    {
     "name": "stdout",
     "output_type": "stream",
     "text": [
      "<ICA  |  no decomposition, fit (fastica):  samples, no dimension reduction>\n",
      "Fitting ICA to data using 128 channels. \n",
      "Please be patient, this may take some time\n",
      "Inferring max_pca_components from picks.\n"
     ]
    },
    {
     "name": "stderr",
     "output_type": "stream",
     "text": [
      "[Parallel(n_jobs=2)]: Done 128 out of 128 | elapsed:    0.0s finished\n"
     ]
    },
    {
     "name": "stdout",
     "output_type": "stream",
     "text": [
      "Using all PCA components: 128\n",
      "<ICA  |  raw data decomposition, fit (fastica): 171 samples, 128 components, channels used: \"eeg\">\n",
      "Creating RawArray with float64 data, n_channels=128, n_times=768\n",
      "    Range : 0 ... 767 =      0.000 ...     2.996 secs\n",
      "Ready.\n",
      "Setting up band-pass filter from 1 - 40 Hz\n",
      "fir_design defaults to \"firwin2\" in 0.15 but will change to \"firwin\" in 0.16, set it explicitly to avoid this warning.\n",
      "l_trans_bandwidth chosen to be 1.0 Hz\n",
      "h_trans_bandwidth chosen to be 10.0 Hz\n",
      "Filter length of 1690 samples (6.602 sec) selected\n",
      "filter_length (1691) is longer than the signal (768), distortion is likely. Reduce filter length or filter a longer signal.\n"
     ]
    },
    {
     "name": "stderr",
     "output_type": "stream",
     "text": [
      "/home/stakar/Studia/kogni/Magisterka/code/bieg.py:98: DeprecationWarning: fir_design defaults to \"firwin2\" in 0.15 but will change to \"firwin\" in 0.16, set it explicitly to avoid this warning.\n",
      "  self.raw.filter(filter[0], filter[1], n_jobs=2)\n",
      "/home/stakar/Studia/kogni/Magisterka/code/bieg.py:98: RuntimeWarning: filter_length (1691) is longer than the signal (768), distortion is likely. Reduce filter length or filter a longer signal.\n",
      "  self.raw.filter(filter[0], filter[1], n_jobs=2)\n"
     ]
    },
    {
     "name": "stdout",
     "output_type": "stream",
     "text": [
      "<ICA  |  no decomposition, fit (fastica):  samples, no dimension reduction>\n",
      "Fitting ICA to data using 128 channels. \n",
      "Please be patient, this may take some time\n",
      "Inferring max_pca_components from picks.\n"
     ]
    },
    {
     "name": "stderr",
     "output_type": "stream",
     "text": [
      "[Parallel(n_jobs=2)]: Done 128 out of 128 | elapsed:    0.0s finished\n"
     ]
    },
    {
     "name": "stdout",
     "output_type": "stream",
     "text": [
      "Using all PCA components: 128\n",
      "<ICA  |  raw data decomposition, fit (fastica): 171 samples, 128 components, channels used: \"eeg\">\n",
      "Transforming to ICA space (128 components)\n",
      "Zeroing out 5 ICA components\n",
      "Creating RawArray with float64 data, n_channels=128, n_times=768\n",
      "    Range : 0 ... 767 =      0.000 ...     2.996 secs\n",
      "Ready.\n",
      "Setting up band-pass filter from 1 - 40 Hz\n",
      "fir_design defaults to \"firwin2\" in 0.15 but will change to \"firwin\" in 0.16, set it explicitly to avoid this warning.\n",
      "l_trans_bandwidth chosen to be 1.0 Hz\n",
      "h_trans_bandwidth chosen to be 10.0 Hz\n",
      "Filter length of 1690 samples (6.602 sec) selected\n",
      "filter_length (1691) is longer than the signal (768), distortion is likely. Reduce filter length or filter a longer signal.\n"
     ]
    },
    {
     "name": "stderr",
     "output_type": "stream",
     "text": [
      "/home/stakar/Studia/kogni/Magisterka/code/bieg.py:98: DeprecationWarning: fir_design defaults to \"firwin2\" in 0.15 but will change to \"firwin\" in 0.16, set it explicitly to avoid this warning.\n",
      "  self.raw.filter(filter[0], filter[1], n_jobs=2)\n",
      "/home/stakar/Studia/kogni/Magisterka/code/bieg.py:98: RuntimeWarning: filter_length (1691) is longer than the signal (768), distortion is likely. Reduce filter length or filter a longer signal.\n",
      "  self.raw.filter(filter[0], filter[1], n_jobs=2)\n"
     ]
    },
    {
     "name": "stdout",
     "output_type": "stream",
     "text": [
      "<ICA  |  no decomposition, fit (fastica):  samples, no dimension reduction>\n",
      "Fitting ICA to data using 128 channels. \n",
      "Please be patient, this may take some time\n",
      "Inferring max_pca_components from picks.\n"
     ]
    },
    {
     "name": "stderr",
     "output_type": "stream",
     "text": [
      "[Parallel(n_jobs=2)]: Done 128 out of 128 | elapsed:    0.0s finished\n"
     ]
    },
    {
     "name": "stdout",
     "output_type": "stream",
     "text": [
      "Using all PCA components: 128\n",
      "<ICA  |  raw data decomposition, fit (fastica): 171 samples, 128 components, channels used: \"eeg\">\n",
      "Creating RawArray with float64 data, n_channels=128, n_times=768\n",
      "    Range : 0 ... 767 =      0.000 ...     2.996 secs\n",
      "Ready.\n",
      "Setting up band-pass filter from 1 - 40 Hz\n",
      "fir_design defaults to \"firwin2\" in 0.15 but will change to \"firwin\" in 0.16, set it explicitly to avoid this warning.\n",
      "l_trans_bandwidth chosen to be 1.0 Hz\n",
      "h_trans_bandwidth chosen to be 10.0 Hz\n",
      "Filter length of 1690 samples (6.602 sec) selected\n",
      "filter_length (1691) is longer than the signal (768), distortion is likely. Reduce filter length or filter a longer signal.\n"
     ]
    },
    {
     "name": "stderr",
     "output_type": "stream",
     "text": [
      "/home/stakar/Studia/kogni/Magisterka/code/bieg.py:98: DeprecationWarning: fir_design defaults to \"firwin2\" in 0.15 but will change to \"firwin\" in 0.16, set it explicitly to avoid this warning.\n",
      "  self.raw.filter(filter[0], filter[1], n_jobs=2)\n",
      "/home/stakar/Studia/kogni/Magisterka/code/bieg.py:98: RuntimeWarning: filter_length (1691) is longer than the signal (768), distortion is likely. Reduce filter length or filter a longer signal.\n",
      "  self.raw.filter(filter[0], filter[1], n_jobs=2)\n"
     ]
    },
    {
     "name": "stdout",
     "output_type": "stream",
     "text": [
      "<ICA  |  no decomposition, fit (fastica):  samples, no dimension reduction>\n",
      "Fitting ICA to data using 128 channels. \n",
      "Please be patient, this may take some time\n",
      "Inferring max_pca_components from picks.\n"
     ]
    },
    {
     "name": "stderr",
     "output_type": "stream",
     "text": [
      "[Parallel(n_jobs=2)]: Done 128 out of 128 | elapsed:    0.1s finished\n"
     ]
    },
    {
     "name": "stdout",
     "output_type": "stream",
     "text": [
      "Using all PCA components: 128\n",
      "<ICA  |  raw data decomposition, fit (fastica): 171 samples, 128 components, channels used: \"eeg\">\n",
      "Transforming to ICA space (128 components)\n",
      "Zeroing out 5 ICA components\n",
      "Creating RawArray with float64 data, n_channels=128, n_times=768\n",
      "    Range : 0 ... 767 =      0.000 ...     2.996 secs\n",
      "Ready.\n",
      "Setting up band-pass filter from 1 - 40 Hz\n",
      "fir_design defaults to \"firwin2\" in 0.15 but will change to \"firwin\" in 0.16, set it explicitly to avoid this warning.\n",
      "l_trans_bandwidth chosen to be 1.0 Hz\n",
      "h_trans_bandwidth chosen to be 10.0 Hz\n",
      "Filter length of 1690 samples (6.602 sec) selected\n",
      "filter_length (1691) is longer than the signal (768), distortion is likely. Reduce filter length or filter a longer signal.\n"
     ]
    },
    {
     "name": "stderr",
     "output_type": "stream",
     "text": [
      "/home/stakar/Studia/kogni/Magisterka/code/bieg.py:98: DeprecationWarning: fir_design defaults to \"firwin2\" in 0.15 but will change to \"firwin\" in 0.16, set it explicitly to avoid this warning.\n",
      "  self.raw.filter(filter[0], filter[1], n_jobs=2)\n",
      "/home/stakar/Studia/kogni/Magisterka/code/bieg.py:98: RuntimeWarning: filter_length (1691) is longer than the signal (768), distortion is likely. Reduce filter length or filter a longer signal.\n",
      "  self.raw.filter(filter[0], filter[1], n_jobs=2)\n"
     ]
    },
    {
     "name": "stdout",
     "output_type": "stream",
     "text": [
      "<ICA  |  no decomposition, fit (fastica):  samples, no dimension reduction>\n",
      "Fitting ICA to data using 128 channels. \n",
      "Please be patient, this may take some time\n",
      "Inferring max_pca_components from picks.\n"
     ]
    },
    {
     "name": "stderr",
     "output_type": "stream",
     "text": [
      "[Parallel(n_jobs=2)]: Done 128 out of 128 | elapsed:    0.0s finished\n"
     ]
    },
    {
     "name": "stdout",
     "output_type": "stream",
     "text": [
      "Using all PCA components: 128\n",
      "<ICA  |  raw data decomposition, fit (fastica): 171 samples, 128 components, channels used: \"eeg\">\n",
      "Creating RawArray with float64 data, n_channels=128, n_times=768\n",
      "    Range : 0 ... 767 =      0.000 ...     2.996 secs\n",
      "Ready.\n",
      "Setting up band-pass filter from 1 - 40 Hz\n",
      "fir_design defaults to \"firwin2\" in 0.15 but will change to \"firwin\" in 0.16, set it explicitly to avoid this warning.\n",
      "l_trans_bandwidth chosen to be 1.0 Hz\n",
      "h_trans_bandwidth chosen to be 10.0 Hz\n",
      "Filter length of 1690 samples (6.602 sec) selected\n",
      "filter_length (1691) is longer than the signal (768), distortion is likely. Reduce filter length or filter a longer signal.\n"
     ]
    },
    {
     "name": "stderr",
     "output_type": "stream",
     "text": [
      "/home/stakar/Studia/kogni/Magisterka/code/bieg.py:98: DeprecationWarning: fir_design defaults to \"firwin2\" in 0.15 but will change to \"firwin\" in 0.16, set it explicitly to avoid this warning.\n",
      "  self.raw.filter(filter[0], filter[1], n_jobs=2)\n",
      "/home/stakar/Studia/kogni/Magisterka/code/bieg.py:98: RuntimeWarning: filter_length (1691) is longer than the signal (768), distortion is likely. Reduce filter length or filter a longer signal.\n",
      "  self.raw.filter(filter[0], filter[1], n_jobs=2)\n"
     ]
    },
    {
     "name": "stdout",
     "output_type": "stream",
     "text": [
      "<ICA  |  no decomposition, fit (fastica):  samples, no dimension reduction>\n",
      "Fitting ICA to data using 128 channels. \n",
      "Please be patient, this may take some time\n",
      "Inferring max_pca_components from picks.\n"
     ]
    },
    {
     "name": "stderr",
     "output_type": "stream",
     "text": [
      "[Parallel(n_jobs=2)]: Done 128 out of 128 | elapsed:    0.0s finished\n"
     ]
    },
    {
     "name": "stdout",
     "output_type": "stream",
     "text": [
      "Using all PCA components: 128\n",
      "<ICA  |  raw data decomposition, fit (fastica): 171 samples, 128 components, channels used: \"eeg\">\n",
      "Transforming to ICA space (128 components)\n",
      "Zeroing out 5 ICA components\n",
      "Creating RawArray with float64 data, n_channels=128, n_times=768\n",
      "    Range : 0 ... 767 =      0.000 ...     2.996 secs\n",
      "Ready.\n",
      "Setting up band-pass filter from 1 - 40 Hz\n",
      "fir_design defaults to \"firwin2\" in 0.15 but will change to \"firwin\" in 0.16, set it explicitly to avoid this warning.\n",
      "l_trans_bandwidth chosen to be 1.0 Hz\n",
      "h_trans_bandwidth chosen to be 10.0 Hz\n",
      "Filter length of 1690 samples (6.602 sec) selected\n",
      "filter_length (1691) is longer than the signal (768), distortion is likely. Reduce filter length or filter a longer signal.\n"
     ]
    },
    {
     "name": "stderr",
     "output_type": "stream",
     "text": [
      "/home/stakar/Studia/kogni/Magisterka/code/bieg.py:98: DeprecationWarning: fir_design defaults to \"firwin2\" in 0.15 but will change to \"firwin\" in 0.16, set it explicitly to avoid this warning.\n",
      "  self.raw.filter(filter[0], filter[1], n_jobs=2)\n",
      "/home/stakar/Studia/kogni/Magisterka/code/bieg.py:98: RuntimeWarning: filter_length (1691) is longer than the signal (768), distortion is likely. Reduce filter length or filter a longer signal.\n",
      "  self.raw.filter(filter[0], filter[1], n_jobs=2)\n"
     ]
    },
    {
     "name": "stdout",
     "output_type": "stream",
     "text": [
      "<ICA  |  no decomposition, fit (fastica):  samples, no dimension reduction>\n",
      "Fitting ICA to data using 128 channels. \n",
      "Please be patient, this may take some time\n",
      "Inferring max_pca_components from picks.\n"
     ]
    },
    {
     "name": "stderr",
     "output_type": "stream",
     "text": [
      "[Parallel(n_jobs=2)]: Done 128 out of 128 | elapsed:    0.0s finished\n"
     ]
    },
    {
     "name": "stdout",
     "output_type": "stream",
     "text": [
      "Using all PCA components: 128\n",
      "<ICA  |  raw data decomposition, fit (fastica): 171 samples, 128 components, channels used: \"eeg\">\n",
      "Creating RawArray with float64 data, n_channels=128, n_times=768\n",
      "    Range : 0 ... 767 =      0.000 ...     2.996 secs\n",
      "Ready.\n",
      "Setting up band-pass filter from 1 - 40 Hz\n",
      "fir_design defaults to \"firwin2\" in 0.15 but will change to \"firwin\" in 0.16, set it explicitly to avoid this warning.\n",
      "l_trans_bandwidth chosen to be 1.0 Hz\n",
      "h_trans_bandwidth chosen to be 10.0 Hz\n",
      "Filter length of 1690 samples (6.602 sec) selected\n",
      "filter_length (1691) is longer than the signal (768), distortion is likely. Reduce filter length or filter a longer signal.\n"
     ]
    },
    {
     "name": "stderr",
     "output_type": "stream",
     "text": [
      "/home/stakar/Studia/kogni/Magisterka/code/bieg.py:98: DeprecationWarning: fir_design defaults to \"firwin2\" in 0.15 but will change to \"firwin\" in 0.16, set it explicitly to avoid this warning.\n",
      "  self.raw.filter(filter[0], filter[1], n_jobs=2)\n",
      "/home/stakar/Studia/kogni/Magisterka/code/bieg.py:98: RuntimeWarning: filter_length (1691) is longer than the signal (768), distortion is likely. Reduce filter length or filter a longer signal.\n",
      "  self.raw.filter(filter[0], filter[1], n_jobs=2)\n"
     ]
    },
    {
     "name": "stdout",
     "output_type": "stream",
     "text": [
      "<ICA  |  no decomposition, fit (fastica):  samples, no dimension reduction>\n"
     ]
    },
    {
     "name": "stderr",
     "output_type": "stream",
     "text": [
      "[Parallel(n_jobs=2)]: Done 128 out of 128 | elapsed:    0.1s finished\n"
     ]
    },
    {
     "name": "stdout",
     "output_type": "stream",
     "text": [
      "Fitting ICA to data using 128 channels. \n",
      "Please be patient, this may take some time\n",
      "Inferring max_pca_components from picks.\n",
      "Using all PCA components: 128\n",
      "<ICA  |  raw data decomposition, fit (fastica): 171 samples, 128 components, channels used: \"eeg\">\n",
      "Transforming to ICA space (128 components)\n",
      "Zeroing out 5 ICA components\n",
      "Creating RawArray with float64 data, n_channels=128, n_times=768\n",
      "    Range : 0 ... 767 =      0.000 ...     2.996 secs\n",
      "Ready.\n",
      "Setting up band-pass filter from 1 - 40 Hz\n",
      "fir_design defaults to \"firwin2\" in 0.15 but will change to \"firwin\" in 0.16, set it explicitly to avoid this warning.\n",
      "l_trans_bandwidth chosen to be 1.0 Hz\n",
      "h_trans_bandwidth chosen to be 10.0 Hz\n",
      "Filter length of 1690 samples (6.602 sec) selected\n",
      "filter_length (1691) is longer than the signal (768), distortion is likely. Reduce filter length or filter a longer signal.\n"
     ]
    },
    {
     "name": "stderr",
     "output_type": "stream",
     "text": [
      "/home/stakar/Studia/kogni/Magisterka/code/bieg.py:98: DeprecationWarning: fir_design defaults to \"firwin2\" in 0.15 but will change to \"firwin\" in 0.16, set it explicitly to avoid this warning.\n",
      "  self.raw.filter(filter[0], filter[1], n_jobs=2)\n",
      "/home/stakar/Studia/kogni/Magisterka/code/bieg.py:98: RuntimeWarning: filter_length (1691) is longer than the signal (768), distortion is likely. Reduce filter length or filter a longer signal.\n",
      "  self.raw.filter(filter[0], filter[1], n_jobs=2)\n"
     ]
    },
    {
     "name": "stdout",
     "output_type": "stream",
     "text": [
      "<ICA  |  no decomposition, fit (fastica):  samples, no dimension reduction>\n",
      "Fitting ICA to data using 128 channels. \n",
      "Please be patient, this may take some time\n",
      "Inferring max_pca_components from picks.\n"
     ]
    },
    {
     "name": "stderr",
     "output_type": "stream",
     "text": [
      "[Parallel(n_jobs=2)]: Done 128 out of 128 | elapsed:    0.0s finished\n"
     ]
    },
    {
     "name": "stdout",
     "output_type": "stream",
     "text": [
      "Using all PCA components: 128\n",
      "<ICA  |  raw data decomposition, fit (fastica): 171 samples, 128 components, channels used: \"eeg\">\n",
      "Creating RawArray with float64 data, n_channels=128, n_times=768\n",
      "    Range : 0 ... 767 =      0.000 ...     2.996 secs\n",
      "Ready.\n",
      "Setting up band-pass filter from 1 - 40 Hz\n",
      "fir_design defaults to \"firwin2\" in 0.15 but will change to \"firwin\" in 0.16, set it explicitly to avoid this warning.\n",
      "l_trans_bandwidth chosen to be 1.0 Hz\n",
      "h_trans_bandwidth chosen to be 10.0 Hz\n",
      "Filter length of 1690 samples (6.602 sec) selected\n",
      "filter_length (1691) is longer than the signal (768), distortion is likely. Reduce filter length or filter a longer signal.\n"
     ]
    },
    {
     "name": "stderr",
     "output_type": "stream",
     "text": [
      "/home/stakar/Studia/kogni/Magisterka/code/bieg.py:98: DeprecationWarning: fir_design defaults to \"firwin2\" in 0.15 but will change to \"firwin\" in 0.16, set it explicitly to avoid this warning.\n",
      "  self.raw.filter(filter[0], filter[1], n_jobs=2)\n",
      "/home/stakar/Studia/kogni/Magisterka/code/bieg.py:98: RuntimeWarning: filter_length (1691) is longer than the signal (768), distortion is likely. Reduce filter length or filter a longer signal.\n",
      "  self.raw.filter(filter[0], filter[1], n_jobs=2)\n"
     ]
    },
    {
     "name": "stdout",
     "output_type": "stream",
     "text": [
      "<ICA  |  no decomposition, fit (fastica):  samples, no dimension reduction>\n"
     ]
    },
    {
     "name": "stderr",
     "output_type": "stream",
     "text": [
      "[Parallel(n_jobs=2)]: Done 128 out of 128 | elapsed:    0.0s finished\n"
     ]
    },
    {
     "name": "stdout",
     "output_type": "stream",
     "text": [
      "Fitting ICA to data using 128 channels. \n",
      "Please be patient, this may take some time\n",
      "Inferring max_pca_components from picks.\n",
      "Using all PCA components: 128\n",
      "<ICA  |  raw data decomposition, fit (fastica): 171 samples, 128 components, channels used: \"eeg\">\n",
      "Transforming to ICA space (128 components)\n",
      "Zeroing out 5 ICA components\n",
      "Creating RawArray with float64 data, n_channels=128, n_times=768\n",
      "    Range : 0 ... 767 =      0.000 ...     2.996 secs\n",
      "Ready.\n",
      "Setting up band-pass filter from 1 - 40 Hz\n",
      "fir_design defaults to \"firwin2\" in 0.15 but will change to \"firwin\" in 0.16, set it explicitly to avoid this warning.\n",
      "l_trans_bandwidth chosen to be 1.0 Hz\n",
      "h_trans_bandwidth chosen to be 10.0 Hz\n",
      "Filter length of 1690 samples (6.602 sec) selected\n",
      "filter_length (1691) is longer than the signal (768), distortion is likely. Reduce filter length or filter a longer signal.\n"
     ]
    },
    {
     "name": "stderr",
     "output_type": "stream",
     "text": [
      "/home/stakar/Studia/kogni/Magisterka/code/bieg.py:98: DeprecationWarning: fir_design defaults to \"firwin2\" in 0.15 but will change to \"firwin\" in 0.16, set it explicitly to avoid this warning.\n",
      "  self.raw.filter(filter[0], filter[1], n_jobs=2)\n",
      "/home/stakar/Studia/kogni/Magisterka/code/bieg.py:98: RuntimeWarning: filter_length (1691) is longer than the signal (768), distortion is likely. Reduce filter length or filter a longer signal.\n",
      "  self.raw.filter(filter[0], filter[1], n_jobs=2)\n"
     ]
    },
    {
     "name": "stdout",
     "output_type": "stream",
     "text": [
      "<ICA  |  no decomposition, fit (fastica):  samples, no dimension reduction>\n",
      "Fitting ICA to data using 128 channels. \n",
      "Please be patient, this may take some time\n",
      "Inferring max_pca_components from picks.\n"
     ]
    },
    {
     "name": "stderr",
     "output_type": "stream",
     "text": [
      "[Parallel(n_jobs=2)]: Done 128 out of 128 | elapsed:    0.1s finished\n"
     ]
    },
    {
     "name": "stdout",
     "output_type": "stream",
     "text": [
      "Using all PCA components: 128\n",
      "<ICA  |  raw data decomposition, fit (fastica): 171 samples, 128 components, channels used: \"eeg\">\n",
      "Creating RawArray with float64 data, n_channels=128, n_times=768\n",
      "    Range : 0 ... 767 =      0.000 ...     2.996 secs\n",
      "Ready.\n",
      "Setting up band-pass filter from 1 - 40 Hz\n",
      "fir_design defaults to \"firwin2\" in 0.15 but will change to \"firwin\" in 0.16, set it explicitly to avoid this warning.\n",
      "l_trans_bandwidth chosen to be 1.0 Hz\n",
      "h_trans_bandwidth chosen to be 10.0 Hz\n",
      "Filter length of 1690 samples (6.602 sec) selected\n",
      "filter_length (1691) is longer than the signal (768), distortion is likely. Reduce filter length or filter a longer signal.\n"
     ]
    },
    {
     "name": "stderr",
     "output_type": "stream",
     "text": [
      "/home/stakar/Studia/kogni/Magisterka/code/bieg.py:98: DeprecationWarning: fir_design defaults to \"firwin2\" in 0.15 but will change to \"firwin\" in 0.16, set it explicitly to avoid this warning.\n",
      "  self.raw.filter(filter[0], filter[1], n_jobs=2)\n",
      "/home/stakar/Studia/kogni/Magisterka/code/bieg.py:98: RuntimeWarning: filter_length (1691) is longer than the signal (768), distortion is likely. Reduce filter length or filter a longer signal.\n",
      "  self.raw.filter(filter[0], filter[1], n_jobs=2)\n"
     ]
    },
    {
     "name": "stdout",
     "output_type": "stream",
     "text": [
      "<ICA  |  no decomposition, fit (fastica):  samples, no dimension reduction>\n",
      "Fitting ICA to data using 128 channels. \n",
      "Please be patient, this may take some time\n",
      "Inferring max_pca_components from picks.\n"
     ]
    },
    {
     "name": "stderr",
     "output_type": "stream",
     "text": [
      "[Parallel(n_jobs=2)]: Done 128 out of 128 | elapsed:    0.0s finished\n"
     ]
    },
    {
     "name": "stdout",
     "output_type": "stream",
     "text": [
      "Using all PCA components: 128\n",
      "<ICA  |  raw data decomposition, fit (fastica): 171 samples, 128 components, channels used: \"eeg\">\n",
      "Transforming to ICA space (128 components)\n",
      "Zeroing out 5 ICA components\n"
     ]
    }
   ],
   "source": [
    "from bak_sys import BakardjianSystem\n",
    "import numpy as np\n",
    "import pandas as pd\n",
    "from sklearn.cross_decomposition import CCA\n",
    "\n",
    "files_08Hz = 'data08Hz_3_seconds/ssvep08Hz_sec3_prt0.csv'\n",
    "\n",
    "results_08Hz = []\n",
    "results_14Hz = []\n",
    "results_28Hz = []\n",
    "\n",
    "        \n",
    "for n in range(0,5):\n",
    "    path = 'data08Hz_3_seconds/ssvep08Hz_sec3_prt%s.csv' %str(n)\n",
    "    bs = BakardjianSystem(path=path,seconds=3)\n",
    "    res = bs.bak_system_class()\n",
    "    results_08Hz.append(res)\n",
    "    \n",
    "for n in range(0,5):\n",
    "    path = 'data14Hz_3_seconds/ssvep14Hz_sec3_prt%s.csv' %str(n)\n",
    "    bs = BakardjianSystem(path=path,seconds=3)\n",
    "    res = bs.bak_system_class()\n",
    "    results_14Hz.append(res)\n",
    "    \n",
    "for n in range(0,5):\n",
    "    path = 'data28Hz_3_seconds/ssvep28Hz_sec3_prt%s.csv' %str(n)\n",
    "    bs = BakardjianSystem(path=path,seconds=3)\n",
    "    res = bs.bak_system_class()\n",
    "    results_28Hz.append(res)"
   ]
  },
  {
   "cell_type": "code",
   "execution_count": 11,
   "metadata": {},
   "outputs": [
    {
     "data": {
      "text/plain": [
       "0.53333333333333333"
      ]
     },
     "execution_count": 11,
     "metadata": {},
     "output_type": "execute_result"
    }
   ],
   "source": [
    "y_classified = np.array((results_08Hz,results_14Hz,results_28Hz))\n",
    "y_ = np.array(([0]*5,[1]*5,[2]*5))\n",
    "df_res = pd.DataFrame(y_ == y_classified)\n",
    "proper_class = df_res[df_res == True].count().sum()/df_res.count().sum()\n",
    "false_class = df_res[df_res == False].count().sum()/df_res.count().sum()"
   ]
  },
  {
   "cell_type": "code",
   "execution_count": 12,
   "metadata": {},
   "outputs": [
    {
     "name": "stdout",
     "output_type": "stream",
     "text": [
      "Creating RawArray with float64 data, n_channels=128, n_times=768\n",
      "    Range : 0 ... 767 =      0.000 ...     2.996 secs\n",
      "Ready.\n",
      "Setting up band-pass filter from 1 - 40 Hz\n",
      "fir_design defaults to \"firwin2\" in 0.15 but will change to \"firwin\" in 0.16, set it explicitly to avoid this warning.\n",
      "l_trans_bandwidth chosen to be 1.0 Hz\n",
      "h_trans_bandwidth chosen to be 10.0 Hz\n",
      "Filter length of 1690 samples (6.602 sec) selected\n",
      "filter_length (1691) is longer than the signal (768), distortion is likely. Reduce filter length or filter a longer signal.\n"
     ]
    },
    {
     "name": "stderr",
     "output_type": "stream",
     "text": [
      "/home/stakar/Studia/kogni/Magisterka/code/bieg.py:98: DeprecationWarning: fir_design defaults to \"firwin2\" in 0.15 but will change to \"firwin\" in 0.16, set it explicitly to avoid this warning.\n",
      "  self.raw.filter(filter[0], filter[1], n_jobs=2)\n",
      "/home/stakar/Studia/kogni/Magisterka/code/bieg.py:98: RuntimeWarning: filter_length (1691) is longer than the signal (768), distortion is likely. Reduce filter length or filter a longer signal.\n",
      "  self.raw.filter(filter[0], filter[1], n_jobs=2)\n"
     ]
    },
    {
     "name": "stdout",
     "output_type": "stream",
     "text": [
      "<ICA  |  no decomposition, fit (fastica):  samples, no dimension reduction>\n",
      "Fitting ICA to data using 128 channels. \n",
      "Please be patient, this may take some time\n",
      "Inferring max_pca_components from picks.\n"
     ]
    },
    {
     "name": "stderr",
     "output_type": "stream",
     "text": [
      "[Parallel(n_jobs=2)]: Done 128 out of 128 | elapsed:    0.1s finished\n"
     ]
    },
    {
     "name": "stdout",
     "output_type": "stream",
     "text": [
      "Using all PCA components: 128\n",
      "<ICA  |  raw data decomposition, fit (fastica): 171 samples, 128 components, channels used: \"eeg\">\n",
      "Creating RawArray with float64 data, n_channels=128, n_times=768\n",
      "    Range : 0 ... 767 =      0.000 ...     2.996 secs\n",
      "Ready.\n",
      "Setting up band-pass filter from 1 - 40 Hz\n",
      "fir_design defaults to \"firwin2\" in 0.15 but will change to \"firwin\" in 0.16, set it explicitly to avoid this warning.\n",
      "l_trans_bandwidth chosen to be 1.0 Hz\n",
      "h_trans_bandwidth chosen to be 10.0 Hz\n",
      "Filter length of 1690 samples (6.602 sec) selected\n",
      "filter_length (1691) is longer than the signal (768), distortion is likely. Reduce filter length or filter a longer signal.\n"
     ]
    },
    {
     "name": "stderr",
     "output_type": "stream",
     "text": [
      "/home/stakar/Studia/kogni/Magisterka/code/bieg.py:98: DeprecationWarning: fir_design defaults to \"firwin2\" in 0.15 but will change to \"firwin\" in 0.16, set it explicitly to avoid this warning.\n",
      "  self.raw.filter(filter[0], filter[1], n_jobs=2)\n",
      "/home/stakar/Studia/kogni/Magisterka/code/bieg.py:98: RuntimeWarning: filter_length (1691) is longer than the signal (768), distortion is likely. Reduce filter length or filter a longer signal.\n",
      "  self.raw.filter(filter[0], filter[1], n_jobs=2)\n"
     ]
    },
    {
     "name": "stdout",
     "output_type": "stream",
     "text": [
      "<ICA  |  no decomposition, fit (fastica):  samples, no dimension reduction>\n",
      "Fitting ICA to data using 128 channels. \n",
      "Please be patient, this may take some time\n",
      "Inferring max_pca_components from picks.\n"
     ]
    },
    {
     "name": "stderr",
     "output_type": "stream",
     "text": [
      "[Parallel(n_jobs=2)]: Done 128 out of 128 | elapsed:    0.0s finished\n"
     ]
    },
    {
     "name": "stdout",
     "output_type": "stream",
     "text": [
      "Using all PCA components: 128\n",
      "<ICA  |  raw data decomposition, fit (fastica): 171 samples, 128 components, channels used: \"eeg\">\n",
      "Transforming to ICA space (128 components)\n",
      "Zeroing out 5 ICA components\n",
      "Creating RawArray with float64 data, n_channels=128, n_times=768\n",
      "    Range : 0 ... 767 =      0.000 ...     2.996 secs\n",
      "Ready.\n",
      "Setting up band-pass filter from 1 - 40 Hz\n",
      "fir_design defaults to \"firwin2\" in 0.15 but will change to \"firwin\" in 0.16, set it explicitly to avoid this warning.\n",
      "l_trans_bandwidth chosen to be 1.0 Hz\n",
      "h_trans_bandwidth chosen to be 10.0 Hz\n",
      "Filter length of 1690 samples (6.602 sec) selected\n",
      "filter_length (1691) is longer than the signal (768), distortion is likely. Reduce filter length or filter a longer signal.\n"
     ]
    },
    {
     "name": "stderr",
     "output_type": "stream",
     "text": [
      "/home/stakar/Studia/kogni/Magisterka/code/bieg.py:98: DeprecationWarning: fir_design defaults to \"firwin2\" in 0.15 but will change to \"firwin\" in 0.16, set it explicitly to avoid this warning.\n",
      "  self.raw.filter(filter[0], filter[1], n_jobs=2)\n",
      "/home/stakar/Studia/kogni/Magisterka/code/bieg.py:98: RuntimeWarning: filter_length (1691) is longer than the signal (768), distortion is likely. Reduce filter length or filter a longer signal.\n",
      "  self.raw.filter(filter[0], filter[1], n_jobs=2)\n"
     ]
    },
    {
     "name": "stdout",
     "output_type": "stream",
     "text": [
      "<ICA  |  no decomposition, fit (fastica):  samples, no dimension reduction>\n",
      "Fitting ICA to data using 128 channels. \n",
      "Please be patient, this may take some time\n",
      "Inferring max_pca_components from picks.\n"
     ]
    },
    {
     "name": "stderr",
     "output_type": "stream",
     "text": [
      "[Parallel(n_jobs=2)]: Done 128 out of 128 | elapsed:    0.0s finished\n"
     ]
    },
    {
     "name": "stdout",
     "output_type": "stream",
     "text": [
      "Using all PCA components: 128\n",
      "<ICA  |  raw data decomposition, fit (fastica): 171 samples, 128 components, channels used: \"eeg\">\n",
      "Creating RawArray with float64 data, n_channels=128, n_times=768\n",
      "    Range : 0 ... 767 =      0.000 ...     2.996 secs\n",
      "Ready.\n",
      "Setting up band-pass filter from 1 - 40 Hz\n",
      "fir_design defaults to \"firwin2\" in 0.15 but will change to \"firwin\" in 0.16, set it explicitly to avoid this warning.\n",
      "l_trans_bandwidth chosen to be 1.0 Hz\n",
      "h_trans_bandwidth chosen to be 10.0 Hz\n",
      "Filter length of 1690 samples (6.602 sec) selected\n",
      "filter_length (1691) is longer than the signal (768), distortion is likely. Reduce filter length or filter a longer signal.\n"
     ]
    },
    {
     "name": "stderr",
     "output_type": "stream",
     "text": [
      "/home/stakar/Studia/kogni/Magisterka/code/bieg.py:98: DeprecationWarning: fir_design defaults to \"firwin2\" in 0.15 but will change to \"firwin\" in 0.16, set it explicitly to avoid this warning.\n",
      "  self.raw.filter(filter[0], filter[1], n_jobs=2)\n",
      "/home/stakar/Studia/kogni/Magisterka/code/bieg.py:98: RuntimeWarning: filter_length (1691) is longer than the signal (768), distortion is likely. Reduce filter length or filter a longer signal.\n",
      "  self.raw.filter(filter[0], filter[1], n_jobs=2)\n",
      "[Parallel(n_jobs=2)]: Done 128 out of 128 | elapsed:    0.0s finished\n"
     ]
    },
    {
     "name": "stdout",
     "output_type": "stream",
     "text": [
      "<ICA  |  no decomposition, fit (fastica):  samples, no dimension reduction>\n",
      "Fitting ICA to data using 128 channels. \n",
      "Please be patient, this may take some time\n",
      "Inferring max_pca_components from picks.\n",
      "Using all PCA components: 128\n",
      "<ICA  |  raw data decomposition, fit (fastica): 171 samples, 128 components, channels used: \"eeg\">\n",
      "Transforming to ICA space (128 components)\n",
      "Zeroing out 5 ICA components\n",
      "Creating RawArray with float64 data, n_channels=128, n_times=768\n",
      "    Range : 0 ... 767 =      0.000 ...     2.996 secs\n",
      "Ready.\n",
      "Setting up band-pass filter from 1 - 40 Hz\n",
      "fir_design defaults to \"firwin2\" in 0.15 but will change to \"firwin\" in 0.16, set it explicitly to avoid this warning.\n",
      "l_trans_bandwidth chosen to be 1.0 Hz\n",
      "h_trans_bandwidth chosen to be 10.0 Hz\n",
      "Filter length of 1690 samples (6.602 sec) selected\n",
      "filter_length (1691) is longer than the signal (768), distortion is likely. Reduce filter length or filter a longer signal.\n"
     ]
    },
    {
     "name": "stderr",
     "output_type": "stream",
     "text": [
      "/home/stakar/Studia/kogni/Magisterka/code/bieg.py:98: DeprecationWarning: fir_design defaults to \"firwin2\" in 0.15 but will change to \"firwin\" in 0.16, set it explicitly to avoid this warning.\n",
      "  self.raw.filter(filter[0], filter[1], n_jobs=2)\n",
      "/home/stakar/Studia/kogni/Magisterka/code/bieg.py:98: RuntimeWarning: filter_length (1691) is longer than the signal (768), distortion is likely. Reduce filter length or filter a longer signal.\n",
      "  self.raw.filter(filter[0], filter[1], n_jobs=2)\n"
     ]
    },
    {
     "name": "stdout",
     "output_type": "stream",
     "text": [
      "<ICA  |  no decomposition, fit (fastica):  samples, no dimension reduction>\n",
      "Fitting ICA to data using 128 channels. \n",
      "Please be patient, this may take some time\n",
      "Inferring max_pca_components from picks.\n"
     ]
    },
    {
     "name": "stderr",
     "output_type": "stream",
     "text": [
      "[Parallel(n_jobs=2)]: Done 128 out of 128 | elapsed:    0.0s finished\n"
     ]
    },
    {
     "name": "stdout",
     "output_type": "stream",
     "text": [
      "Using all PCA components: 128\n",
      "<ICA  |  raw data decomposition, fit (fastica): 171 samples, 128 components, channels used: \"eeg\">\n",
      "Creating RawArray with float64 data, n_channels=128, n_times=768\n",
      "    Range : 0 ... 767 =      0.000 ...     2.996 secs\n",
      "Ready.\n",
      "Setting up band-pass filter from 1 - 40 Hz\n",
      "fir_design defaults to \"firwin2\" in 0.15 but will change to \"firwin\" in 0.16, set it explicitly to avoid this warning.\n",
      "l_trans_bandwidth chosen to be 1.0 Hz\n",
      "h_trans_bandwidth chosen to be 10.0 Hz\n",
      "Filter length of 1690 samples (6.602 sec) selected\n",
      "filter_length (1691) is longer than the signal (768), distortion is likely. Reduce filter length or filter a longer signal.\n"
     ]
    },
    {
     "name": "stderr",
     "output_type": "stream",
     "text": [
      "/home/stakar/Studia/kogni/Magisterka/code/bieg.py:98: DeprecationWarning: fir_design defaults to \"firwin2\" in 0.15 but will change to \"firwin\" in 0.16, set it explicitly to avoid this warning.\n",
      "  self.raw.filter(filter[0], filter[1], n_jobs=2)\n",
      "/home/stakar/Studia/kogni/Magisterka/code/bieg.py:98: RuntimeWarning: filter_length (1691) is longer than the signal (768), distortion is likely. Reduce filter length or filter a longer signal.\n",
      "  self.raw.filter(filter[0], filter[1], n_jobs=2)\n"
     ]
    },
    {
     "name": "stdout",
     "output_type": "stream",
     "text": [
      "<ICA  |  no decomposition, fit (fastica):  samples, no dimension reduction>\n",
      "Fitting ICA to data using 128 channels. \n",
      "Please be patient, this may take some time\n",
      "Inferring max_pca_components from picks.\n"
     ]
    },
    {
     "name": "stderr",
     "output_type": "stream",
     "text": [
      "[Parallel(n_jobs=2)]: Done 128 out of 128 | elapsed:    0.1s finished\n"
     ]
    },
    {
     "name": "stdout",
     "output_type": "stream",
     "text": [
      "Using all PCA components: 128\n",
      "<ICA  |  raw data decomposition, fit (fastica): 171 samples, 128 components, channels used: \"eeg\">\n",
      "Transforming to ICA space (128 components)\n",
      "Zeroing out 5 ICA components\n",
      "Creating RawArray with float64 data, n_channels=128, n_times=768\n",
      "    Range : 0 ... 767 =      0.000 ...     2.996 secs\n",
      "Ready.\n",
      "Setting up band-pass filter from 1 - 40 Hz\n",
      "fir_design defaults to \"firwin2\" in 0.15 but will change to \"firwin\" in 0.16, set it explicitly to avoid this warning.\n",
      "l_trans_bandwidth chosen to be 1.0 Hz\n",
      "h_trans_bandwidth chosen to be 10.0 Hz\n",
      "Filter length of 1690 samples (6.602 sec) selected\n",
      "filter_length (1691) is longer than the signal (768), distortion is likely. Reduce filter length or filter a longer signal.\n"
     ]
    },
    {
     "name": "stderr",
     "output_type": "stream",
     "text": [
      "/home/stakar/Studia/kogni/Magisterka/code/bieg.py:98: DeprecationWarning: fir_design defaults to \"firwin2\" in 0.15 but will change to \"firwin\" in 0.16, set it explicitly to avoid this warning.\n",
      "  self.raw.filter(filter[0], filter[1], n_jobs=2)\n",
      "/home/stakar/Studia/kogni/Magisterka/code/bieg.py:98: RuntimeWarning: filter_length (1691) is longer than the signal (768), distortion is likely. Reduce filter length or filter a longer signal.\n",
      "  self.raw.filter(filter[0], filter[1], n_jobs=2)\n"
     ]
    },
    {
     "name": "stdout",
     "output_type": "stream",
     "text": [
      "<ICA  |  no decomposition, fit (fastica):  samples, no dimension reduction>\n",
      "Fitting ICA to data using 128 channels. \n",
      "Please be patient, this may take some time\n",
      "Inferring max_pca_components from picks.\n"
     ]
    },
    {
     "name": "stderr",
     "output_type": "stream",
     "text": [
      "[Parallel(n_jobs=2)]: Done 128 out of 128 | elapsed:    0.1s finished\n"
     ]
    },
    {
     "name": "stdout",
     "output_type": "stream",
     "text": [
      "Using all PCA components: 128\n",
      "<ICA  |  raw data decomposition, fit (fastica): 171 samples, 128 components, channels used: \"eeg\">\n",
      "Creating RawArray with float64 data, n_channels=128, n_times=768\n",
      "    Range : 0 ... 767 =      0.000 ...     2.996 secs\n",
      "Ready.\n",
      "Setting up band-pass filter from 1 - 40 Hz\n",
      "fir_design defaults to \"firwin2\" in 0.15 but will change to \"firwin\" in 0.16, set it explicitly to avoid this warning.\n",
      "l_trans_bandwidth chosen to be 1.0 Hz\n",
      "h_trans_bandwidth chosen to be 10.0 Hz\n",
      "Filter length of 1690 samples (6.602 sec) selected\n",
      "filter_length (1691) is longer than the signal (768), distortion is likely. Reduce filter length or filter a longer signal.\n"
     ]
    },
    {
     "name": "stderr",
     "output_type": "stream",
     "text": [
      "/home/stakar/Studia/kogni/Magisterka/code/bieg.py:98: DeprecationWarning: fir_design defaults to \"firwin2\" in 0.15 but will change to \"firwin\" in 0.16, set it explicitly to avoid this warning.\n",
      "  self.raw.filter(filter[0], filter[1], n_jobs=2)\n",
      "/home/stakar/Studia/kogni/Magisterka/code/bieg.py:98: RuntimeWarning: filter_length (1691) is longer than the signal (768), distortion is likely. Reduce filter length or filter a longer signal.\n",
      "  self.raw.filter(filter[0], filter[1], n_jobs=2)\n"
     ]
    },
    {
     "name": "stdout",
     "output_type": "stream",
     "text": [
      "<ICA  |  no decomposition, fit (fastica):  samples, no dimension reduction>\n",
      "Fitting ICA to data using 128 channels. \n",
      "Please be patient, this may take some time\n",
      "Inferring max_pca_components from picks.\n"
     ]
    },
    {
     "name": "stderr",
     "output_type": "stream",
     "text": [
      "[Parallel(n_jobs=2)]: Done 128 out of 128 | elapsed:    0.0s finished\n"
     ]
    },
    {
     "name": "stdout",
     "output_type": "stream",
     "text": [
      "Using all PCA components: 128\n",
      "<ICA  |  raw data decomposition, fit (fastica): 171 samples, 128 components, channels used: \"eeg\">\n",
      "Transforming to ICA space (128 components)\n",
      "Zeroing out 5 ICA components\n",
      "Creating RawArray with float64 data, n_channels=128, n_times=768\n",
      "    Range : 0 ... 767 =      0.000 ...     2.996 secs\n",
      "Ready.\n",
      "Setting up band-pass filter from 1 - 40 Hz\n",
      "fir_design defaults to \"firwin2\" in 0.15 but will change to \"firwin\" in 0.16, set it explicitly to avoid this warning.\n",
      "l_trans_bandwidth chosen to be 1.0 Hz\n",
      "h_trans_bandwidth chosen to be 10.0 Hz\n",
      "Filter length of 1690 samples (6.602 sec) selected\n",
      "filter_length (1691) is longer than the signal (768), distortion is likely. Reduce filter length or filter a longer signal.\n"
     ]
    },
    {
     "name": "stderr",
     "output_type": "stream",
     "text": [
      "/home/stakar/Studia/kogni/Magisterka/code/bieg.py:98: DeprecationWarning: fir_design defaults to \"firwin2\" in 0.15 but will change to \"firwin\" in 0.16, set it explicitly to avoid this warning.\n",
      "  self.raw.filter(filter[0], filter[1], n_jobs=2)\n",
      "/home/stakar/Studia/kogni/Magisterka/code/bieg.py:98: RuntimeWarning: filter_length (1691) is longer than the signal (768), distortion is likely. Reduce filter length or filter a longer signal.\n",
      "  self.raw.filter(filter[0], filter[1], n_jobs=2)\n"
     ]
    },
    {
     "name": "stdout",
     "output_type": "stream",
     "text": [
      "<ICA  |  no decomposition, fit (fastica):  samples, no dimension reduction>\n",
      "Fitting ICA to data using 128 channels. \n",
      "Please be patient, this may take some time\n",
      "Inferring max_pca_components from picks.\n"
     ]
    },
    {
     "name": "stderr",
     "output_type": "stream",
     "text": [
      "[Parallel(n_jobs=2)]: Done 128 out of 128 | elapsed:    0.0s finished\n"
     ]
    },
    {
     "name": "stdout",
     "output_type": "stream",
     "text": [
      "Using all PCA components: 128\n",
      "<ICA  |  raw data decomposition, fit (fastica): 171 samples, 128 components, channels used: \"eeg\">\n",
      "Creating RawArray with float64 data, n_channels=128, n_times=768\n",
      "    Range : 0 ... 767 =      0.000 ...     2.996 secs\n",
      "Ready.\n",
      "Setting up band-pass filter from 1 - 40 Hz\n",
      "fir_design defaults to \"firwin2\" in 0.15 but will change to \"firwin\" in 0.16, set it explicitly to avoid this warning.\n",
      "l_trans_bandwidth chosen to be 1.0 Hz\n",
      "h_trans_bandwidth chosen to be 10.0 Hz\n",
      "Filter length of 1690 samples (6.602 sec) selected\n",
      "filter_length (1691) is longer than the signal (768), distortion is likely. Reduce filter length or filter a longer signal.\n"
     ]
    },
    {
     "name": "stderr",
     "output_type": "stream",
     "text": [
      "/home/stakar/Studia/kogni/Magisterka/code/bieg.py:98: DeprecationWarning: fir_design defaults to \"firwin2\" in 0.15 but will change to \"firwin\" in 0.16, set it explicitly to avoid this warning.\n",
      "  self.raw.filter(filter[0], filter[1], n_jobs=2)\n",
      "/home/stakar/Studia/kogni/Magisterka/code/bieg.py:98: RuntimeWarning: filter_length (1691) is longer than the signal (768), distortion is likely. Reduce filter length or filter a longer signal.\n",
      "  self.raw.filter(filter[0], filter[1], n_jobs=2)\n"
     ]
    },
    {
     "name": "stdout",
     "output_type": "stream",
     "text": [
      "<ICA  |  no decomposition, fit (fastica):  samples, no dimension reduction>\n",
      "Fitting ICA to data using 128 channels. \n",
      "Please be patient, this may take some time\n",
      "Inferring max_pca_components from picks.\n"
     ]
    },
    {
     "name": "stderr",
     "output_type": "stream",
     "text": [
      "[Parallel(n_jobs=2)]: Done 128 out of 128 | elapsed:    0.1s finished\n"
     ]
    },
    {
     "name": "stdout",
     "output_type": "stream",
     "text": [
      "Using all PCA components: 128\n",
      "<ICA  |  raw data decomposition, fit (fastica): 171 samples, 128 components, channels used: \"eeg\">\n",
      "Transforming to ICA space (128 components)\n",
      "Zeroing out 5 ICA components\n",
      "Creating RawArray with float64 data, n_channels=128, n_times=768\n",
      "    Range : 0 ... 767 =      0.000 ...     2.996 secs\n",
      "Ready.\n",
      "Setting up band-pass filter from 1 - 40 Hz\n",
      "fir_design defaults to \"firwin2\" in 0.15 but will change to \"firwin\" in 0.16, set it explicitly to avoid this warning.\n",
      "l_trans_bandwidth chosen to be 1.0 Hz\n",
      "h_trans_bandwidth chosen to be 10.0 Hz\n",
      "Filter length of 1690 samples (6.602 sec) selected\n",
      "filter_length (1691) is longer than the signal (768), distortion is likely. Reduce filter length or filter a longer signal.\n"
     ]
    },
    {
     "name": "stderr",
     "output_type": "stream",
     "text": [
      "/home/stakar/Studia/kogni/Magisterka/code/bieg.py:98: DeprecationWarning: fir_design defaults to \"firwin2\" in 0.15 but will change to \"firwin\" in 0.16, set it explicitly to avoid this warning.\n",
      "  self.raw.filter(filter[0], filter[1], n_jobs=2)\n",
      "/home/stakar/Studia/kogni/Magisterka/code/bieg.py:98: RuntimeWarning: filter_length (1691) is longer than the signal (768), distortion is likely. Reduce filter length or filter a longer signal.\n",
      "  self.raw.filter(filter[0], filter[1], n_jobs=2)\n"
     ]
    },
    {
     "name": "stdout",
     "output_type": "stream",
     "text": [
      "<ICA  |  no decomposition, fit (fastica):  samples, no dimension reduction>\n",
      "Fitting ICA to data using 128 channels. \n",
      "Please be patient, this may take some time\n",
      "Inferring max_pca_components from picks.\n"
     ]
    },
    {
     "name": "stderr",
     "output_type": "stream",
     "text": [
      "[Parallel(n_jobs=2)]: Done 128 out of 128 | elapsed:    0.1s finished\n"
     ]
    },
    {
     "name": "stdout",
     "output_type": "stream",
     "text": [
      "Using all PCA components: 128\n",
      "<ICA  |  raw data decomposition, fit (fastica): 171 samples, 128 components, channels used: \"eeg\">\n",
      "Creating RawArray with float64 data, n_channels=128, n_times=768\n",
      "    Range : 0 ... 767 =      0.000 ...     2.996 secs\n",
      "Ready.\n",
      "Setting up band-pass filter from 1 - 40 Hz\n",
      "fir_design defaults to \"firwin2\" in 0.15 but will change to \"firwin\" in 0.16, set it explicitly to avoid this warning.\n",
      "l_trans_bandwidth chosen to be 1.0 Hz\n",
      "h_trans_bandwidth chosen to be 10.0 Hz\n",
      "Filter length of 1690 samples (6.602 sec) selected\n",
      "filter_length (1691) is longer than the signal (768), distortion is likely. Reduce filter length or filter a longer signal.\n"
     ]
    },
    {
     "name": "stderr",
     "output_type": "stream",
     "text": [
      "/home/stakar/Studia/kogni/Magisterka/code/bieg.py:98: DeprecationWarning: fir_design defaults to \"firwin2\" in 0.15 but will change to \"firwin\" in 0.16, set it explicitly to avoid this warning.\n",
      "  self.raw.filter(filter[0], filter[1], n_jobs=2)\n",
      "/home/stakar/Studia/kogni/Magisterka/code/bieg.py:98: RuntimeWarning: filter_length (1691) is longer than the signal (768), distortion is likely. Reduce filter length or filter a longer signal.\n",
      "  self.raw.filter(filter[0], filter[1], n_jobs=2)\n"
     ]
    },
    {
     "name": "stdout",
     "output_type": "stream",
     "text": [
      "<ICA  |  no decomposition, fit (fastica):  samples, no dimension reduction>\n",
      "Fitting ICA to data using 128 channels. \n",
      "Please be patient, this may take some time\n",
      "Inferring max_pca_components from picks.\n"
     ]
    },
    {
     "name": "stderr",
     "output_type": "stream",
     "text": [
      "[Parallel(n_jobs=2)]: Done 128 out of 128 | elapsed:    0.1s finished\n"
     ]
    },
    {
     "name": "stdout",
     "output_type": "stream",
     "text": [
      "Using all PCA components: 128\n",
      "<ICA  |  raw data decomposition, fit (fastica): 171 samples, 128 components, channels used: \"eeg\">\n",
      "Transforming to ICA space (128 components)\n",
      "Zeroing out 5 ICA components\n",
      "Creating RawArray with float64 data, n_channels=128, n_times=768\n",
      "    Range : 0 ... 767 =      0.000 ...     2.996 secs\n",
      "Ready.\n",
      "Setting up band-pass filter from 1 - 40 Hz\n",
      "fir_design defaults to \"firwin2\" in 0.15 but will change to \"firwin\" in 0.16, set it explicitly to avoid this warning.\n",
      "l_trans_bandwidth chosen to be 1.0 Hz\n",
      "h_trans_bandwidth chosen to be 10.0 Hz\n",
      "Filter length of 1690 samples (6.602 sec) selected\n",
      "filter_length (1691) is longer than the signal (768), distortion is likely. Reduce filter length or filter a longer signal.\n"
     ]
    },
    {
     "name": "stderr",
     "output_type": "stream",
     "text": [
      "/home/stakar/Studia/kogni/Magisterka/code/bieg.py:98: DeprecationWarning: fir_design defaults to \"firwin2\" in 0.15 but will change to \"firwin\" in 0.16, set it explicitly to avoid this warning.\n",
      "  self.raw.filter(filter[0], filter[1], n_jobs=2)\n",
      "/home/stakar/Studia/kogni/Magisterka/code/bieg.py:98: RuntimeWarning: filter_length (1691) is longer than the signal (768), distortion is likely. Reduce filter length or filter a longer signal.\n",
      "  self.raw.filter(filter[0], filter[1], n_jobs=2)\n"
     ]
    },
    {
     "name": "stdout",
     "output_type": "stream",
     "text": [
      "<ICA  |  no decomposition, fit (fastica):  samples, no dimension reduction>\n",
      "Fitting ICA to data using 128 channels. \n",
      "Please be patient, this may take some time\n",
      "Inferring max_pca_components from picks.\n"
     ]
    },
    {
     "name": "stderr",
     "output_type": "stream",
     "text": [
      "[Parallel(n_jobs=2)]: Done 128 out of 128 | elapsed:    0.1s finished\n"
     ]
    },
    {
     "name": "stdout",
     "output_type": "stream",
     "text": [
      "Using all PCA components: 128\n",
      "<ICA  |  raw data decomposition, fit (fastica): 171 samples, 128 components, channels used: \"eeg\">\n",
      "Creating RawArray with float64 data, n_channels=128, n_times=768\n",
      "    Range : 0 ... 767 =      0.000 ...     2.996 secs\n",
      "Ready.\n",
      "Setting up band-pass filter from 1 - 40 Hz\n",
      "fir_design defaults to \"firwin2\" in 0.15 but will change to \"firwin\" in 0.16, set it explicitly to avoid this warning.\n",
      "l_trans_bandwidth chosen to be 1.0 Hz\n",
      "h_trans_bandwidth chosen to be 10.0 Hz\n",
      "Filter length of 1690 samples (6.602 sec) selected\n",
      "filter_length (1691) is longer than the signal (768), distortion is likely. Reduce filter length or filter a longer signal.\n"
     ]
    },
    {
     "name": "stderr",
     "output_type": "stream",
     "text": [
      "/home/stakar/Studia/kogni/Magisterka/code/bieg.py:98: DeprecationWarning: fir_design defaults to \"firwin2\" in 0.15 but will change to \"firwin\" in 0.16, set it explicitly to avoid this warning.\n",
      "  self.raw.filter(filter[0], filter[1], n_jobs=2)\n",
      "/home/stakar/Studia/kogni/Magisterka/code/bieg.py:98: RuntimeWarning: filter_length (1691) is longer than the signal (768), distortion is likely. Reduce filter length or filter a longer signal.\n",
      "  self.raw.filter(filter[0], filter[1], n_jobs=2)\n"
     ]
    },
    {
     "name": "stdout",
     "output_type": "stream",
     "text": [
      "<ICA  |  no decomposition, fit (fastica):  samples, no dimension reduction>\n",
      "Fitting ICA to data using 128 channels. \n",
      "Please be patient, this may take some time\n",
      "Inferring max_pca_components from picks.\n"
     ]
    },
    {
     "name": "stderr",
     "output_type": "stream",
     "text": [
      "[Parallel(n_jobs=2)]: Done 128 out of 128 | elapsed:    0.1s finished\n"
     ]
    },
    {
     "name": "stdout",
     "output_type": "stream",
     "text": [
      "Using all PCA components: 128\n",
      "<ICA  |  raw data decomposition, fit (fastica): 171 samples, 128 components, channels used: \"eeg\">\n",
      "Transforming to ICA space (128 components)\n",
      "Zeroing out 5 ICA components\n",
      "Creating RawArray with float64 data, n_channels=128, n_times=768\n",
      "    Range : 0 ... 767 =      0.000 ...     2.996 secs\n",
      "Ready.\n",
      "Setting up band-pass filter from 1 - 40 Hz\n",
      "fir_design defaults to \"firwin2\" in 0.15 but will change to \"firwin\" in 0.16, set it explicitly to avoid this warning.\n",
      "l_trans_bandwidth chosen to be 1.0 Hz\n",
      "h_trans_bandwidth chosen to be 10.0 Hz\n",
      "Filter length of 1690 samples (6.602 sec) selected\n",
      "filter_length (1691) is longer than the signal (768), distortion is likely. Reduce filter length or filter a longer signal.\n"
     ]
    },
    {
     "name": "stderr",
     "output_type": "stream",
     "text": [
      "/home/stakar/Studia/kogni/Magisterka/code/bieg.py:98: DeprecationWarning: fir_design defaults to \"firwin2\" in 0.15 but will change to \"firwin\" in 0.16, set it explicitly to avoid this warning.\n",
      "  self.raw.filter(filter[0], filter[1], n_jobs=2)\n",
      "/home/stakar/Studia/kogni/Magisterka/code/bieg.py:98: RuntimeWarning: filter_length (1691) is longer than the signal (768), distortion is likely. Reduce filter length or filter a longer signal.\n",
      "  self.raw.filter(filter[0], filter[1], n_jobs=2)\n"
     ]
    },
    {
     "name": "stdout",
     "output_type": "stream",
     "text": [
      "<ICA  |  no decomposition, fit (fastica):  samples, no dimension reduction>\n",
      "Fitting ICA to data using 128 channels. \n",
      "Please be patient, this may take some time\n",
      "Inferring max_pca_components from picks.\n"
     ]
    },
    {
     "name": "stderr",
     "output_type": "stream",
     "text": [
      "[Parallel(n_jobs=2)]: Done 128 out of 128 | elapsed:    0.1s finished\n"
     ]
    },
    {
     "name": "stdout",
     "output_type": "stream",
     "text": [
      "Using all PCA components: 128\n",
      "<ICA  |  raw data decomposition, fit (fastica): 171 samples, 128 components, channels used: \"eeg\">\n",
      "Creating RawArray with float64 data, n_channels=128, n_times=768\n",
      "    Range : 0 ... 767 =      0.000 ...     2.996 secs\n",
      "Ready.\n",
      "Setting up band-pass filter from 1 - 40 Hz\n",
      "fir_design defaults to \"firwin2\" in 0.15 but will change to \"firwin\" in 0.16, set it explicitly to avoid this warning.\n",
      "l_trans_bandwidth chosen to be 1.0 Hz\n",
      "h_trans_bandwidth chosen to be 10.0 Hz\n",
      "Filter length of 1690 samples (6.602 sec) selected\n",
      "filter_length (1691) is longer than the signal (768), distortion is likely. Reduce filter length or filter a longer signal.\n"
     ]
    },
    {
     "name": "stderr",
     "output_type": "stream",
     "text": [
      "/home/stakar/Studia/kogni/Magisterka/code/bieg.py:98: DeprecationWarning: fir_design defaults to \"firwin2\" in 0.15 but will change to \"firwin\" in 0.16, set it explicitly to avoid this warning.\n",
      "  self.raw.filter(filter[0], filter[1], n_jobs=2)\n",
      "/home/stakar/Studia/kogni/Magisterka/code/bieg.py:98: RuntimeWarning: filter_length (1691) is longer than the signal (768), distortion is likely. Reduce filter length or filter a longer signal.\n",
      "  self.raw.filter(filter[0], filter[1], n_jobs=2)\n"
     ]
    },
    {
     "name": "stdout",
     "output_type": "stream",
     "text": [
      "<ICA  |  no decomposition, fit (fastica):  samples, no dimension reduction>\n",
      "Fitting ICA to data using 128 channels. \n",
      "Please be patient, this may take some time\n",
      "Inferring max_pca_components from picks.\n"
     ]
    },
    {
     "name": "stderr",
     "output_type": "stream",
     "text": [
      "[Parallel(n_jobs=2)]: Done 128 out of 128 | elapsed:    0.0s finished\n"
     ]
    },
    {
     "name": "stdout",
     "output_type": "stream",
     "text": [
      "Using all PCA components: 128\n",
      "<ICA  |  raw data decomposition, fit (fastica): 171 samples, 128 components, channels used: \"eeg\">\n",
      "Transforming to ICA space (128 components)\n",
      "Zeroing out 5 ICA components\n",
      "Creating RawArray with float64 data, n_channels=128, n_times=768\n",
      "    Range : 0 ... 767 =      0.000 ...     2.996 secs\n",
      "Ready.\n",
      "Setting up band-pass filter from 1 - 40 Hz\n",
      "fir_design defaults to \"firwin2\" in 0.15 but will change to \"firwin\" in 0.16, set it explicitly to avoid this warning.\n",
      "l_trans_bandwidth chosen to be 1.0 Hz\n",
      "h_trans_bandwidth chosen to be 10.0 Hz\n",
      "Filter length of 1690 samples (6.602 sec) selected\n",
      "filter_length (1691) is longer than the signal (768), distortion is likely. Reduce filter length or filter a longer signal.\n"
     ]
    },
    {
     "name": "stderr",
     "output_type": "stream",
     "text": [
      "/home/stakar/Studia/kogni/Magisterka/code/bieg.py:98: DeprecationWarning: fir_design defaults to \"firwin2\" in 0.15 but will change to \"firwin\" in 0.16, set it explicitly to avoid this warning.\n",
      "  self.raw.filter(filter[0], filter[1], n_jobs=2)\n",
      "/home/stakar/Studia/kogni/Magisterka/code/bieg.py:98: RuntimeWarning: filter_length (1691) is longer than the signal (768), distortion is likely. Reduce filter length or filter a longer signal.\n",
      "  self.raw.filter(filter[0], filter[1], n_jobs=2)\n"
     ]
    },
    {
     "name": "stdout",
     "output_type": "stream",
     "text": [
      "<ICA  |  no decomposition, fit (fastica):  samples, no dimension reduction>\n",
      "Fitting ICA to data using 128 channels. \n",
      "Please be patient, this may take some time\n",
      "Inferring max_pca_components from picks.\n"
     ]
    },
    {
     "name": "stderr",
     "output_type": "stream",
     "text": [
      "[Parallel(n_jobs=2)]: Done 128 out of 128 | elapsed:    0.1s finished\n"
     ]
    },
    {
     "name": "stdout",
     "output_type": "stream",
     "text": [
      "Using all PCA components: 128\n",
      "<ICA  |  raw data decomposition, fit (fastica): 171 samples, 128 components, channels used: \"eeg\">\n",
      "Creating RawArray with float64 data, n_channels=128, n_times=768\n",
      "    Range : 0 ... 767 =      0.000 ...     2.996 secs\n",
      "Ready.\n",
      "Setting up band-pass filter from 1 - 40 Hz\n",
      "fir_design defaults to \"firwin2\" in 0.15 but will change to \"firwin\" in 0.16, set it explicitly to avoid this warning.\n",
      "l_trans_bandwidth chosen to be 1.0 Hz\n",
      "h_trans_bandwidth chosen to be 10.0 Hz\n",
      "Filter length of 1690 samples (6.602 sec) selected\n",
      "filter_length (1691) is longer than the signal (768), distortion is likely. Reduce filter length or filter a longer signal.\n"
     ]
    },
    {
     "name": "stderr",
     "output_type": "stream",
     "text": [
      "/home/stakar/Studia/kogni/Magisterka/code/bieg.py:98: DeprecationWarning: fir_design defaults to \"firwin2\" in 0.15 but will change to \"firwin\" in 0.16, set it explicitly to avoid this warning.\n",
      "  self.raw.filter(filter[0], filter[1], n_jobs=2)\n",
      "/home/stakar/Studia/kogni/Magisterka/code/bieg.py:98: RuntimeWarning: filter_length (1691) is longer than the signal (768), distortion is likely. Reduce filter length or filter a longer signal.\n",
      "  self.raw.filter(filter[0], filter[1], n_jobs=2)\n"
     ]
    },
    {
     "name": "stdout",
     "output_type": "stream",
     "text": [
      "<ICA  |  no decomposition, fit (fastica):  samples, no dimension reduction>\n",
      "Fitting ICA to data using 128 channels. \n",
      "Please be patient, this may take some time\n",
      "Inferring max_pca_components from picks.\n"
     ]
    },
    {
     "name": "stderr",
     "output_type": "stream",
     "text": [
      "[Parallel(n_jobs=2)]: Done 128 out of 128 | elapsed:    0.1s finished\n"
     ]
    },
    {
     "name": "stdout",
     "output_type": "stream",
     "text": [
      "Using all PCA components: 128\n",
      "<ICA  |  raw data decomposition, fit (fastica): 171 samples, 128 components, channels used: \"eeg\">\n",
      "Transforming to ICA space (128 components)\n",
      "Zeroing out 5 ICA components\n"
     ]
    }
   ],
   "source": [
    "#CCA\n",
    "\n",
    "bs = BakardjianSystem(path = 'data08Hz_3_seconds/ssvep08Hz_sec3_prt0.csv',seconds=3)\n",
    "bs.bss_ica()\n",
    "bs.bank_of_filters()\n",
    "bs.variance_analyzer()\n",
    "integrated1_08Hz = bs.integrator()\n",
    "\n",
    "bs2 = BakardjianSystem(path='data08Hz_3_seconds/ssvep08Hz_sec3_prt1.csv',seconds=3)\n",
    "bs.bss_ica()\n",
    "bs.bank_of_filters()\n",
    "bs.variance_analyzer()\n",
    "integrated2_08Hz = bs.integrator()\n",
    "\n",
    "\n",
    "bs3 = BakardjianSystem(path='data08Hz_3_seconds/ssvep08Hz_sec3_prt2.csv',seconds=3)\n",
    "bs.bss_ica()\n",
    "bs.bank_of_filters()\n",
    "bs.variance_analyzer()\n",
    "integrated3_08Hz = bs.integrator()\n",
    "\n",
    "\n",
    "bs = BakardjianSystem(path = 'data14Hz_3_seconds/ssvep14Hz_sec3_prt0.csv',seconds=3)\n",
    "bs.bss_ica()\n",
    "bs.bank_of_filters()\n",
    "bs.variance_analyzer()\n",
    "integrated1_14Hz = bs.integrator()\n",
    "\n",
    "bs2 = BakardjianSystem(path='data14Hz_3_seconds/ssvep14Hz_sec3_prt1.csv',seconds=3)\n",
    "bs.bss_ica()\n",
    "bs.bank_of_filters()\n",
    "bs.variance_analyzer()\n",
    "integrated2_14Hz = bs.integrator()\n",
    "\n",
    "\n",
    "bs3 = BakardjianSystem(path='data14Hz_3_seconds/ssvep14Hz_sec3_prt2.csv',seconds=3)\n",
    "bs.bss_ica()\n",
    "bs.bank_of_filters()\n",
    "bs.variance_analyzer()\n",
    "integrated3_14Hz = bs.integrator()\n",
    "\n",
    "\n",
    "bs = BakardjianSystem(path = 'data28Hz_3_seconds/ssvep28Hz_sec3_prt0.csv',seconds=3)\n",
    "bs.bss_ica()\n",
    "bs.bank_of_filters()\n",
    "bs.variance_analyzer()\n",
    "integrated1_28Hz = bs.integrator()\n",
    "\n",
    "bs2 = BakardjianSystem(path='data28Hz_3_seconds/ssvep28Hz_sec3_prt1.csv',seconds=3)\n",
    "bs.bss_ica()\n",
    "bs.bank_of_filters()\n",
    "bs.variance_analyzer()\n",
    "integrated2_28Hz = bs.integrator()\n",
    "\n",
    "\n",
    "bs3 = BakardjianSystem(path='data28Hz_3_seconds/ssvep28Hz_sec3_prt2.csv',seconds=3)\n",
    "bs.bss_ica()\n",
    "bs.bank_of_filters()\n",
    "bs.variance_analyzer()\n",
    "integrated3_28Hz = bs.integrator()\n",
    "\n",
    "\n",
    "\n"
   ]
  },
  {
   "cell_type": "code",
   "execution_count": 37,
   "metadata": {},
   "outputs": [],
   "source": [
    "cca = CCA(n_components=2)"
   ]
  },
  {
   "cell_type": "code",
   "execution_count": 38,
   "metadata": {},
   "outputs": [
    {
     "data": {
      "text/plain": [
       "CCA(copy=True, max_iter=500, n_components=2, scale=True, tol=1e-06)"
      ]
     },
     "execution_count": 38,
     "metadata": {},
     "output_type": "execute_result"
    }
   ],
   "source": [
    "cca.fit(integrated1_08Hz,integrated2_08Hz)"
   ]
  },
  {
   "cell_type": "code",
   "execution_count": 42,
   "metadata": {},
   "outputs": [
    {
     "data": {
      "text/plain": [
       "(768, 768)"
      ]
     },
     "execution_count": 42,
     "metadata": {},
     "output_type": "execute_result"
    }
   ],
   "source": []
  },
  {
   "cell_type": "code",
   "execution_count": null,
   "metadata": {},
   "outputs": [],
   "source": []
  },
  {
   "cell_type": "code",
   "execution_count": null,
   "metadata": {},
   "outputs": [],
   "source": []
  }
 ],
 "metadata": {
  "kernelspec": {
   "display_name": "Python 3",
   "language": "python",
   "name": "python3"
  },
  "language_info": {
   "codemirror_mode": {
    "name": "ipython",
    "version": 3
   },
   "file_extension": ".py",
   "mimetype": "text/x-python",
   "name": "python",
   "nbconvert_exporter": "python",
   "pygments_lexer": "ipython3",
   "version": "3.6.4"
  }
 },
 "nbformat": 4,
 "nbformat_minor": 2
}
