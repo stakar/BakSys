{
 "cells": [
  {
   "cell_type": "code",
   "execution_count": 12,
   "metadata": {},
   "outputs": [
    {
     "name": "stderr",
     "output_type": "stream",
     "text": [
      "/usr/lib/python3.6/site-packages/sklearn/cross_decomposition/pls_.py:293: UserWarning: Y residual constant at iteration 1\n",
      "  warnings.warn('Y residual constant at iteration %s' % k)\n"
     ]
    }
   ],
   "source": [
    "from bak_sys import BakardjianSystem\n",
    "import numpy as np\n",
    "import pandas as pd\n",
    "from scipy.stats import mode\n",
    "from sklearn.cross_decomposition import CCA\n",
    "\n",
    "\n",
    "bs = BakardjianSystem(path = 'data08Hz_1_seconds/ssvep08Hz_sec1_prt0.csv',seconds=1)\n",
    "bs.bss_ica()\n",
    "bs.bank_of_filters()\n",
    "bs.variance_analyzer()\n",
    "integrated1_08Hz = bs.integrator()\n",
    "\n",
    "bs2 = BakardjianSystem(path='data08Hz_1_seconds/ssvep08Hz_sec1_prt1.csv',seconds=1)\n",
    "bs.bss_ica()\n",
    "bs.bank_of_filters()\n",
    "bs.variance_analyzer()\n",
    "integrated2_08Hz = bs.integrator()\n",
    "\n",
    "\n",
    "bs3 = BakardjianSystem(path='data08Hz_1_seconds/ssvep08Hz_sec1_prt2.csv',seconds=1)\n",
    "bs.bss_ica()\n",
    "bs.bank_of_filters()\n",
    "bs.variance_analyzer()\n",
    "integrated3_08Hz = bs.integrator()\n",
    "\n",
    "\n",
    "bs = BakardjianSystem(path = 'data14Hz_1_seconds/ssvep14Hz_sec1_prt0.csv',seconds=1)\n",
    "bs.bss_ica()\n",
    "bs.bank_of_filters()\n",
    "bs.variance_analyzer()\n",
    "integrated1_14Hz = bs.integrator()\n",
    "\n",
    "bs2 = BakardjianSystem(path='data14Hz_1_seconds/ssvep14Hz_sec1_prt1.csv',seconds=1)\n",
    "bs.bss_ica()\n",
    "bs.bank_of_filters()\n",
    "bs.variance_analyzer()\n",
    "integrated2_14Hz = bs.integrator()\n",
    "\n",
    "\n",
    "bs3 = BakardjianSystem(path='data14Hz_1_seconds/ssvep14Hz_sec1_prt2.csv',seconds=1)\n",
    "bs.bss_ica()\n",
    "bs.bank_of_filters()\n",
    "bs.variance_analyzer()\n",
    "integrated3_14Hz = bs.integrator()\n",
    "\n",
    "bs = BakardjianSystem(path = 'data28Hz_1_seconds/ssvep28Hz_sec1_prt0.csv',seconds=1)\n",
    "bs.bss_ica()\n",
    "bs.bank_of_filters()\n",
    "bs.variance_analyzer()\n",
    "integrated1_28Hz = bs.integrator()\n",
    "\n",
    "bs2 = BakardjianSystem(path='data28Hz_1_seconds/ssvep28Hz_sec1_prt1.csv',seconds=1)\n",
    "bs.bss_ica()\n",
    "bs.bank_of_filters()\n",
    "bs.variance_analyzer()\n",
    "integrated2_28Hz = bs.integrator()\n",
    "\n",
    "\n",
    "bs3 = BakardjianSystem(path='data28Hz_1_seconds/ssvep28Hz_sec1_prt2.csv',seconds=1)\n",
    "bs.bss_ica()\n",
    "bs.bank_of_filters()\n",
    "bs.variance_analyzer()\n",
    "integrated3_28Hz1,integrated3_28Hz2,integrated3_28Hz3 = bs.integrator()\n",
    "\n",
    "def reference_signals():\n",
    "    t = np.linspace(0,1,1*256)\n",
    "    ref_08Hz = np.array([np.sin(np.pi*2*t*8),np.cos(np.pi*2*t*8)])\n",
    "    ref_14Hz = np.array([(np.sin(np.pi*2*t*14)),(np.cos(np.pi*2*t*14))])\n",
    "    ref_28Hz = np.array([(np.sin(np.pi*2*t*28)),(np.cos(np.pi*2*t*28))])\n",
    "    return(ref_08Hz,ref_14Hz,ref_28Hz)\n",
    "\n",
    "ref_08Hz,ref_14Hz,ref_28Hz = reference_signals()\n",
    "\n",
    "Y_sin8Hz = ref_08Hz[0].reshape(2,128)\n",
    "Y_cos8Hz = ref_08Hz[1].reshape(2,128)\n",
    "Y_sin14Hz = ref_14Hz[0].reshape(2,128)\n",
    "Y_cos14Hz = ref_14Hz[1].reshape(2,128)\n",
    "Y_sin28Hz = ref_28Hz[0].reshape(2,128)\n",
    "Y_cos28Hz = ref_28Hz[1].reshape(2,128)\n",
    "\n",
    "# signals 8,14,28 Hz to train:\n",
    "\n",
    "X_1_8Hz = integrated1_08Hz[0].reshape(2,128)\n",
    "X_2_8Hz = integrated1_08Hz[1].reshape(2,128)\n",
    "X_3_8Hz = integrated1_08Hz[2].reshape(2,128)\n",
    "\n",
    "X_1_14Hz = integrated1_14Hz[0].reshape(2,128)\n",
    "X_2_14Hz = integrated1_14Hz[1].reshape(2,128)\n",
    "X_3_14Hz = integrated1_14Hz[2].reshape(2,128)\n",
    "\n",
    "X_1_28Hz = integrated1_28Hz[0].reshape(2,128)\n",
    "X_2_28Hz = integrated1_28Hz[1].reshape(2,128)\n",
    "X_3_28Hz = integrated1_28Hz[2].reshape(2,128)\n",
    "\n",
    "# signals 8,14,28 Hz to test:\n",
    "\n",
    "X_11_8Hz = integrated2_08Hz[0].reshape(2,128)\n",
    "X_12_8Hz = integrated2_08Hz[0].reshape(2,128)\n",
    "X_13_8Hz = integrated2_08Hz[0].reshape(2,128)\n",
    "\n",
    "X_11_14Hz = integrated2_08Hz[0].reshape(2,128)\n",
    "X_12_14Hz = integrated2_08Hz[0].reshape(2,128)\n",
    "X_13_14Hz = integrated2_08Hz[0].reshape(2,128)\n",
    "\n",
    "X_11_28Hz = integrated2_28Hz[0].reshape(2,128)\n",
    "X_12_28Hz = integrated2_28Hz[0].reshape(2,128)\n",
    "X_13_28Hz = integrated2_28Hz[0].reshape(2,128)\n",
    "\n",
    "#Canonical correlations of train dataset:\n",
    "cca08Hz = CCA().fit(X_1_8Hz,Y_sin8Hz)\n",
    "cca08Hz = CCA().fit(X_1_8Hz,Y_cos8Hz)\n",
    "cca14Hz = CCA().fit(X_1_14Hz,Y_sin14Hz)\n",
    "cca14Hz = CCA().fit(X_1_14Hz,Y_cos14Hz)\n",
    "cca28Hz = CCA().fit(X_1_28Hz,Y_sin28Hz)\n",
    "cca28Hz = CCA().fit(X_1_28Hz,Y_cos28Hz)\n"
   ]
  },
  {
   "cell_type": "code",
   "execution_count": 20,
   "metadata": {},
   "outputs": [
    {
     "data": {
      "text/plain": [
       "8.0"
      ]
     },
     "execution_count": 20,
     "metadata": {},
     "output_type": "execute_result"
    }
   ],
   "source": [
    "for n in "
   ]
  },
  {
   "cell_type": "code",
   "execution_count": 19,
   "metadata": {},
   "outputs": [
    {
     "data": {
      "text/plain": [
       "array([[ 10.16963956,   0.        ],\n",
       "       [ -7.90538713,   0.        ]])"
      ]
     },
     "execution_count": 19,
     "metadata": {},
     "output_type": "execute_result"
    }
   ],
   "source": [
    "cca14Hz.transform(X_11_14Hz)"
   ]
  },
  {
   "cell_type": "code",
   "execution_count": 4,
   "metadata": {},
   "outputs": [],
   "source": []
  },
  {
   "cell_type": "code",
   "execution_count": 5,
   "metadata": {},
   "outputs": [],
   "source": []
  },
  {
   "cell_type": "code",
   "execution_count": 10,
   "metadata": {},
   "outputs": [],
   "source": []
  },
  {
   "cell_type": "code",
   "execution_count": 16,
   "metadata": {},
   "outputs": [
    {
     "name": "stderr",
     "output_type": "stream",
     "text": [
      "/usr/lib/python3.6/site-packages/sklearn/cross_decomposition/pls_.py:293: UserWarning: Y residual constant at iteration 1\n",
      "  warnings.warn('Y residual constant at iteration %s' % k)\n"
     ]
    }
   ],
   "source": [
    "#train_data = \n"
   ]
  },
  {
   "cell_type": "code",
   "execution_count": 8,
   "metadata": {},
   "outputs": [
    {
     "data": {
      "text/plain": [
       "162.20660764694387"
      ]
     },
     "execution_count": 8,
     "metadata": {},
     "output_type": "execute_result"
    }
   ],
   "source": [
    "np.max(cca08Hz.transform(X_3_8Hz,Y_sin8Hz))"
   ]
  },
  {
   "cell_type": "code",
   "execution_count": 9,
   "metadata": {},
   "outputs": [
    {
     "ename": "NameError",
     "evalue": "name 'cca2' is not defined",
     "output_type": "error",
     "traceback": [
      "\u001b[0;31m---------------------------------------------------------------------------\u001b[0m",
      "\u001b[0;31mNameError\u001b[0m                                 Traceback (most recent call last)",
      "\u001b[0;32m<ipython-input-9-5acc7df0d232>\u001b[0m in \u001b[0;36m<module>\u001b[0;34m()\u001b[0m\n\u001b[0;32m----> 1\u001b[0;31m \u001b[0mcca2\u001b[0m\u001b[0;34m.\u001b[0m\u001b[0mtransform\u001b[0m\u001b[0;34m(\u001b[0m\u001b[0mX_11\u001b[0m\u001b[0;34m,\u001b[0m\u001b[0mY_cos\u001b[0m\u001b[0;34m)\u001b[0m\u001b[0;34m\u001b[0m\u001b[0m\n\u001b[0m",
      "\u001b[0;31mNameError\u001b[0m: name 'cca2' is not defined"
     ]
    }
   ],
   "source": [
    "cca2.transform(X_11,Y_cos)"
   ]
  },
  {
   "cell_type": "code",
   "execution_count": null,
   "metadata": {},
   "outputs": [],
   "source": []
  },
  {
   "cell_type": "code",
   "execution_count": null,
   "metadata": {},
   "outputs": [],
   "source": []
  }
 ],
 "metadata": {
  "kernelspec": {
   "display_name": "Python 3",
   "language": "python",
   "name": "python3"
  },
  "language_info": {
   "codemirror_mode": {
    "name": "ipython",
    "version": 3
   },
   "file_extension": ".py",
   "mimetype": "text/x-python",
   "name": "python",
   "nbconvert_exporter": "python",
   "pygments_lexer": "ipython3",
   "version": "3.6.4"
  }
 },
 "nbformat": 4,
 "nbformat_minor": 2
}
