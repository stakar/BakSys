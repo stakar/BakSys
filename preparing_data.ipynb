{
 "cells": [
  {
   "cell_type": "code",
   "execution_count": 2,
   "metadata": {},
   "outputs": [],
   "source": [
    "from bieg import ICAManager\n",
    "import pandas as pd\n",
    "import numpy as np\n",
    "import os\n",
    "\n",
    "\n",
    "class preping_data(object):\n",
    "    \n",
    "    def __init__(self,path,hz,subj,sec=3,trial = 1,dset = np.zeros(((15,256,128))),part=1):\n",
    "        self.path = path\n",
    "        self.dset = dset\n",
    "        self.sec = int(sec)\n",
    "        self.hz = hz\n",
    "        self.subj = subj\n",
    "        self.part = part\n",
    "        self.trial = trial\n",
    "        \n",
    "    def preping(self):\n",
    "        file = ICAManager(input_path=self.path,method='fastica',sep=',')\n",
    "        data = file.load_data()\n",
    "        self.data = data\n",
    "        self.dset = file.data[256*5:256*20]\n",
    "        self.dset = self.dset.reshape((((15//self.sec),128,self.sec*256)))\n",
    "        return self.dset\n",
    "    \n",
    "    def writing(self):\n",
    "        subj_path = 'subject%s' %self.subj\n",
    "        name_path = 'sd%sHz%ssec' %(self.hz,str(self.sec))\n",
    "        if subj_path not in os.listdir():\n",
    "            os.mkdir(subj_path)\n",
    "        \n",
    "        os.chdir(subj_path)\n",
    "        if name_path not in os.listdir():\n",
    "            os.mkdir(name_path)\n",
    "        os.chdir(name_path)\n",
    "        \n",
    "        fname='%sHz%ssec%sprt%itrial.csv' %(self.hz,str(self.sec),str(self.part),self.trial)\n",
    "        if fname not in os.listdir():\n",
    "            np.savetxt(fname,X=self.dset[self.part])\n",
    "        os.chdir('../../')\n",
    "        \n",
    "    def prep_write(self):\n",
    "        self.preping()\n",
    "        self.writing()\n",
    "        \n"
   ]
  },
  {
   "cell_type": "code",
   "execution_count": 3,
   "metadata": {},
   "outputs": [],
   "source": [
    "\n",
    "#preparing data for 5-second time window classification classification\n",
    "for z in [8,14,28]:\n",
    "    for n in range(1,5):\n",
    "        for trial in range(1,6):\n",
    "            path = '../data/SUBJ%i/SSVEP_%sHz_Trial%i_SUBJ%i.csv' %(n,str(z),trial,n)\n",
    "            for part in range(3):\n",
    "                preping_data(path=path,hz = z,subj=str(n),sec=5,part = part,trial=trial).prep_write()\n",
    "\n",
    "#preparing data for 3-second time window classification classification\n",
    "\n",
    "for z in [8,14,28]:\n",
    "    for n in range(1,5):\n",
    "        for trial in range(1,6):\n",
    "            path = '../data/SUBJ%i/SSVEP_%sHz_Trial%i_SUBJ%i.csv' %(n,str(z),trial,n)\n",
    "            for part in range(5):\n",
    "                preping_data(path=path,hz = z,subj=str(n),sec=3,part = part,trial=trial).prep_write()\n",
    "\n",
    "\n",
    "#preparing data for 1-second time window classification classification\n",
    "\n",
    "for z in [8,14,28]:\n",
    "    for n in range(1,5):\n",
    "        for trial in range(1,6):\n",
    "            path = '../data/SUBJ%i/SSVEP_%sHz_Trial%i_SUBJ%i.csv' %(n,str(z),trial,n)\n",
    "            for part in range(15):\n",
    "                preping_data(path=path,hz = z,subj=str(n),sec=1,part = part,trial=trial).prep_write()\n"
   ]
  },
  {
   "cell_type": "code",
   "execution_count": 4,
   "metadata": {},
   "outputs": [],
   "source": [
    "#preparing dataset\n",
    "\n",
    "import numpy as np\n",
    "import pandas as pd\n",
    "from bieg import ICAManager\n",
    "import matplotlib.pyplot as plt\n",
    "import scipy.signal as sig\n",
    "from scipy.stats import mode\n",
    "from sklearn.svm import SVC\n",
    "from sklearn.model_selection import train_test_split \n",
    "from sklearn.neighbors import KNeighborsClassifier\n",
    "\n",
    "from bak_sys_ver2 import BakardjianSystem\n",
    "\n",
    "dataset = []\n",
    "\n",
    "for n,m in zip(['8','14'],[0,1]):\n",
    "    for subject in range(1,5):\n",
    "        for part in range(15):\n",
    "            file = 'subject%s/sd%sHz1sec/%sHz1sec%sprt.csv' %(str(subject),str(n),str(n),str(part))\n",
    "            bs = BakardjianSystem(file,classes='two_classes')\n",
    "            bs.prep_data_extract_components()\n",
    "            bs.extract_FFT()\n",
    "            dataset.append([bs.features[0],bs.features[1],m])\n",
    "        "
   ]
  },
  {
   "cell_type": "code",
   "execution_count": 11,
   "metadata": {},
   "outputs": [
    {
     "ename": "NameError",
     "evalue": "name 'dataset' is not defined",
     "output_type": "error",
     "traceback": [
      "\u001b[0;31m---------------------------------------------------------------------------\u001b[0m",
      "\u001b[0;31mNameError\u001b[0m                                 Traceback (most recent call last)",
      "\u001b[0;32m<ipython-input-11-0915f2463897>\u001b[0m in \u001b[0;36m<module>\u001b[0;34m()\u001b[0m\n\u001b[1;32m     16\u001b[0m \u001b[0;31m#         dataset.append([bs.features[0],bs.features[1],m])\u001b[0m\u001b[0;34m\u001b[0m\u001b[0;34m\u001b[0m\u001b[0m\n\u001b[1;32m     17\u001b[0m \u001b[0;34m\u001b[0m\u001b[0m\n\u001b[0;32m---> 18\u001b[0;31m \u001b[0mnp\u001b[0m\u001b[0;34m.\u001b[0m\u001b[0marray\u001b[0m\u001b[0;34m(\u001b[0m\u001b[0mdataset\u001b[0m\u001b[0;34m)\u001b[0m\u001b[0;34m.\u001b[0m\u001b[0mshape\u001b[0m\u001b[0;34m[\u001b[0m\u001b[0;36m0\u001b[0m\u001b[0;34m]\u001b[0m\u001b[0;34m\u001b[0m\u001b[0m\n\u001b[0m",
      "\u001b[0;31mNameError\u001b[0m: name 'dataset' is not defined"
     ]
    }
   ],
   "source": [
    "\n",
    "# for n,m in zip(['08','14'],[0,1]):\n",
    "#     for r in range(5):\n",
    "#         file = 'data%sHz_3_seconds/ssvep%sHz_sec3_prt%i.csv' %(str(n), str(n), r)\n",
    "#         bs = BakardjianSystem(file,classes='two_classes')\n",
    "#         bs.prep_data_extract_components()\n",
    "#         bs.extract_FFT()\n",
    "#         dataset.append([bs.features[0],bs.features[1],m])\n",
    "        \n",
    "# for n,m in zip(['08','14'],[0,1]):\n",
    "#     for r in range(3):\n",
    "#         file = 'data%sHz_5_seconds/ssvep%sHz_sec5_prt%i.csv' %(str(n), str(n), r)\n",
    "#         bs = BakardjianSystem(file,classes='two_classes')\n",
    "#         bs.prep_data_extract_components()\n",
    "#         bs.extract_FFT()\n",
    "#         dataset.append([bs.features[0],bs.features[1],m])\n"
   ]
  },
  {
   "cell_type": "code",
   "execution_count": 6,
   "metadata": {},
   "outputs": [
    {
     "data": {
      "text/plain": [
       "(128, 6361)"
      ]
     },
     "execution_count": 6,
     "metadata": {},
     "output_type": "execute_result"
    }
   ],
   "source": [
    "from bieg import ICAManager\n",
    "import pandas as pd\n",
    "import numpy as np\n",
    "import os\n",
    "\n",
    "\n",
    "class preping_data(object):\n",
    "    \n",
    "    def __init__(self,path,hz,subj,sec=3,dset = np.zeros(((15,256,128))),part=1):\n",
    "        self.path = path\n",
    "        self.dset = dset\n",
    "        self.sec = int(sec)\n",
    "        self.hz = hz\n",
    "        self.subj = subj\n",
    "        self.part = part\n",
    "    def preping(self):\n",
    "        file = ICAManager(input_path=self.path,method='fastica',sep=',')\n",
    "        data = file.load_data()\n",
    "#         self.data = file.data.reshape(128,6330)\n",
    "        self.dset = file.data.T\n",
    "#         self.dset = self.dset.reshape((((15//self.sec),128,self.sec*256)))\n",
    "        return self.dset\n",
    "    def writing(self):\n",
    "        subj_path = 'subject%s' %self.subj\n",
    "        name_path = 'sd%sHz%ssec' %(self.hz,str(self.sec))\n",
    "        if subj_path not in os.listdir():\n",
    "            os.mkdir(subj_path)\n",
    "        \n",
    "        os.chdir(subj_path)\n",
    "        if name_path not in os.listdir():\n",
    "            os.mkdir(name_path)\n",
    "        os.chdir(name_path)\n",
    "        np.savetxt(fname='%sHz%ssec%sprt.csv' %(self.hz,str(self.sec),str(self.part)),\n",
    "                   X=self.dset[self.part])\n",
    "        os.chdir('../../')\n",
    "    def prep_write(self):\n",
    "        self.preping()\n",
    "        self.writing()\n",
    "        \n",
    "\n",
    "pd =  preping_data(path = '../data/SUBJ2/SSVEP_8Hz_Trial1_SUBJ2.csv',hz = 14,\n",
    "                subj = '1',part=0,sec=15)\n",
    "pd.preping()\n",
    "pd.dset.shape"
   ]
  },
  {
   "cell_type": "code",
   "execution_count": 8,
   "metadata": {},
   "outputs": [],
   "source": [
    "np.savetxt('subject2/8Hz_data1.csv',pd.dset)"
   ]
  },
  {
   "cell_type": "code",
   "execution_count": 35,
   "metadata": {},
   "outputs": [
    {
     "data": {
      "text/plain": [
       "(6361, 128)"
      ]
     },
     "execution_count": 35,
     "metadata": {},
     "output_type": "execute_result"
    }
   ],
   "source": [
    "pd.data.shape"
   ]
  },
  {
   "cell_type": "code",
   "execution_count": null,
   "metadata": {},
   "outputs": [],
   "source": [
    "\n",
    "#preparing data for 1-second time window classification classification\n",
    "for z in [8,14,28]:\n",
    "    for n in range(1,5):\n",
    "        path = '../data/SUBJ%s/SSVEP_%sHz_Trial1_SUBJ%s.csv' %(str(n),str(z),str(n))\n",
    "        preping_data(path=path,hz = z,subj=str(n),sec=15,part = 0).prep_write()\n"
   ]
  },
  {
   "cell_type": "code",
   "execution_count": null,
   "metadata": {},
   "outputs": [],
   "source": []
  }
 ],
 "metadata": {
  "kernelspec": {
   "display_name": "Python 3",
   "language": "python",
   "name": "python3"
  },
  "language_info": {
   "codemirror_mode": {
    "name": "ipython",
    "version": 3
   },
   "file_extension": ".py",
   "mimetype": "text/x-python",
   "name": "python",
   "nbconvert_exporter": "python",
   "pygments_lexer": "ipython3",
   "version": "3.6.5"
  }
 },
 "nbformat": 4,
 "nbformat_minor": 2
}
