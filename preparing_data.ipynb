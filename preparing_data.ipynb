{
 "cells": [
  {
   "cell_type": "code",
   "execution_count": 12,
   "metadata": {},
   "outputs": [],
   "source": [
    "from bieg import ICAManager\n",
    "import pandas as pd\n",
    "import numpy as np\n",
    "\n",
    "class preping_data(object):\n",
    "    \n",
    "    def __init__(self,path,name='foo.csv',sec=3,dset = np.zeros(((15,256,128)))):\n",
    "        self.path = path\n",
    "        self.dset = dset\n",
    "        self.name = name\n",
    "        self.sec = sec\n",
    "    def preping(self):\n",
    "        file = ICAManager(input_path=self.path,method='fastica',sep=',')\n",
    "        data = file.load_data()\n",
    "        self.dset = file.data[256*5:256*20]\n",
    "        self.dset = self.dset.reshape(((5,128,3*256)))\n",
    "        return self.dset\n",
    "    def writing(self):\n",
    "        np.savetxt(fname=self.name,X=self.dset[self.sec])\n",
    "        "
   ]
  },
  {
   "cell_type": "code",
   "execution_count": 13,
   "metadata": {},
   "outputs": [],
   "source": [
    "proba = preping_data(path='../data/SUBJ1/SSVEP_14Hz_Trial1_SUBJ1.csv',\n",
    "                     name='pierwsza_sekunda_14Hz.csv',sec=0)"
   ]
  },
  {
   "cell_type": "code",
   "execution_count": 14,
   "metadata": {},
   "outputs": [],
   "source": [
    "proba.preping()\n",
    "proba.writing()"
   ]
  },
  {
   "cell_type": "code",
   "execution_count": 19,
   "metadata": {},
   "outputs": [],
   "source": [
    "for n,z in zip(range(0,5),['ssvep28Hz_1.csv','ssvep28Hz_2.csv','ssvep28Hz_3.csv','ssvep28Hz_4.csv','ssvep28Hz_5.csv']):\n",
    "    predat = preping_data(path='../data/SUBJ1/SSVEP_28Hz_Trial1_SUBJ1.csv',name=z,sec=n)\n",
    "    predat.preping()\n",
    "    predat.writing()"
   ]
  },
  {
   "cell_type": "code",
   "execution_count": null,
   "metadata": {},
   "outputs": [],
   "source": []
  }
 ],
 "metadata": {
  "kernelspec": {
   "display_name": "Python 3",
   "language": "python",
   "name": "python3"
  },
  "language_info": {
   "codemirror_mode": {
    "name": "ipython",
    "version": 3
   },
   "file_extension": ".py",
   "mimetype": "text/x-python",
   "name": "python",
   "nbconvert_exporter": "python",
   "pygments_lexer": "ipython3",
   "version": "3.6.4"
  }
 },
 "nbformat": 4,
 "nbformat_minor": 2
}
