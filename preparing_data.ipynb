{
 "cells": [
  {
   "cell_type": "code",
   "execution_count": 26,
   "metadata": {},
   "outputs": [],
   "source": [
    "from bieg import ICAManager\n",
    "import pandas as pd\n",
    "import numpy as np\n",
    "import os\n",
    "\n",
    "\n",
    "class preping_data(object):\n",
    "    \n",
    "    def __init__(self,path,sec=3,hz='0',dset = np.zeros(((15,256,128))),part=1):\n",
    "        self.path = path\n",
    "        self.dset = dset\n",
    "        self.sec = int(sec)\n",
    "        self.hz = hz\n",
    "        self.part = part\n",
    "    def preping(self):\n",
    "        file = ICAManager(input_path=self.path,method='fastica',sep=',')\n",
    "        data = file.load_data()\n",
    "        self.dset = file.data[256*5:256*20]\n",
    "        self.dset = self.dset.reshape((((15//self.sec),128,self.sec*256)))\n",
    "        return self.dset\n",
    "    def writing(self):\n",
    "        name_path = 'data%sHz_%s_seconds' %(self.hz,str(self.sec))\n",
    "        if name_path not in os.listdir():\n",
    "            os.mkdir(name_path)\n",
    "        os.chdir(name_path)\n",
    "        np.savetxt(fname='ssvep%sHz_sec%s_prt%s.csv' %(self.hz,str(self.sec),str(self.part)),X=self.dset[self.part])\n",
    "        os.chdir('..')\n",
    "    def prep_write(self):\n",
    "        self.preping()\n",
    "        self.writing()\n",
    "        "
   ]
  },
  {
   "cell_type": "code",
   "execution_count": 34,
   "metadata": {},
   "outputs": [],
   "source": []
  },
  {
   "cell_type": "code",
   "execution_count": 44,
   "metadata": {},
   "outputs": [],
   "source": [
    "for n in range(0,15):\n",
    "    predat = preping_data(path='../data/SUBJ1/SSVEP_14Hz_Trial1_SUBJ1.csv',hz='14',sec=1,part=n)\n",
    "    predat.prep_write()"
   ]
  },
  {
   "cell_type": "code",
   "execution_count": null,
   "metadata": {},
   "outputs": [],
   "source": []
  },
  {
   "cell_type": "code",
   "execution_count": 4,
   "metadata": {},
   "outputs": [],
   "source": []
  },
  {
   "cell_type": "code",
   "execution_count": null,
   "metadata": {},
   "outputs": [],
   "source": []
  }
 ],
 "metadata": {
  "kernelspec": {
   "display_name": "Python 3",
   "language": "python",
   "name": "python3"
  },
  "language_info": {
   "codemirror_mode": {
    "name": "ipython",
    "version": 3
   },
   "file_extension": ".py",
   "mimetype": "text/x-python",
   "name": "python",
   "nbconvert_exporter": "python",
   "pygments_lexer": "ipython3",
   "version": "3.6.4"
  }
 },
 "nbformat": 4,
 "nbformat_minor": 2
}
