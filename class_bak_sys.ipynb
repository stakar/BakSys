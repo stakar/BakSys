{
 "cells": [
  {
   "cell_type": "code",
   "execution_count": null,
   "metadata": {},
   "outputs": [],
   "source": [
    "from bak_sys import BakardjianSystem\n",
    "import numpy as np\n",
    "import pandas as pd\n",
    "from scipy.stats import mode\n",
    "from sklearn.cross_decomposition import CCA\n",
    "\n",
    "files_08Hz = 'data08Hz_3_seconds/ssvep08Hz_sec3_prt0.csv'\n",
    "\n",
    "results_08Hz = []\n",
    "results_14Hz = []\n",
    "results_28Hz = []\n",
    "\n",
    "        \n",
    "for n in range(0,5):\n",
    "    path = 'data08Hz_1_seconds/ssvep08Hz_sec1_prt%s.csv' %str(n)\n",
    "    bs = BakardjianSystem(path=path,seconds=3)\n",
    "    res = bs.bak_class()\n",
    "    results_08Hz.append(res)\n",
    "    \n",
    "for n in range(0,5):\n",
    "    path = 'data14Hz_3_seconds/ssvep14Hz_sec3_prt%s.csv' %str(n)\n",
    "    bs = BakardjianSystem(path=path,seconds=3)\n",
    "    res = bs.bak_class()\n",
    "    results_14Hz.append(res)\n",
    "    \n",
    "for n in range(0,5):\n",
    "    path = 'data28Hz_3_seconds/ssvep28Hz_sec3_prt%s.csv' %str(n)\n",
    "    bs = BakardjianSystem(path=path,seconds=3)\n",
    "    res = bs.bak_class()\n",
    "    results_28Hz.append(res)\n",
    "    \n",
    "for n in results_14Hz:\n",
    "    print(mode(n))"
   ]
  }
 ],
 "metadata": {
  "kernelspec": {
   "display_name": "Python 3",
   "language": "python",
   "name": "python3"
  },
  "language_info": {
   "codemirror_mode": {
    "name": "ipython",
    "version": 3
   },
   "file_extension": ".py",
   "mimetype": "text/x-python",
   "name": "python",
   "nbconvert_exporter": "python",
   "pygments_lexer": "ipython3",
   "version": "3.6.4"
  }
 },
 "nbformat": 4,
 "nbformat_minor": 2
}
