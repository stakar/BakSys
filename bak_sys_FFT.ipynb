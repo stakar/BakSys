{
 "cells": [
  {
   "cell_type": "code",
   "execution_count": 3,
   "metadata": {},
   "outputs": [
    {
     "name": "stdout",
     "output_type": "stream",
     "text": [
      "0.5\n",
      "0.75\n"
     ]
    }
   ],
   "source": [
    "#preparing dataset\n",
    "\n",
    "import numpy as np\n",
    "import pandas as pd\n",
    "from bieg import ICAManager\n",
    "import matplotlib.pyplot as plt\n",
    "import scipy.signal as sig\n",
    "from scipy.stats import mode\n",
    "from sklearn.svm import SVC\n",
    "from sklearn.model_selection import train_test_split \n",
    "from sklearn.neighbors import KNeighborsClassifier\n",
    "from sklearn.preprocessing import MinMaxScaler\n",
    "import pickle\n",
    "from sklearn.externals import joblib\n",
    "\n",
    "from sklearn.model_selection import cross_val_score\n",
    "\n",
    "from bak_sys_ver2 import BakardjianSystem\n",
    "\n",
    "class FFT_classifiers(object):\n",
    "    pass\n",
    "\n",
    "    def __init__(self,classes='two_classes',seconds=1):\n",
    "        self.self = self\n",
    "        self.classes = classes\n",
    "        self.seconds = seconds\n",
    "        \n",
    "    def prepare_dataset(self):\n",
    "        \"\"\"This function prepares dataset for classifiers. \"\"\"\n",
    "        \n",
    "        dataset = []\n",
    "        \n",
    "        if self.classes == 'two_classes':\n",
    "        \n",
    "            for n,m in zip(['8','14'],[0,1]):\n",
    "                for subject in range(1,5):\n",
    "                    for trial in range(1,6):\n",
    "                        for part in range(round(15/self.seconds)):\n",
    "                            file = 'subject%i/sd%sHz%isec/%sHz%isec%iprt%itrial.csv' %(subject,n,self.seconds,\n",
    "                                                                              n,self.seconds,part,trial)\n",
    "                            bs = BakardjianSystem(file,classes='two_classes')\n",
    "                            bs.prep_data_extract_components()\n",
    "                            bs.extract_FFT()\n",
    "                            dataset.append([bs.features[0],bs.features[1],m])\n",
    "                        \n",
    "            self.dataset = np.array(dataset)\n",
    "            self.features = self.dataset[:,[0,1]]\n",
    "            \n",
    "            self.target = self.dataset[:,[2]]\n",
    "        \n",
    "        if self.classes == 'three_classes':\n",
    "        \n",
    "            for n,m in zip(['8','14','28'],[0,1,2]):\n",
    "                for subject in range(1,5):\n",
    "                    for trial in range(1,6):\n",
    "                        for part in range(round(15/self.seconds)):\n",
    "                            file = 'subject%i/sd%sHz%isec/%sHz%isec%iprt%itrial.csv' %(subject,n,self.seconds,\n",
    "                                                                              n,self.seconds,part,trial)\n",
    "                        bs = BakardjianSystem(file,classes=self.classes)\n",
    "                        bs.prep_data_extract_components()\n",
    "                        bs.extract_FFT()\n",
    "                        dataset.append([bs.features[0],bs.features[1],bs.features[2],m])\n",
    "                        \n",
    "            self.dataset = np.array(dataset)\n",
    "            self.features = self.dataset[:,[0,1,2]]\n",
    "            \n",
    "            self.target = self.dataset[:,[3]]\n",
    "            \n",
    "        \n",
    "        if self.classes == 'two_classes2':\n",
    "        \n",
    "            for n,m in zip(['8','14','28'],[0,0,1]):\n",
    "                for subject in range(1,5):\n",
    "                    for trial in range(1,6):\n",
    "                        for part in range(round(15/self.seconds)):\n",
    "                            file = 'subject%i/sd%sHz%isec/%sHz%isec%iprt%itrial.csv' %(subject,n,self.seconds,\n",
    "                                                                              n,self.seconds,part,trial)\n",
    "                        bs = BakardjianSystem(file,classes='three_classes')\n",
    "                        bs.prep_data_extract_components()\n",
    "                        bs.extract_FFT()\n",
    "                        dataset.append([bs.features[0],bs.features[1],bs.features[2],m])\n",
    "                        \n",
    "            self.dataset = np.array(dataset)\n",
    "            self.features = self.dataset[:,[0,1,2]]\n",
    "            \n",
    "            self.target = self.dataset[:,[3]]\n",
    "            \n",
    "    def SVM(self,kernel='linear',c=1,gamma=1,cv = 3):\n",
    "        \n",
    "        features = self.features\n",
    "        target = self.target\n",
    "        \n",
    "        if self.classes == 'two_classes' or self.classes == 'two_classes2':\n",
    "            \n",
    "            scaler = MinMaxScaler(feature_range=(0,1))\n",
    "            scaler.fit(features)\n",
    "            scaled = scaler.transform(features)\n",
    "            \n",
    "            svc = SVC(kernel=kernel,C=c,gamma=gamma)\n",
    "            svc.fit(scaled,target.ravel())\n",
    "            \n",
    "            self.svmscore = np.mean(cross_val_score(svc,scaled,target.ravel(),cv = cv))\n",
    "            \n",
    "        if self.classes == 'three_classes':\n",
    "            \n",
    "            scaler = MinMaxScaler(feature_range=(0,1))\n",
    "            scaler.fit(features)\n",
    "            scaled = scaler.transform(features)\n",
    "            \n",
    "            svc = SVC(kernel=self.kernel,C=self.c,gamma=self.gamma,decision_function_shape='ovo')\n",
    "            \n",
    "            self.svmscore = np.mean(cross_val_score(svc,scaled,target.ravel(),cv = cv))\n",
    "            \n",
    "        self.svc = svc\n",
    "            \n",
    "    def KNN(self,n_neighbours = 3,cv = 3):\n",
    "        \n",
    "        features = self.features\n",
    "        target = self.target\n",
    "        \n",
    "        if self.classes == 'two_classes' or self.classes == 'two_classes2':\n",
    "            \n",
    "            knn = KNeighborsClassifier(algorithm='kd_tree',n_neighbors=3)\n",
    "            knn.fit(features,target.ravel())\n",
    "            \n",
    "            self.knnscore = np.mean(cross_val_score(knn,features,target.ravel(),cv = cv))\n",
    "            \n",
    "        if self.classes == 'three_classes':\n",
    "            \n",
    "            knn = KNeighborsClassifier(n_neighbors=self.n_neighbours)\n",
    "            \n",
    "            self.knnscore = np.mean(cross_val_score(knn,features,target.ravel(),cv = cv))\n",
    "            \n",
    "        self.knn = knn\n",
    "        \n",
    "if __name__ == '__main__':\n",
    "    fft = FFT_classifiers(classes='two_classes')\n",
    "    fft.prepare_dataset()\n",
    "    fft.SVM('linear',1,1)\n",
    "    print(fft.svmscore)\n",
    "    fft.KNN(3,3)\n",
    "    print(fft.knnscore)\n",
    "\n",
    "# ds0 = [dataset[n][0:2] for n in range(len(dataset)) if dataset[n][2] == 0]\n",
    "# ds1 = [dataset[n][0:2] for n in range(len(dataset)) if dataset[n][2] == 1]\n",
    "# dataset\n",
    "\n",
    "#To Do:\n",
    "# Simpilfy the code"
   ]
  },
  {
   "cell_type": "code",
   "execution_count": 6,
   "metadata": {},
   "outputs": [
    {
     "data": {
      "text/plain": [
       "array([-1.95358583, -0.30104343])"
      ]
     },
     "execution_count": 6,
     "metadata": {},
     "output_type": "execute_result"
    }
   ],
   "source": [
    "fft.svc.coef_"
   ]
  },
  {
   "cell_type": "code",
   "execution_count": 10,
   "metadata": {},
   "outputs": [
    {
     "data": {
      "image/png": "[encoded data removed]",
      "text/plain": [
       "<matplotlib.figure.Figure at 0x7f18ad293be0>"
      ]
     },
     "metadata": {},
     "output_type": "display_data"
    }
   ],
   "source": [
    "\n",
    "\n",
    "# Plotting a maximum margin for linear model\n",
    "dataset = fft.dataset\n",
    "# ds0 = [dataset[n][0:3] for n in range(len(dataset)) if dataset[n][3] == 0]\n",
    "# ds1 = [dataset[n][0:3] for n in range(len(dataset)) if dataset[n][3] == 1]\n",
    "# ds3 = [dataset[n][0:3] for n in range(len(dataset)) if dataset[n][3] == 2]\n",
    "\n",
    "\n",
    "ds0 = [dataset[n][0:2] for n in range(len(dataset)) if dataset[n][2] == 0]\n",
    "ds1 = [dataset[n][0:2] for n in range(len(dataset)) if dataset[n][2] == 1]\n",
    "\n",
    "\n",
    "w = fft.svc.coef_[0]\n",
    "a = -w[0] /w[1]\n",
    "xx = np.linspace(400,1000)\n",
    "yy = a * xx - (fft.svc.intercept_[0] / w[1])\n",
    "plt.scatter(np.array(ds0[:])[:,0],np.array(ds0[:])[:,1])\n",
    "plt.scatter(np.array(ds1[:])[:,0],np.array(ds1[:])[:,1])\n",
    "# plt.scatter(np.array(ds3[:])[:,0],np.array(ds3[:])[:,1])\n",
    "plt.plot(xx,yy)\n",
    "plt.show()\n"
   ]
  },
  {
   "cell_type": "code",
   "execution_count": 2,
   "metadata": {},
   "outputs": [],
   "source": [
    "\n",
    "\n",
    "# dataset = []\n",
    "\n",
    "# for n,m in zip(['8','14'],[0,1]):\n",
    "#     for subject in range(1,5):\n",
    "#         for part in range(15):\n",
    "#             file = 'subject%s/sd%sHz1sec/%sHz1sec%sprt.csv' %(str(subject),str(n),str(n),str(part))\n",
    "#             bs = BakardjianSystem(file,classes='two_classes')\n",
    "#             bs.prep_data_extract_components()\n",
    "#             bs.extract_FFT()\n",
    "#             dataset.append([bs.features[0],bs.features[1],m])\n",
    "\n",
    "\n",
    "# features = np.array(dataset)[:,[0,1]]\n",
    "# target = np.array(dataset)[:,[2]]\n",
    "\n",
    "\n",
    "\n",
    "# scaler = MinMaxScaler()\n",
    "# scaler.fit(features)\n",
    "# scaled = scaler.transform(features)\n",
    "\n",
    "        \n",
    "\n",
    "# X_train,X_test,y_train,y_test = train_test_split(features,target)\n",
    "\n",
    "# X_trains,X_tests,y_trains,y_tests = train_test_split(scaled,target)\n",
    "# Support Vector Machine \\\n",
    "\n",
    "# from sklearn.model_selection import cross_val_score\n",
    "# from sklearn.model_selection import LeaveOneOut\n",
    "\n",
    "\n",
    "# svc = SVC(kernel='linear',C=1)\n",
    "\n",
    "# linsvc = svc.fit(X_train,y_train.ravel())\n",
    "# print(np.mean(cross_val_score(linsvc,features,target.ravel(),cv=6)))\n",
    "# joblib.dump(linsvc,'linsvc.pkl')\n",
    "\n",
    "# svc = SVC(kernel='rbf',C=1)\n",
    "\n",
    "# rbfsvc = svc.fit(X_train,np.ravel(y_train))\n",
    "# print(np.mean(cross_val_score(rbfsvc,features,target.ravel(),cv=6)))\n",
    "# joblib.dump(rbfsvc,'rbfsvc.pkl')\n"
   ]
  },
  {
   "cell_type": "code",
   "execution_count": 3,
   "metadata": {},
   "outputs": [],
   "source": [
    "\n",
    "\n",
    "# rbfsvcs = SVC(kernel='rbf')\n",
    "\n",
    "# rbfsvcs = rbfsvcs.fit(X_trains,np.ravel(y_trains))\n",
    "# print(rbfsvcs.score(X_tests,y_tests))\n",
    "# joblib.dump(rbfsvcs,'rbfsvcs.pkl')\n",
    "\n",
    "# svc = SVC(kernel='linear')\n",
    "\n",
    "# linsvcs = svc.fit(X_trains,y_trains.ravel())\n",
    "# print(linsvcs.score(X_tests,y_tests))\n",
    "# joblib.dump(linsvcs,'linsvcs.pkl')\n"
   ]
  },
  {
   "cell_type": "code",
   "execution_count": 4,
   "metadata": {},
   "outputs": [],
   "source": [
    "\n",
    "\n",
    "# knn = KNeighborsClassifier(n_neighbors=1)\n",
    "# knn.fit(X_train,np.ravel(y_train))\n",
    "# knn.score(X_test,y_test)\n",
    "\n",
    "# # plt.scatter(features[:,[0]], features[:,[1]])\n",
    "# # plt.show()\n"
   ]
  },
  {
   "cell_type": "code",
   "execution_count": 2,
   "metadata": {},
   "outputs": [
    {
     "data": {
      "text/plain": [
       "array([ 972.82993648,  764.11972582,  283.55935518])"
      ]
     },
     "execution_count": 2,
     "metadata": {},
     "output_type": "execute_result"
    }
   ],
   "source": [
    "\n",
    "# \"\"\"\n",
    "# This file is containing a class, that perform all modules for \n",
    "# Hovagim Bakardjian system that serves for feature extraction and command\n",
    "# classification in SSVEP based BCI. \n",
    "# Version 2\n",
    "# \"\"\"\n",
    "\n",
    "# import numpy as np\n",
    "# import pandas as pd\n",
    "# from bieg import ICAManager\n",
    "# import matplotlib.pyplot as plt\n",
    "# import scipy.signal as sig\n",
    "# from scipy.stats import mode\n",
    "\n",
    "\n",
    "# class BakardjianSystem(object):\n",
    "    \n",
    "#     def __init__(self,path,seconds=1,components_to_exclude = [0,14,27,28,127],\n",
    "#                  chunk = 1,extract = False,freq = 256,classes = 'three_classes',normalize=True):\n",
    "\n",
    "#         self.path = path\n",
    "#         self.seconds = seconds\n",
    "#         self.ica_file = ICAManager(input_path=self.path,method='fastica',sep=' ')\n",
    "#         self.components_to_exclude = components_to_exclude\n",
    "#         self.extract = extract\n",
    "#         self.freq = freq\n",
    "#         self.classes = classes\n",
    "#         self.normalize = normalize\n",
    "        \n",
    "#     def prep_data_extract_components(self):\n",
    "        \n",
    "#         self.ica_file.load_data()\n",
    "        \n",
    "#         if self.extract == True:\n",
    "#             self.ica_file.extract_components()\n",
    "#             self.ica_file.exclude_ica_components(\n",
    "#                 components_to_exclude=self.components_to_exclude)\n",
    "        \n",
    "#         self.data = self.ica_file.data\n",
    "#         self.o1 = self.data[15]\n",
    "#         self.oz = self.data[23]\n",
    "#         self.o2 = self.data[28]\n",
    "\n",
    "\n",
    "# class BakardjianSystemFFT(object):\n",
    "    \n",
    "#     def __init__(self,path,seconds=1,components_to_exclude = [0,14,27,28,127],\n",
    "#                  extract = False,freq = 256,classes = 'three_classes',normalize=True):\n",
    "#         self.path = path\n",
    "#         self.seconds = seconds\n",
    "#         self.freq = freq\n",
    "#         self.classes = classes\n",
    "        \n",
    "#         baksys = BakardjianSystem(path,seconds=seconds,normalize=False,classes=classes,extract=extract)\n",
    "#         baksys.prep_data_extract_components()\n",
    "        \n",
    "#         self.o1 = baksys.o1\n",
    "#         self.oz = baksys.oz\n",
    "#         self.o2 = baksys.o2\n",
    "        \n",
    "#     def extract_FFT(self):\n",
    "        \n",
    "#         if self.classes == 'two_classes':\n",
    "#             array_of_freq = np.zeros(((3,2,3)))\n",
    "#             for t,p in zip([self.o1,self.oz,self.o2],range(3)):\n",
    "#                 result = 2*abs(np.fft.fft(sig.hamming(len(t))*t,self.freq))/self.freq\n",
    "\n",
    "#                 for n,z in zip([[7,8,9],[13,14,15]],range(2)):\n",
    "#                     for r in range(3):\n",
    "#                         array_of_freq[p][z][r] = result[n[r]]\n",
    "                        \n",
    "#             array_of_freq_max =  np.zeros((3,2))\n",
    "#             for z in range(3):\n",
    "#                 for n in range(2):\n",
    "#                     array_of_freq_max[z][n] = np.max(array_of_freq[z][n])\n",
    "            \n",
    "#             features = np.array([np.max(array_of_freq_max[:,[0]]),\n",
    "#                                  np.max(array_of_freq_max[:,[1]])])\n",
    "                    \n",
    "#             self.features = features\n",
    "        \n",
    "#         if self.classes == 'three_classes':\n",
    "#             array_of_freq = np.zeros(((3,3,3)))\n",
    "#             for t,p in zip([self.o1,self.oz,self.o2],range(3)):\n",
    "#                 result = 2*abs(np.fft.fft(sig.hamming(len(t))*t,self.freq))/self.freq\n",
    "\n",
    "#                 for n,z in zip([[7,8,9],[13,14,15],[27,28,29]],range(3)):\n",
    "#                     for r in range(3):\n",
    "#                         array_of_freq[p][z][r] = result[n[r]]\n",
    "                        \n",
    "#             array_of_freq_max =  np.zeros((3,3))\n",
    "#             for z in range(3):\n",
    "#                 for n in range(3):\n",
    "#                     array_of_freq_max[z][n] = np.max(array_of_freq[z][n])\n",
    "            \n",
    "#             features = np.array([np.max(array_of_freq_max[:,[0]]),\n",
    "#                                  np.max(array_of_freq_max[:,[1]]),\n",
    "#                                  np.max(array_of_freq_max[:,[2]])])\n",
    "                    \n",
    "#             self.features = features\n",
    "            \n",
    "            \n",
    "\n",
    "# # array_of_freq_max =  np.zeros((3,3))\n",
    "# # for z in range(3):\n",
    "# #     for n in range(3):\n",
    "# #         array_of_freq_max[z][n] = np.max(result[z][n])\n",
    "            \n",
    "# bs = BakardjianSystemFFT('data08Hz_1_seconds/ssvep08Hz_sec1_prt0.csv',classes='three_classes')\n",
    "# bs.extract_FFT()\n",
    "# bs.features"
   ]
  },
  {
   "cell_type": "code",
   "execution_count": 56,
   "metadata": {},
   "outputs": [
    {
     "name": "stdout",
     "output_type": "stream",
     "text": [
      "[[ 908.52947197  640.85220194  294.46712104]\n",
      " [ 908.35583226  641.24734264  294.32992517]\n",
      " [ 908.74643231  641.02248846  294.47467353]]\n",
      "[[[ 467.73666692  908.52947197  172.42464753]\n",
      "  [ 260.75184501  640.85220194  513.78240703]\n",
      "  [ 294.46712104  258.95971993   70.60169454]]\n",
      "\n",
      " [[ 467.78565718  908.35583226  172.49192761]\n",
      "  [ 260.94392823  641.24734264  514.0419044 ]\n",
      "  [ 294.32992517  258.73601331   70.57155549]]\n",
      "\n",
      " [[ 467.80048958  908.74643231  172.50662186]\n",
      "  [ 260.92076039  641.02248846  513.86914212]\n",
      "  [ 294.47467353  258.79385369   70.55222403]]]\n"
     ]
    },
    {
     "data": {
      "text/plain": [
       "array([ 908.74643231,  641.24734264,  294.47467353])"
      ]
     },
     "execution_count": 56,
     "metadata": {},
     "output_type": "execute_result"
    }
   ],
   "source": [
    "class BakardjianSystemFFT(object):\n",
    "    \n",
    "    def __init__(self,path,seconds=1,components_to_exclude = [0,14,27,28,127],\n",
    "                 extract = False,freq = 256,classes = 'three_classes',normalize=True):\n",
    "        self.path = path\n",
    "        self.seconds = seconds\n",
    "        \n",
    "        \n",
    "        baksys = BakardjianSystem(path,seconds=seconds,normalize=False,classes=classes,extract=extract)\n",
    "        baksys.prep_data_extract_components()\n",
    "        \n",
    "        self.o1 = baksys.o1\n",
    "        self.oz = baksys.oz\n",
    "        self.o2 = baksys.o2\n",
    "        \n",
    "    \n",
    "    @staticmethod\n",
    "    def nastepnaPotega(x):\n",
    "        return 2**(x-1).bit_length()\n",
    "    \n",
    "#     def rysujFFT(self,sygnal):\n",
    "#         dlugoscFFT=self.nastepnaPotega(len(sygnal))\n",
    "#         wynik=2*abs(np.fft.fft(sig.hamming(len(sygnal))*sygnal,256))/256\n",
    "#         f=np.linspace(0,200, 256)\n",
    "#         plt.figure()\n",
    "#         plt.plot(f,wynik)\n",
    "#         plt.xlim([0,50])\n",
    "#         plt.show()\n",
    "#         return(wynik)\n",
    "    \n",
    "    def extract_FFT(self):\n",
    "        array_of_features = np.zeros(((3,3,3)))\n",
    "        for signal,element in zip([self.o1,self.oz,self.o2],range(3)):\n",
    "            FFTlength = self.nastepnaPotega(len(signal))\n",
    "            wynik = 2*abs(np.fft.fft(sig.hamming(len(signal))*signal,256))/256\n",
    "            for n in range(3):\n",
    "                array_of_features[n][element] = wynik[7]\n",
    "                array_of_features[n][element] = wynik[8]\n",
    "                array_of_features[n][element] = wynik[9]\n",
    "\n",
    "            \n",
    "        return array_of_features\n",
    "            \n",
    "            \n",
    "def nastepnaPotega(x):\n",
    "    return 2**(x-1).bit_length()\n",
    "            \n",
    "            \n",
    "        \n",
    "\n",
    "\n",
    "bs = BakardjianSystemFFT('data28Hz_1_seconds/ssvep28Hz_sec1_prt0.csv')\n",
    "\n",
    "o1 = bs.o1\n",
    "\n",
    "# bs.extract_FFT()\n",
    "\n",
    "\n",
    "\n",
    "# def rysujFFT(sygnal):\n",
    "#     dlugoscFFT=nastepnaPotega(len(sygnal))\n",
    "#     wynik=2*abs(np.fft.fft(sig.hamming(len(sygnal))*sygnal,256))/256\n",
    "#     f=np.linspace(0,200, 256)\n",
    "#     plt.figure()\n",
    "#     plt.plot(f,wynik)\n",
    "#     plt.xlim([0,50])\n",
    "#     plt.show()\n",
    "#     return(wynik)\n",
    "\n",
    "#To do: create a function that extract frequencies for just one electrode, then change it for all ones\n",
    "\n",
    "result = np.zeros(((3,3,3)))\n",
    "\n",
    "dlugoscFFT=nastepnaPotega(len(o1))\n",
    "wynik=2*abs(np.fft.fft(sig.hamming(len(o1))*o1,256))/256\n",
    "\n",
    "for n,z in zip([[7,8,9],[13,14,15],[27,28,29]],range(3)):\n",
    "    for r in range(3):\n",
    "        result[z] = n[z]\n",
    "result\n",
    "\n",
    "\n",
    "for t,s in zip([bs.o1,bs.oz,bs.o2],range(3)):\n",
    "    \n",
    "    wynik=2*abs(np.fft.fft(sig.hamming(len(t))*t,256))/256\n",
    "    for n,z in zip([[7,8,9],[13,14,15],[27,28,29]],range(3)):\n",
    "        for r in range(3):\n",
    "            result[s][z][r] = wynik[n[r]]\n",
    "result\n",
    "\n",
    "array_of_freq_max =  np.zeros((3,3))\n",
    "for z in range(3):\n",
    "    for n in range(3):\n",
    "        array_of_freq_max[z][n] = np.max(result[z][n])\n",
    "print(array_of_freq_max)\n",
    "print(result)\n",
    "np.array([np.max(array_of_freq_max[:,[0]]),np.max(array_of_freq_max[:,[1]]),np.max(array_of_freq_max[:,[2]])])"
   ]
  },
  {
   "cell_type": "code",
   "execution_count": 26,
   "metadata": {},
   "outputs": [],
   "source": [
    "\n",
    "\n",
    "\n",
    "# dataset = []\n",
    "\n",
    "# for n,m in zip(['8','14'],[0,1]):\n",
    "#     for subject in range(1,5):\n",
    "#         for part in range(15):\n",
    "#             file = 'subject%s/sd%sHz1sec/%sHz1sec%sprt.csv' %(str(subject),str(n),str(n),str(part))\n",
    "#             bs = BakardjianSystem(file,classes='two_classes')\n",
    "#             bs.prep_data_extract_components()\n",
    "#             bs.extract_FFT()\n",
    "#             dataset.append([bs.features[0],bs.features[1],m])\n",
    "        \n",
    "# for n,m in zip(['08','14'],[0,1]):\n",
    "#     for r in range(5):\n",
    "#         file = 'data%sHz_3_seconds/ssvep%sHz_sec3_prt%i.csv' %(str(n), str(n), r)\n",
    "#         bs = BakardjianSystem(file,classes='two_classes')\n",
    "#         bs.prep_data_extract_components()\n",
    "#         bs.extract_FFT()\n",
    "#         dataset.append([bs.features[0],bs.features[1],m])\n",
    "        \n",
    "# for n,m in zip(['08','14'],[0,1]):\n",
    "#     for r in range(3):\n",
    "#         file = 'data%sHz_5_seconds/ssvep%sHz_sec5_prt%i.csv' %(str(n), str(n), r)\n",
    "#         bs = BakardjianSystem(file,classes='two_classes')\n",
    "#         bs.prep_data_extract_components()\n",
    "#         bs.extract_FFT()\n",
    "# #         dataset.append([bs.features[0],bs.features[1],m])\n",
    "        \n",
    "        \n",
    "        \n",
    "# features = np.array(dataset)[:,[0,1]]\n",
    "# target = np.array(dataset)[:,[2]]\n",
    "\n",
    "\n",
    "\n",
    "\n",
    "\n",
    "\n",
    "\n",
    "\n",
    "\n",
    "\n",
    "\n",
    "\n",
    "\n",
    "\n",
    "\n",
    "\n",
    "\n",
    "\n",
    "\n",
    "\n",
    "\n",
    "\n",
    "from bak_sys import BakardjianSystem\n",
    "import numpy as np\n",
    "from scipy import signal as sig\n",
    "import pandas as pd\n",
    "import matplotlib.pyplot as plt\n",
    "import aseegg as ag\n",
    "from pylab import *\n",
    "\n",
    "\n",
    "path_08Hz = '../data/SUBJ1/SSVEP_8Hz_Trial2_SUBJ1.csv'\n",
    "path_14Hz = '../data/SUBJ1/SSVEP_14Hz_Trial1_SUBJ1.csv'\n",
    "path_28Hz = '../data/SUBJ1/SSVEP_28Hz_Trial2_SUBJ1.csv'\n",
    "\n",
    "file_08Hz = np.genfromtxt(path_08Hz,delimiter=',')[:][256*5:256*20].reshape(128,3840)\n",
    "file_14Hz = np.genfromtxt(path_14Hz,delimiter=',')[:][256*5:256*20].reshape(128,3840)\n",
    "file_28Hz = np.genfromtxt(path_28Hz,delimiter=',')[:][256*5:256*20].reshape(128,3840)\n",
    "\n",
    "def prepData(path,freq):\n",
    "    \"\"\"This function serves preparing data\"\"\"\n",
    "    file = np.genfromtxt(path_08Hz,delimiter=',')[:][256*5:256*20].reshape(128,3840)\n",
    "\n",
    "def peaks(array):\n",
    "    peak_8Hz = array \n",
    "\n",
    "prepData(file_08Hz,freq=8)"
   ]
  },
  {
   "cell_type": "code",
   "execution_count": 27,
   "metadata": {},
   "outputs": [],
   "source": [
    "Oz_08Hz = file_08Hz[15]\n",
    "Oz_14Hz = file_14Hz[15]\n",
    "Oz_28Hz = file_28Hz[15]\n",
    "\n",
    "O1_08Hz = file_08Hz[23]\n",
    "O1_14Hz = file_14Hz[23]\n",
    "O1_28Hz = file_28Hz[23]\n",
    "\n",
    "O2_08Hz = file_08Hz[28]\n",
    "O2_14Hz = file_14Hz[28]\n",
    "O2_28Hz = file_28Hz[28]"
   ]
  },
  {
   "cell_type": "code",
   "execution_count": 28,
   "metadata": {},
   "outputs": [],
   "source": [
    "fft_O1_8Hz = np.fft.fft(O1_08Hz)\n",
    "fft_O2_8Hz = np.fft.fft(O2_08Hz)\n",
    "fft_Oz_8Hz = np.fft.fft(Oz_08Hz)\n",
    "\n",
    "fft_O1_14Hz = np.fft.fft(O1_14Hz)\n",
    "fft_O2_14Hz = np.fft.fft(O2_14Hz)\n",
    "fft_Oz_14Hz = np.fft.fft(Oz_14Hz)\n",
    "\n",
    "fft_O1_28Hz = np.fft.fft(O1_28Hz)\n",
    "fft_O2_28Hz = np.fft.fft(O2_28Hz)\n",
    "fft_Oz_28Hz = np.fft.fft(Oz_28Hz)"
   ]
  },
  {
   "cell_type": "code",
   "execution_count": 29,
   "metadata": {},
   "outputs": [],
   "source": [
    "fft_8Hz = (fft_O1_8Hz+fft_O2_8Hz+fft_Oz_8Hz)/3\n",
    "fft_14Hz = (fft_O1_14Hz+fft_O2_14Hz+fft_Oz_14Hz)/3\n",
    "fft_28Hz = (fft_O1_28Hz+fft_O2_28Hz+fft_Oz_28Hz)/3"
   ]
  },
  {
   "cell_type": "code",
   "execution_count": 31,
   "metadata": {},
   "outputs": [
    {
     "ename": "ValueError",
     "evalue": "max() arg is an empty sequence",
     "output_type": "error",
     "traceback": [
      "\u001b[0;31m---------------------------------------------------------------------------\u001b[0m",
      "\u001b[0;31mValueError\u001b[0m                                Traceback (most recent call last)",
      "\u001b[0;32m<ipython-input-31-762ee22d2b90>\u001b[0m in \u001b[0;36m<module>\u001b[0;34m()\u001b[0m\n\u001b[1;32m      1\u001b[0m \u001b[0mpeak_8Hz\u001b[0m \u001b[0;34m=\u001b[0m \u001b[0mmax\u001b[0m\u001b[0;34m(\u001b[0m\u001b[0mfft_8Hz\u001b[0m\u001b[0;34m[\u001b[0m\u001b[0;36m7\u001b[0m\u001b[0;34m*\u001b[0m\u001b[0;36m256\u001b[0m\u001b[0;34m:\u001b[0m\u001b[0;36m9\u001b[0m\u001b[0;34m*\u001b[0m\u001b[0;36m256\u001b[0m\u001b[0;34m]\u001b[0m\u001b[0;34m)\u001b[0m\u001b[0;34m\u001b[0m\u001b[0m\n\u001b[1;32m      2\u001b[0m \u001b[0mpeak_14Hz\u001b[0m \u001b[0;34m=\u001b[0m \u001b[0mmax\u001b[0m\u001b[0;34m(\u001b[0m\u001b[0mfft_14Hz\u001b[0m\u001b[0;34m[\u001b[0m\u001b[0;36m13\u001b[0m\u001b[0;34m*\u001b[0m\u001b[0;36m256\u001b[0m\u001b[0;34m:\u001b[0m\u001b[0;36m15\u001b[0m\u001b[0;34m*\u001b[0m\u001b[0;36m256\u001b[0m\u001b[0;34m]\u001b[0m\u001b[0;34m)\u001b[0m\u001b[0;34m\u001b[0m\u001b[0m\n\u001b[0;32m----> 3\u001b[0;31m \u001b[0mpeak_28Hz\u001b[0m \u001b[0;34m=\u001b[0m \u001b[0mmax\u001b[0m\u001b[0;34m(\u001b[0m\u001b[0mfft_28Hz\u001b[0m\u001b[0;34m[\u001b[0m\u001b[0;36m27\u001b[0m\u001b[0;34m*\u001b[0m\u001b[0;36m256\u001b[0m\u001b[0;34m:\u001b[0m\u001b[0;36m29\u001b[0m\u001b[0;34m*\u001b[0m\u001b[0;36m256\u001b[0m\u001b[0;34m]\u001b[0m\u001b[0;34m)\u001b[0m\u001b[0;34m\u001b[0m\u001b[0m\n\u001b[0m",
      "\u001b[0;31mValueError\u001b[0m: max() arg is an empty sequence"
     ]
    }
   ],
   "source": [
    "peak_8Hz = max(fft_8Hz[7*256:9*256])\n",
    "peak_14Hz = max(fft_14Hz[13*256:15*256])\n",
    "peak_28Hz = max(fft_28Hz[27*256:29*256])\n"
   ]
  },
  {
   "cell_type": "code",
   "execution_count": 32,
   "metadata": {
    "scrolled": false
   },
   "outputs": [
    {
     "data": {
      "image/png": "[encoded data removed]",
      "text/plain": [
       "<matplotlib.figure.Figure at 0x7f05097d7978>"
      ]
     },
     "metadata": {},
     "output_type": "display_data"
    }
   ],
   "source": [
    "ag.rysujFFT(O2_14Hz)"
   ]
  },
  {
   "cell_type": "code",
   "execution_count": null,
   "metadata": {},
   "outputs": [],
   "source": []
  },
  {
   "cell_type": "code",
   "execution_count": 35,
   "metadata": {},
   "outputs": [],
   "source": [
    "\n",
    "def nastepnaPotega(x):\n",
    "    return 2**(x-1).bit_length()\n",
    "\n",
    "def rysujFFT(sygnal):\n",
    "    dlugoscFFT=nastepnaPotega(len(sygnal))\n",
    "    wynik=2*abs(np.fft.fft(sig.hamming(len(sygnal))*sygnal,256))/256\n",
    "    f=np.linspace(0,200, 256)\n",
    "#     plt.figure()\n",
    "#     plt.plot(f,wynik)\n",
    "#     plt.xlim([0,50])\n",
    "#     plt.show()\n",
    "    return(wynik)\n"
   ]
  },
  {
   "cell_type": "code",
   "execution_count": 44,
   "metadata": {},
   "outputs": [
    {
     "data": {
      "image/png": "[encoded data removed]",
      "text/plain": [
       "<matplotlib.figure.Figure at 0x7f05097cfc50>"
      ]
     },
     "metadata": {},
     "output_type": "display_data"
    }
   ],
   "source": [
    "fft_O1 = rysujFFT(O1_08Hz)\n",
    "\n",
    "plt.plot(fft_O1)\n",
    "plt.xlim([0,30])\n",
    "plt.show()\n"
   ]
  },
  {
   "cell_type": "code",
   "execution_count": 54,
   "metadata": {},
   "outputs": [
    {
     "data": {
      "text/plain": [
       "409.98361715324427"
      ]
     },
     "execution_count": 54,
     "metadata": {},
     "output_type": "execute_result"
    }
   ],
   "source": [
    "# fft_O1.shape\n",
    "fft_O1[4]"
   ]
  },
  {
   "cell_type": "code",
   "execution_count": 7,
   "metadata": {},
   "outputs": [
    {
     "data": {
      "text/plain": [
       "2"
      ]
     },
     "execution_count": 7,
     "metadata": {},
     "output_type": "execute_result"
    }
   ],
   "source": [
    "2**(2-1).bit_length()"
   ]
  },
  {
   "cell_type": "code",
   "execution_count": 24,
   "metadata": {},
   "outputs": [
    {
     "data": {
      "text/plain": [
       "0.0"
      ]
     },
     "execution_count": 24,
     "metadata": {},
     "output_type": "execute_result"
    }
   ],
   "source": [
    "np.zeros((3,3))"
   ]
  }
 ],
 "metadata": {
  "kernelspec": {
   "display_name": "Python 3",
   "language": "python",
   "name": "python3"
  },
  "language_info": {
   "codemirror_mode": {
    "name": "ipython",
    "version": 3
   },
   "file_extension": ".py",
   "mimetype": "text/x-python",
   "name": "python",
   "nbconvert_exporter": "python",
   "pygments_lexer": "ipython3",
   "version": "3.6.5"
  }
 },
 "nbformat": 4,
 "nbformat_minor": 2
}
