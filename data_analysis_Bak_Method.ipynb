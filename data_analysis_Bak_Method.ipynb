{
 "cells": [
  {
   "cell_type": "markdown",
   "metadata": {},
   "source": [
    "This is data analysis for study of Bakardjian's method in "
   ]
  },
  {
   "cell_type": "code",
   "execution_count": 279,
   "metadata": {},
   "outputs": [],
   "source": [
    "\n",
    "import aseegg as ag\n",
    "import numpy as np\n",
    "import pandas as pd\n",
    "from bieg import ICAManager\n",
    "import matplotlib.pyplot as plt\n",
    "import math\n",
    "import scipy.signal as sig\n",
    "import math\n",
    "from sklearn.preprocessing import Normalizer\n"
   ]
  },
  {
   "cell_type": "code",
   "execution_count": 31,
   "metadata": {},
   "outputs": [],
   "source": [
    "#Preparing data\n",
    "\n",
    "import aseegg as ag\n",
    "import numpy as np\n",
    "import pandas as pd\n",
    "from bieg import ICAManager\n",
    "import matplotlib.pyplot as plt\n",
    "import math\n",
    "import scipy.signal as sig\n",
    "import math\n",
    "from sklearn.preprocessing import Normalizer\n",
    "\n",
    "pre_data_path = \"../data/subject1/SSVEP_8Hz_Trial1_SUBJ1.MAT\"\n",
    "\n",
    "class BakardjianSystem(object):\n",
    "    \n",
    "    def __init__(self,path,seconds):\n",
    "        self.path = path\n",
    "        self.seconds = seconds\n",
    "        \n",
    "\n",
    "    #Module 1: Blind Source Separation/ICA \n",
    "    def bss_ica(self):\n",
    "        \n",
    "        ica_file = ICAManager(input_path=self.path,method='fastica')\n",
    "        ica_file.load_matlab_data()\n",
    "        ica_file.extract_components()\n",
    "        components_to_exclude = [0,14,16,22,24,27,28,127]\n",
    "        ica_file.exclude_ica_components(components_to_exclude=components_to_exclude)\n",
    "        return ica_file\n",
    "        \n",
    "    def bank_of_filters(self,ica_file):\n",
    "    \n",
    "        #Electrodes of occipital region\n",
    "\n",
    "        beg = 5*256\n",
    "        end = 20*256\n",
    "\n",
    "        electrode_O1 = ica_file.data[15][beg:end]\n",
    "        electrode_0z = ica_file.data[23][beg:end]\n",
    "        electrode_O2 = ica_file.data[28][beg:end]\n",
    "        #Module 2: Narrow-band filters\n",
    "\n",
    "        prefiltered = [electrode_0z,electrode_O1,electrode_O2]\n",
    "\n",
    "        #Signals filtered:\n",
    "\n",
    "        s_08Hz = np.zeros((3,len(signal_filtered_08Hz)))\n",
    "        s_14Hz = np.zeros((3,len(signal_filtered_08Hz)))\n",
    "        s_28Hz = np.zeros((3,len(signal_filtered_08Hz)))\n",
    "\n",
    "        for n in range(0,3):\n",
    "            signal_filtered_08Hz = ag.pasmowoprzepustowy(prefiltered[n],czestOdciecia1=7.9,czestOdciecia2=8.1,czestProbkowania=256)\n",
    "            signal_filtered_14Hz = ag.pasmowoprzepustowy(prefiltered[n],czestOdciecia1=13.9,czestOdciecia2=14.1,czestProbkowania=256)\n",
    "            signal_filtered_28Hz = ag.pasmowoprzepustowy(prefiltered[n],czestOdciecia1=27.9,czestOdciecia2=28.1,czestProbkowania=256)\n",
    "            s_08Hz[n] = signal_filtered_08Hz\n",
    "            s_14Hz[n] = signal_filtered_14Hz\n",
    "            s_28Hz[n] = signal_filtered_28Hz\n",
    "\n",
    "    #Module3: Variance analyzer\n",
    "\n",
    "    def variance_analyzing(self,array_to_va):\n",
    "        squared = np.square(array_to_va)\n",
    "        result = np.sqrt(squared)\n",
    "        return result\n",
    "    \n",
    "    def variance_analyzer(self,s_08Hz,s_14Hz,s_28Hz):\n",
    "        for z in [s_08Hz,s_14Hz,s_28Hz]:\n",
    "            for n in range(0,z.shape[0]):\n",
    "                z[n] = variance_analyzing(z[n])\n",
    "        return s_08Hz,s_14Hz,s_28Hz\n",
    "\n",
    "    #Module 4: smoother\n",
    "\n",
    "    def smoothing(self,array_to_smooth,window_length=15):\n",
    "        smoothed = sig.savgol_filter(array_to_smooth,polyorder=2,window_length=window_length)\n",
    "        return smoothed\n",
    "    \n",
    "    def smoother(self,s_08Hz,s_14Hz,s_28Hz):        \n",
    "        for n in [s_08Hz,s_14Hz,s_28Hz]:\n",
    "            for z in range(0,n.shape[0]):\n",
    "                n[z] = smoothing(n[z],window_length=15)\n",
    "        return s_08Hz,s_14Hz,s_28Hz\n",
    "\n",
    "    #Module5: integrator\n",
    "\n",
    "    def integrating(self,array_to_integrate):\n",
    "        result = 0\n",
    "        length = array_to_integrate.shape[0]\n",
    "        for n in range(0,length):\n",
    "            result += array_to_integrate[n]\n",
    "        result = result/length\n",
    "        return results\n",
    "    \n",
    "    def integrator(s_08Hz,s_14Hz,s_28Hz):      \n",
    "        for n in [s_08Hz,s_14Hz,s_28Hz]:\n",
    "            n = integrating(n)\n",
    "        return s_08Hz,s_14Hz,s_28Hz\n",
    "\n",
    "    \"\"\"    \n",
    "    #Module6: Normalizer\n",
    "\n",
    "    normalized = []\n",
    "\n",
    "    for r in integrated:\n",
    "        result = Normalizer(r)\n",
    "        normalized.append(result)\n",
    "    \"\"\""
   ]
  },
  {
   "cell_type": "code",
   "execution_count": 32,
   "metadata": {},
   "outputs": [],
   "source": [
    "bs = BakardjianSystem(pre_data_path,seconds=15)"
   ]
  },
  {
   "cell_type": "code",
   "execution_count": 33,
   "metadata": {},
   "outputs": [
    {
     "name": "stdout",
     "output_type": "stream",
     "text": [
      "Creating RawArray with float64 data, n_channels=128, n_times=6330\n",
      "    Range : 0 ... 6329 =      0.000 ...    24.723 secs\n",
      "Ready.\n",
      "Setting up band-pass filter from 1 - 40 Hz\n",
      "fir_design defaults to \"firwin2\" in 0.15 but will change to \"firwin\" in 0.16, set it explicitly to avoid this warning.\n",
      "l_trans_bandwidth chosen to be 1.0 Hz\n",
      "h_trans_bandwidth chosen to be 10.0 Hz\n",
      "Filter length of 1690 samples (6.602 sec) selected\n"
     ]
    },
    {
     "name": "stderr",
     "output_type": "stream",
     "text": [
      "/home/stakar/Studia/kogni/Magisterka/code/bieg.py:98: DeprecationWarning: fir_design defaults to \"firwin2\" in 0.15 but will change to \"firwin\" in 0.16, set it explicitly to avoid this warning.\n",
      "  self.raw.filter(filter[0], filter[1], n_jobs=2)\n"
     ]
    },
    {
     "name": "stdout",
     "output_type": "stream",
     "text": [
      "<ICA  |  no decomposition, fit (fastica):  samples, no dimension reduction>\n",
      "Fitting ICA to data using 128 channels. \n",
      "Please be patient, this may take some time\n",
      "Inferring max_pca_components from picks.\n"
     ]
    },
    {
     "name": "stderr",
     "output_type": "stream",
     "text": [
      "[Parallel(n_jobs=2)]: Done 128 out of 128 | elapsed:    0.1s finished\n"
     ]
    },
    {
     "name": "stdout",
     "output_type": "stream",
     "text": [
      "Using all PCA components: 128\n",
      "<ICA  |  raw data decomposition, fit (fastica): 2052 samples, 128 components, channels used: \"eeg\">\n",
      "Creating RawArray with float64 data, n_channels=128, n_times=6330\n",
      "    Range : 0 ... 6329 =      0.000 ...    24.723 secs\n",
      "Ready.\n",
      "Setting up band-pass filter from 1 - 40 Hz\n",
      "fir_design defaults to \"firwin2\" in 0.15 but will change to \"firwin\" in 0.16, set it explicitly to avoid this warning.\n",
      "l_trans_bandwidth chosen to be 1.0 Hz\n",
      "h_trans_bandwidth chosen to be 10.0 Hz\n",
      "Filter length of 1690 samples (6.602 sec) selected\n"
     ]
    },
    {
     "name": "stderr",
     "output_type": "stream",
     "text": [
      "/usr/lib/python3.6/site-packages/sklearn/decomposition/fastica_.py:116: UserWarning: FastICA did not converge. Consider increasing tolerance or the maximum number of iterations.\n",
      "  warnings.warn('FastICA did not converge. Consider increasing '\n",
      "/home/stakar/Studia/kogni/Magisterka/code/bieg.py:98: DeprecationWarning: fir_design defaults to \"firwin2\" in 0.15 but will change to \"firwin\" in 0.16, set it explicitly to avoid this warning.\n",
      "  self.raw.filter(filter[0], filter[1], n_jobs=2)\n"
     ]
    },
    {
     "name": "stdout",
     "output_type": "stream",
     "text": [
      "<ICA  |  no decomposition, fit (fastica):  samples, no dimension reduction>\n",
      "Fitting ICA to data using 128 channels. \n",
      "Please be patient, this may take some time\n",
      "Inferring max_pca_components from picks.\n"
     ]
    },
    {
     "name": "stderr",
     "output_type": "stream",
     "text": [
      "[Parallel(n_jobs=2)]: Done 128 out of 128 | elapsed:    0.1s finished\n"
     ]
    },
    {
     "name": "stdout",
     "output_type": "stream",
     "text": [
      "Using all PCA components: 128\n",
      "<ICA  |  raw data decomposition, fit (fastica): 2052 samples, 128 components, channels used: \"eeg\">\n",
      "Transforming to ICA space (128 components)\n",
      "Zeroing out 8 ICA components\n"
     ]
    },
    {
     "data": {
      "text/plain": [
       "<bieg.ICAManager at 0x7f1ea97646d8>"
      ]
     },
     "execution_count": 33,
     "metadata": {},
     "output_type": "execute_result"
    }
   ],
   "source": [
    "bs.bss_ica()"
   ]
  },
  {
   "cell_type": "code",
   "execution_count": null,
   "metadata": {},
   "outputs": [],
   "source": []
  },
  {
   "cell_type": "code",
   "execution_count": 277,
   "metadata": {},
   "outputs": [
    {
     "data": {
      "text/plain": [
       "'    \\n#Module6: Normalizer\\n\\nnormalized = []\\n\\nfor r in integrated:\\n    result = Normalizer(r)\\n    normalized.append(result)\\n'"
      ]
     },
     "execution_count": 277,
     "metadata": {},
     "output_type": "execute_result"
    }
   ],
   "source": [
    "#Module 2: Narrow-band filters\n",
    "\n",
    "prefiltered = [electrode_0z,electrode_O1,electrode_O2]\n",
    "\n",
    "#Signals filtered:\n",
    "\n",
    "s_08Hz = np.zeros((3,len(signal_filtered_08Hz)))\n",
    "s_14Hz = np.zeros((3,len(signal_filtered_08Hz)))\n",
    "s_28Hz = np.zeros((3,len(signal_filtered_08Hz)))\n",
    "\n",
    "for n in range(0,3):\n",
    "    signal_filtered_08Hz = ag.pasmowoprzepustowy(prefiltered[n],czestOdciecia1=7.9,czestOdciecia2=8.1,czestProbkowania=256)\n",
    "    signal_filtered_14Hz = ag.pasmowoprzepustowy(prefiltered[n],czestOdciecia1=13.9,czestOdciecia2=14.1,czestProbkowania=256)\n",
    "    signal_filtered_28Hz = ag.pasmowoprzepustowy(prefiltered[n],czestOdciecia1=27.9,czestOdciecia2=28.1,czestProbkowania=256)\n",
    "    s_08Hz[n] = signal_filtered_08Hz\n",
    "    s_14Hz[n] = signal_filtered_14Hz\n",
    "    s_28Hz[n] = signal_filtered_28Hz\n",
    "\n",
    "#Module3: Variance analyzer\n",
    "    \n",
    "def variance_analyzer(array_to_va):\n",
    "    squared = np.square(array_to_va)\n",
    "    result = np.sqrt(squared)\n",
    "    return result\n",
    "\n",
    "for z in [s_08Hz,s_14Hz,s_28Hz]:\n",
    "    for n in range(0,z.shape[0]):\n",
    "        z[n] = variance_analyzer(z[n])\n",
    "\n",
    "#Module 4: smoother\n",
    "\n",
    "def smoothing(array_to_smooth,window_length=15):\n",
    "    smoothed = sig.savgol_filter(array_to_smooth,polyorder=2,window_length=window_length)\n",
    "    return smoothed\n",
    "\n",
    "for n in [s_08Hz,s_14Hz,s_28Hz]:\n",
    "    for z in range(0,n.shape[0]):\n",
    "        n[z] = smoothing(n[z],window_length=15)\n",
    "    \n",
    "#Module5: integrator\n",
    "\n",
    "def integrating(array_to_integrate):\n",
    "    result = 0\n",
    "    length = array_to_integrate.shape[0]\n",
    "    for n in range(0,length):\n",
    "        result += array_to_integrate[n]\n",
    "    result = result/length\n",
    "    return results\n",
    "\n",
    "for n in [s_08Hz,s_14Hz,s_28Hz]:\n",
    "    n = integrating(n)\n",
    "\n",
    "\"\"\"    \n",
    "#Module6: Normalizer\n",
    "\n",
    "normalized = []\n",
    "\n",
    "for r in integrated:\n",
    "    result = Normalizer(r)\n",
    "    normalized.append(result)\n",
    "\"\"\""
   ]
  },
  {
   "cell_type": "code",
   "execution_count": null,
   "metadata": {},
   "outputs": [],
   "source": []
  },
  {
   "cell_type": "code",
   "execution_count": null,
   "metadata": {},
   "outputs": [],
   "source": []
  },
  {
   "cell_type": "code",
   "execution_count": null,
   "metadata": {},
   "outputs": [],
   "source": []
  },
  {
   "cell_type": "code",
   "execution_count": null,
   "metadata": {},
   "outputs": [],
   "source": []
  },
  {
   "cell_type": "code",
   "execution_count": null,
   "metadata": {},
   "outputs": [],
   "source": []
  },
  {
   "cell_type": "code",
   "execution_count": null,
   "metadata": {},
   "outputs": [],
   "source": []
  },
  {
   "cell_type": "code",
   "execution_count": null,
   "metadata": {},
   "outputs": [],
   "source": []
  }
 ],
 "metadata": {
  "kernelspec": {
   "display_name": "Python 3",
   "language": "python",
   "name": "python3"
  },
  "language_info": {
   "codemirror_mode": {
    "name": "ipython",
    "version": 3
   },
   "file_extension": ".py",
   "mimetype": "text/x-python",
   "name": "python",
   "nbconvert_exporter": "python",
   "pygments_lexer": "ipython3",
   "version": "3.6.4"
  }
 },
 "nbformat": 4,
 "nbformat_minor": 2
}
