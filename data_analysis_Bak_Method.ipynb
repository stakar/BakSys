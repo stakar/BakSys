{
 "cells": [
  {
   "cell_type": "code",
   "execution_count": 1,
   "metadata": {},
   "outputs": [],
   "source": [
    "\n",
    "\"\"\"\n",
    "This file is containing a class, that perform all extraction modules for \n",
    "Hovagim Bakardjian system that serves for classification of \n",
    "\n",
    "\"\"\"\n",
    "\n",
    "import aseegg as ag\n",
    "import numpy as np\n",
    "import pandas as pd\n",
    "from bieg import ICAManager\n",
    "import matplotlib.pyplot as plt\n",
    "import math\n",
    "import scipy.signal as sig\n",
    "\n",
    "pre_data_path = \"../data/subject1/SSVEP_8Hz_Trial1_SUBJ1.MAT\"\n",
    "pre_data_path2 = \"../data/subject1/SSVEP_14Hz_Trial1_SUBJ1.MAT\"\n",
    "pre_data_path3 = \"../data/subject1/SSVEP_28Hz_Trial3_SUBJ1.MAT\"\n",
    "\n",
    "pierwsza = 'pierwsza_sekunda_14Hz.csv'\n",
    "\n",
    "#good set of components to exclude: 0,14,27,28,127\n",
    "\n",
    "class BakardjianSystem(object):\n",
    "    \n",
    "    def __init__(self,path,seconds,components_to_exclude = [0,127],s_08Hz=np.zeros(1),\n",
    "                s_14Hz = np.zeros(1),s_28Hz = np.zeros(1),es_08Hz = np.zeros(1),\n",
    "                es_14Hz = np.zeros(1),es_28Hz = np.zeros(1),dset = np.zeros(((15,256,128))),chunk = 1):\n",
    "        self.path = path\n",
    "        self.seconds = seconds\n",
    "        self.ica_file = ICAManager(input_path=self.path,method='fastica',sep=' ')\n",
    "        self.components_to_exclude = components_to_exclude\n",
    "        self.s_08Hz = s_08Hz\n",
    "        self.s_14Hz = s_14Hz\n",
    "        self.s_28Hz = s_28Hz\n",
    "        self.es_08Hz = es_08Hz\n",
    "        self.es_14Hz = es_14Hz\n",
    "        self.es_28Hz = es_28Hz\n",
    "        self.window_length = 15\n",
    "        \n",
    "    #Module 1: Blind Source Separation/ICA \n",
    "    def bss_ica(self):\n",
    "        self.ica_file.load_data()\n",
    "        self.ica_file.extract_components()\n",
    "        self.ica_file.exclude_ica_components(components_to_exclude=self.components_to_exclude)\n",
    "        return self.ica_file\n",
    "    \n",
    "    #Module 2: Narrow-band filters\n",
    "        \n",
    "    def bank_of_filters(self):\n",
    "    \n",
    "        #Electrodes of occipital region\n",
    "        \n",
    "        ica_file = self.ica_file\n",
    "        \n",
    "        electrode_O1 = ica_file.data[15]\n",
    "        electrode_0z = ica_file.data[23]\n",
    "        electrode_O2 = ica_file.data[28]\n",
    "\n",
    "        prefiltered = [electrode_0z,electrode_O1,electrode_O2]\n",
    "\n",
    "        #Signals filtered:\n",
    "\n",
    "        self.s_08Hz = np.zeros((3,len(electrode_O1)))\n",
    "        self.s_14Hz = np.zeros((3,len(electrode_O1)))\n",
    "        self.s_28Hz = np.zeros((3,len(electrode_O1)))\n",
    "\n",
    "        for n in range(0,3):\n",
    "            signal_filtered_08Hz = ag.pasmowoprzepustowy(prefiltered[n],czestOdciecia1=7.9,czestOdciecia2=8.1,czestProbkowania=256)\n",
    "            signal_filtered_14Hz = ag.pasmowoprzepustowy(prefiltered[n],czestOdciecia1=13.9,czestOdciecia2=14.1,czestProbkowania=256)\n",
    "            signal_filtered_28Hz = ag.pasmowoprzepustowy(prefiltered[n],czestOdciecia1=27.9,czestOdciecia2=28.1,czestProbkowania=256)\n",
    "            self.s_08Hz[n] = signal_filtered_08Hz\n",
    "            self.s_14Hz[n] = signal_filtered_14Hz\n",
    "            self.s_28Hz[n] = signal_filtered_28Hz\n",
    "            \n",
    "        return self.s_08Hz, self.s_14Hz, self.s_28Hz\n",
    "        \n",
    "    #Module3: Variance analyzer\n",
    "        \n",
    "    def variance_analyzer(self):\n",
    "        for z in [self.s_08Hz,self.s_14Hz,self.s_28Hz]:\n",
    "            for n in range(0,z.shape[0]):\n",
    "                z[n] = np.square(z[n])\n",
    "                z[n] = np.sqrt(z[n])\n",
    "        return self.s_08Hz, self.s_14Hz, self.s_28Hz\n",
    "    \n",
    "    #Module 4: Smoothing procedure\n",
    "\n",
    "    def smoother(self):        \n",
    "        for z in [self.s_08Hz,self.s_14Hz,self.s_28Hz]:\n",
    "            for n in range(0,z.shape[0]):\n",
    "                z[n] = sig.savgol_filter(z[n],polyorder=2,window_length=self.window_length)\n",
    "        return self.s_08Hz,self.s_14Hz,self.s_28Hz\n",
    "\n",
    "    #Module5: Integrator\n",
    "    \n",
    "    def integrator(self):\n",
    "        self.es_08Hz = np.divide((self.s_08Hz[0] + self.s_08Hz[1] + self.s_08Hz[2]),self.s_08Hz.shape[0])\n",
    "        self.es_14Hz = np.divide((self.s_14Hz[0] + self.s_14Hz[1] + self.s_14Hz[2]),self.s_14Hz.shape[0])\n",
    "        self.es_28Hz = np.divide((self.s_28Hz[0] + self.s_28Hz[1] + self.s_28Hz[2]),self.s_28Hz.shape[0]) \n",
    "        return self.es_08Hz,self.es_14Hz,self.es_28Hz\n",
    "    \n",
    "    #Module6: Normalization\n",
    "    \n",
    "    def normalizer(self):\n",
    "        self.s_08Hz = np.sum(self.es_08Hz)/np.sum((np.sum(self.s_08Hz[0]),\n",
    "                                     np.sum(self.s_08Hz[1]),np.sum(self.s_08Hz[2])))\n",
    "        self.s_14Hz = np.sum(self.es_14Hz)/np.sum((np.sum(self.s_14Hz[0]),\n",
    "                                     np.sum(self.s_14Hz[1]),np.sum(self.s_14Hz[2])))\n",
    "        self.s_28Hz = np.sum(self.es_28Hz)/np.sum((np.sum(self.s_28Hz[0]),\n",
    "                                     np.sum(self.s_28Hz[1]),np.sum(self.s_28Hz[2])))\n",
    "        return self.s_08Hz,self.s_14Hz,self.s_28Hz\n",
    "\n",
    "    #Bakardjian system, all functions at once\n",
    "    \n",
    "    def bak_system(self):\n",
    "        self.bss_ica()\n",
    "        self.bank_of_filters()\n",
    "        self.variance_analyzer()\n",
    "        self.smoother()\n",
    "        self.integrator()\n",
    "        self.normalizer()\n",
    "        return self.s_08Hz, self.s_14Hz, self.s_28Hz \n",
    "        \n",
    "\n",
    "    "
   ]
  },
  {
   "cell_type": "code",
   "execution_count": 2,
   "metadata": {},
   "outputs": [
    {
     "name": "stdout",
     "output_type": "stream",
     "text": [
      "Creating RawArray with float64 data, n_channels=128, n_times=768\n",
      "    Range : 0 ... 767 =      0.000 ...     2.996 secs\n",
      "Ready.\n",
      "Setting up band-pass filter from 1 - 40 Hz\n",
      "fir_design defaults to \"firwin2\" in 0.15 but will change to \"firwin\" in 0.16, set it explicitly to avoid this warning.\n",
      "l_trans_bandwidth chosen to be 1.0 Hz\n",
      "h_trans_bandwidth chosen to be 10.0 Hz\n",
      "Filter length of 1690 samples (6.602 sec) selected\n",
      "filter_length (1691) is longer than the signal (768), distortion is likely. Reduce filter length or filter a longer signal.\n"
     ]
    },
    {
     "name": "stderr",
     "output_type": "stream",
     "text": [
      "/home/stakar/Studia/kogni/Magisterka/code/bieg.py:98: DeprecationWarning: fir_design defaults to \"firwin2\" in 0.15 but will change to \"firwin\" in 0.16, set it explicitly to avoid this warning.\n",
      "  self.raw.filter(filter[0], filter[1], n_jobs=2)\n",
      "/home/stakar/Studia/kogni/Magisterka/code/bieg.py:98: RuntimeWarning: filter_length (1691) is longer than the signal (768), distortion is likely. Reduce filter length or filter a longer signal.\n",
      "  self.raw.filter(filter[0], filter[1], n_jobs=2)\n"
     ]
    },
    {
     "name": "stdout",
     "output_type": "stream",
     "text": [
      "<ICA  |  no decomposition, fit (fastica):  samples, no dimension reduction>\n",
      "Fitting ICA to data using 128 channels. \n",
      "Please be patient, this may take some time\n",
      "Inferring max_pca_components from picks.\n"
     ]
    },
    {
     "name": "stderr",
     "output_type": "stream",
     "text": [
      "[Parallel(n_jobs=2)]: Done 128 out of 128 | elapsed:    0.0s finished\n"
     ]
    },
    {
     "name": "stdout",
     "output_type": "stream",
     "text": [
      "Using all PCA components: 128\n",
      "<ICA  |  raw data decomposition, fit (fastica): 171 samples, 128 components, channels used: \"eeg\">\n",
      "Creating RawArray with float64 data, n_channels=128, n_times=768\n",
      "    Range : 0 ... 767 =      0.000 ...     2.996 secs\n",
      "Ready.\n",
      "Setting up band-pass filter from 1 - 40 Hz\n",
      "fir_design defaults to \"firwin2\" in 0.15 but will change to \"firwin\" in 0.16, set it explicitly to avoid this warning.\n",
      "l_trans_bandwidth chosen to be 1.0 Hz\n",
      "h_trans_bandwidth chosen to be 10.0 Hz\n",
      "Filter length of 1690 samples (6.602 sec) selected\n",
      "filter_length (1691) is longer than the signal (768), distortion is likely. Reduce filter length or filter a longer signal.\n"
     ]
    },
    {
     "name": "stderr",
     "output_type": "stream",
     "text": [
      "/home/stakar/Studia/kogni/Magisterka/code/bieg.py:98: DeprecationWarning: fir_design defaults to \"firwin2\" in 0.15 but will change to \"firwin\" in 0.16, set it explicitly to avoid this warning.\n",
      "  self.raw.filter(filter[0], filter[1], n_jobs=2)\n",
      "/home/stakar/Studia/kogni/Magisterka/code/bieg.py:98: RuntimeWarning: filter_length (1691) is longer than the signal (768), distortion is likely. Reduce filter length or filter a longer signal.\n",
      "  self.raw.filter(filter[0], filter[1], n_jobs=2)\n"
     ]
    },
    {
     "name": "stdout",
     "output_type": "stream",
     "text": [
      "<ICA  |  no decomposition, fit (fastica):  samples, no dimension reduction>\n",
      "Fitting ICA to data using 128 channels. \n",
      "Please be patient, this may take some time\n",
      "Inferring max_pca_components from picks.\n"
     ]
    },
    {
     "name": "stderr",
     "output_type": "stream",
     "text": [
      "[Parallel(n_jobs=2)]: Done 128 out of 128 | elapsed:    0.0s finished\n"
     ]
    },
    {
     "name": "stdout",
     "output_type": "stream",
     "text": [
      "Using all PCA components: 128\n",
      "<ICA  |  raw data decomposition, fit (fastica): 171 samples, 128 components, channels used: \"eeg\">\n",
      "Transforming to ICA space (128 components)\n",
      "Zeroing out 2 ICA components\n",
      "Creating RawArray with float64 data, n_channels=128, n_times=768\n",
      "    Range : 0 ... 767 =      0.000 ...     2.996 secs\n",
      "Ready.\n",
      "Setting up band-pass filter from 1 - 40 Hz\n",
      "fir_design defaults to \"firwin2\" in 0.15 but will change to \"firwin\" in 0.16, set it explicitly to avoid this warning.\n",
      "l_trans_bandwidth chosen to be 1.0 Hz\n",
      "h_trans_bandwidth chosen to be 10.0 Hz\n",
      "Filter length of 1690 samples (6.602 sec) selected\n",
      "filter_length (1691) is longer than the signal (768), distortion is likely. Reduce filter length or filter a longer signal.\n"
     ]
    },
    {
     "name": "stderr",
     "output_type": "stream",
     "text": [
      "/home/stakar/Studia/kogni/Magisterka/code/bieg.py:98: DeprecationWarning: fir_design defaults to \"firwin2\" in 0.15 but will change to \"firwin\" in 0.16, set it explicitly to avoid this warning.\n",
      "  self.raw.filter(filter[0], filter[1], n_jobs=2)\n",
      "/home/stakar/Studia/kogni/Magisterka/code/bieg.py:98: RuntimeWarning: filter_length (1691) is longer than the signal (768), distortion is likely. Reduce filter length or filter a longer signal.\n",
      "  self.raw.filter(filter[0], filter[1], n_jobs=2)\n",
      "[Parallel(n_jobs=2)]: Done 128 out of 128 | elapsed:    0.1s finished\n"
     ]
    },
    {
     "name": "stdout",
     "output_type": "stream",
     "text": [
      "<ICA  |  no decomposition, fit (fastica):  samples, no dimension reduction>\n",
      "Fitting ICA to data using 128 channels. \n",
      "Please be patient, this may take some time\n",
      "Inferring max_pca_components from picks.\n",
      "Using all PCA components: 128\n",
      "<ICA  |  raw data decomposition, fit (fastica): 171 samples, 128 components, channels used: \"eeg\">\n",
      "Creating RawArray with float64 data, n_channels=128, n_times=768\n",
      "    Range : 0 ... 767 =      0.000 ...     2.996 secs\n",
      "Ready.\n",
      "Setting up band-pass filter from 1 - 40 Hz\n",
      "fir_design defaults to \"firwin2\" in 0.15 but will change to \"firwin\" in 0.16, set it explicitly to avoid this warning.\n",
      "l_trans_bandwidth chosen to be 1.0 Hz\n",
      "h_trans_bandwidth chosen to be 10.0 Hz\n",
      "Filter length of 1690 samples (6.602 sec) selected\n",
      "filter_length (1691) is longer than the signal (768), distortion is likely. Reduce filter length or filter a longer signal.\n"
     ]
    },
    {
     "name": "stderr",
     "output_type": "stream",
     "text": [
      "/home/stakar/Studia/kogni/Magisterka/code/bieg.py:98: DeprecationWarning: fir_design defaults to \"firwin2\" in 0.15 but will change to \"firwin\" in 0.16, set it explicitly to avoid this warning.\n",
      "  self.raw.filter(filter[0], filter[1], n_jobs=2)\n",
      "/home/stakar/Studia/kogni/Magisterka/code/bieg.py:98: RuntimeWarning: filter_length (1691) is longer than the signal (768), distortion is likely. Reduce filter length or filter a longer signal.\n",
      "  self.raw.filter(filter[0], filter[1], n_jobs=2)\n"
     ]
    },
    {
     "name": "stdout",
     "output_type": "stream",
     "text": [
      "<ICA  |  no decomposition, fit (fastica):  samples, no dimension reduction>\n",
      "Fitting ICA to data using 128 channels. \n",
      "Please be patient, this may take some time\n",
      "Inferring max_pca_components from picks.\n"
     ]
    },
    {
     "name": "stderr",
     "output_type": "stream",
     "text": [
      "[Parallel(n_jobs=2)]: Done 128 out of 128 | elapsed:    0.0s finished\n"
     ]
    },
    {
     "name": "stdout",
     "output_type": "stream",
     "text": [
      "Using all PCA components: 128\n",
      "<ICA  |  raw data decomposition, fit (fastica): 171 samples, 128 components, channels used: \"eeg\">\n",
      "Transforming to ICA space (128 components)\n",
      "Zeroing out 2 ICA components\n",
      "Creating RawArray with float64 data, n_channels=128, n_times=768\n",
      "    Range : 0 ... 767 =      0.000 ...     2.996 secs\n",
      "Ready.\n",
      "Setting up band-pass filter from 1 - 40 Hz\n",
      "fir_design defaults to \"firwin2\" in 0.15 but will change to \"firwin\" in 0.16, set it explicitly to avoid this warning.\n",
      "l_trans_bandwidth chosen to be 1.0 Hz\n",
      "h_trans_bandwidth chosen to be 10.0 Hz\n",
      "Filter length of 1690 samples (6.602 sec) selected\n",
      "filter_length (1691) is longer than the signal (768), distortion is likely. Reduce filter length or filter a longer signal.\n"
     ]
    },
    {
     "name": "stderr",
     "output_type": "stream",
     "text": [
      "/home/stakar/Studia/kogni/Magisterka/code/bieg.py:98: DeprecationWarning: fir_design defaults to \"firwin2\" in 0.15 but will change to \"firwin\" in 0.16, set it explicitly to avoid this warning.\n",
      "  self.raw.filter(filter[0], filter[1], n_jobs=2)\n",
      "/home/stakar/Studia/kogni/Magisterka/code/bieg.py:98: RuntimeWarning: filter_length (1691) is longer than the signal (768), distortion is likely. Reduce filter length or filter a longer signal.\n",
      "  self.raw.filter(filter[0], filter[1], n_jobs=2)\n"
     ]
    },
    {
     "name": "stdout",
     "output_type": "stream",
     "text": [
      "<ICA  |  no decomposition, fit (fastica):  samples, no dimension reduction>\n",
      "Fitting ICA to data using 128 channels. \n",
      "Please be patient, this may take some time\n",
      "Inferring max_pca_components from picks.\n"
     ]
    },
    {
     "name": "stderr",
     "output_type": "stream",
     "text": [
      "[Parallel(n_jobs=2)]: Done 128 out of 128 | elapsed:    0.1s finished\n"
     ]
    },
    {
     "name": "stdout",
     "output_type": "stream",
     "text": [
      "Using all PCA components: 128\n",
      "<ICA  |  raw data decomposition, fit (fastica): 171 samples, 128 components, channels used: \"eeg\">\n",
      "Creating RawArray with float64 data, n_channels=128, n_times=768\n",
      "    Range : 0 ... 767 =      0.000 ...     2.996 secs\n",
      "Ready.\n",
      "Setting up band-pass filter from 1 - 40 Hz\n",
      "fir_design defaults to \"firwin2\" in 0.15 but will change to \"firwin\" in 0.16, set it explicitly to avoid this warning.\n",
      "l_trans_bandwidth chosen to be 1.0 Hz\n",
      "h_trans_bandwidth chosen to be 10.0 Hz\n",
      "Filter length of 1690 samples (6.602 sec) selected\n",
      "filter_length (1691) is longer than the signal (768), distortion is likely. Reduce filter length or filter a longer signal.\n"
     ]
    },
    {
     "name": "stderr",
     "output_type": "stream",
     "text": [
      "/home/stakar/Studia/kogni/Magisterka/code/bieg.py:98: DeprecationWarning: fir_design defaults to \"firwin2\" in 0.15 but will change to \"firwin\" in 0.16, set it explicitly to avoid this warning.\n",
      "  self.raw.filter(filter[0], filter[1], n_jobs=2)\n",
      "/home/stakar/Studia/kogni/Magisterka/code/bieg.py:98: RuntimeWarning: filter_length (1691) is longer than the signal (768), distortion is likely. Reduce filter length or filter a longer signal.\n",
      "  self.raw.filter(filter[0], filter[1], n_jobs=2)\n",
      "[Parallel(n_jobs=2)]: Done 128 out of 128 | elapsed:    0.1s finished\n"
     ]
    },
    {
     "name": "stdout",
     "output_type": "stream",
     "text": [
      "<ICA  |  no decomposition, fit (fastica):  samples, no dimension reduction>\n",
      "Fitting ICA to data using 128 channels. \n",
      "Please be patient, this may take some time\n",
      "Inferring max_pca_components from picks.\n",
      "Using all PCA components: 128\n",
      "<ICA  |  raw data decomposition, fit (fastica): 171 samples, 128 components, channels used: \"eeg\">\n",
      "Transforming to ICA space (128 components)\n",
      "Zeroing out 2 ICA components\n",
      "Creating RawArray with float64 data, n_channels=128, n_times=768\n",
      "    Range : 0 ... 767 =      0.000 ...     2.996 secs\n",
      "Ready.\n",
      "Setting up band-pass filter from 1 - 40 Hz\n",
      "fir_design defaults to \"firwin2\" in 0.15 but will change to \"firwin\" in 0.16, set it explicitly to avoid this warning.\n",
      "l_trans_bandwidth chosen to be 1.0 Hz\n",
      "h_trans_bandwidth chosen to be 10.0 Hz\n",
      "Filter length of 1690 samples (6.602 sec) selected\n",
      "filter_length (1691) is longer than the signal (768), distortion is likely. Reduce filter length or filter a longer signal.\n"
     ]
    },
    {
     "name": "stderr",
     "output_type": "stream",
     "text": [
      "/home/stakar/Studia/kogni/Magisterka/code/bieg.py:98: DeprecationWarning: fir_design defaults to \"firwin2\" in 0.15 but will change to \"firwin\" in 0.16, set it explicitly to avoid this warning.\n",
      "  self.raw.filter(filter[0], filter[1], n_jobs=2)\n",
      "/home/stakar/Studia/kogni/Magisterka/code/bieg.py:98: RuntimeWarning: filter_length (1691) is longer than the signal (768), distortion is likely. Reduce filter length or filter a longer signal.\n",
      "  self.raw.filter(filter[0], filter[1], n_jobs=2)\n"
     ]
    },
    {
     "name": "stdout",
     "output_type": "stream",
     "text": [
      "<ICA  |  no decomposition, fit (fastica):  samples, no dimension reduction>\n",
      "Fitting ICA to data using 128 channels. \n",
      "Please be patient, this may take some time\n",
      "Inferring max_pca_components from picks.\n"
     ]
    },
    {
     "name": "stderr",
     "output_type": "stream",
     "text": [
      "[Parallel(n_jobs=2)]: Done 128 out of 128 | elapsed:    0.0s finished\n"
     ]
    },
    {
     "name": "stdout",
     "output_type": "stream",
     "text": [
      "Using all PCA components: 128\n",
      "<ICA  |  raw data decomposition, fit (fastica): 171 samples, 128 components, channels used: \"eeg\">\n",
      "Creating RawArray with float64 data, n_channels=128, n_times=768\n",
      "    Range : 0 ... 767 =      0.000 ...     2.996 secs\n",
      "Ready.\n",
      "Setting up band-pass filter from 1 - 40 Hz\n",
      "fir_design defaults to \"firwin2\" in 0.15 but will change to \"firwin\" in 0.16, set it explicitly to avoid this warning.\n",
      "l_trans_bandwidth chosen to be 1.0 Hz\n",
      "h_trans_bandwidth chosen to be 10.0 Hz\n",
      "Filter length of 1690 samples (6.602 sec) selected\n",
      "filter_length (1691) is longer than the signal (768), distortion is likely. Reduce filter length or filter a longer signal.\n"
     ]
    },
    {
     "name": "stderr",
     "output_type": "stream",
     "text": [
      "/home/stakar/Studia/kogni/Magisterka/code/bieg.py:98: DeprecationWarning: fir_design defaults to \"firwin2\" in 0.15 but will change to \"firwin\" in 0.16, set it explicitly to avoid this warning.\n",
      "  self.raw.filter(filter[0], filter[1], n_jobs=2)\n",
      "/home/stakar/Studia/kogni/Magisterka/code/bieg.py:98: RuntimeWarning: filter_length (1691) is longer than the signal (768), distortion is likely. Reduce filter length or filter a longer signal.\n",
      "  self.raw.filter(filter[0], filter[1], n_jobs=2)\n",
      "[Parallel(n_jobs=2)]: Done 128 out of 128 | elapsed:    0.0s finished\n"
     ]
    },
    {
     "name": "stdout",
     "output_type": "stream",
     "text": [
      "<ICA  |  no decomposition, fit (fastica):  samples, no dimension reduction>\n",
      "Fitting ICA to data using 128 channels. \n",
      "Please be patient, this may take some time\n",
      "Inferring max_pca_components from picks.\n",
      "Using all PCA components: 128\n",
      "<ICA  |  raw data decomposition, fit (fastica): 171 samples, 128 components, channels used: \"eeg\">\n",
      "Transforming to ICA space (128 components)\n",
      "Zeroing out 2 ICA components\n",
      "Creating RawArray with float64 data, n_channels=128, n_times=768\n",
      "    Range : 0 ... 767 =      0.000 ...     2.996 secs\n",
      "Ready.\n",
      "Setting up band-pass filter from 1 - 40 Hz\n",
      "fir_design defaults to \"firwin2\" in 0.15 but will change to \"firwin\" in 0.16, set it explicitly to avoid this warning.\n",
      "l_trans_bandwidth chosen to be 1.0 Hz\n",
      "h_trans_bandwidth chosen to be 10.0 Hz\n",
      "Filter length of 1690 samples (6.602 sec) selected\n",
      "filter_length (1691) is longer than the signal (768), distortion is likely. Reduce filter length or filter a longer signal.\n"
     ]
    },
    {
     "name": "stderr",
     "output_type": "stream",
     "text": [
      "/home/stakar/Studia/kogni/Magisterka/code/bieg.py:98: DeprecationWarning: fir_design defaults to \"firwin2\" in 0.15 but will change to \"firwin\" in 0.16, set it explicitly to avoid this warning.\n",
      "  self.raw.filter(filter[0], filter[1], n_jobs=2)\n",
      "/home/stakar/Studia/kogni/Magisterka/code/bieg.py:98: RuntimeWarning: filter_length (1691) is longer than the signal (768), distortion is likely. Reduce filter length or filter a longer signal.\n",
      "  self.raw.filter(filter[0], filter[1], n_jobs=2)\n"
     ]
    },
    {
     "name": "stdout",
     "output_type": "stream",
     "text": [
      "<ICA  |  no decomposition, fit (fastica):  samples, no dimension reduction>\n",
      "Fitting ICA to data using 128 channels. \n",
      "Please be patient, this may take some time\n",
      "Inferring max_pca_components from picks.\n"
     ]
    },
    {
     "name": "stderr",
     "output_type": "stream",
     "text": [
      "[Parallel(n_jobs=2)]: Done 128 out of 128 | elapsed:    0.0s finished\n"
     ]
    },
    {
     "name": "stdout",
     "output_type": "stream",
     "text": [
      "Using all PCA components: 128\n",
      "<ICA  |  raw data decomposition, fit (fastica): 171 samples, 128 components, channels used: \"eeg\">\n",
      "Creating RawArray with float64 data, n_channels=128, n_times=768\n",
      "    Range : 0 ... 767 =      0.000 ...     2.996 secs\n",
      "Ready.\n",
      "Setting up band-pass filter from 1 - 40 Hz\n",
      "fir_design defaults to \"firwin2\" in 0.15 but will change to \"firwin\" in 0.16, set it explicitly to avoid this warning.\n",
      "l_trans_bandwidth chosen to be 1.0 Hz\n",
      "h_trans_bandwidth chosen to be 10.0 Hz\n",
      "Filter length of 1690 samples (6.602 sec) selected\n",
      "filter_length (1691) is longer than the signal (768), distortion is likely. Reduce filter length or filter a longer signal.\n"
     ]
    },
    {
     "name": "stderr",
     "output_type": "stream",
     "text": [
      "/home/stakar/Studia/kogni/Magisterka/code/bieg.py:98: DeprecationWarning: fir_design defaults to \"firwin2\" in 0.15 but will change to \"firwin\" in 0.16, set it explicitly to avoid this warning.\n",
      "  self.raw.filter(filter[0], filter[1], n_jobs=2)\n",
      "/home/stakar/Studia/kogni/Magisterka/code/bieg.py:98: RuntimeWarning: filter_length (1691) is longer than the signal (768), distortion is likely. Reduce filter length or filter a longer signal.\n",
      "  self.raw.filter(filter[0], filter[1], n_jobs=2)\n"
     ]
    },
    {
     "name": "stdout",
     "output_type": "stream",
     "text": [
      "<ICA  |  no decomposition, fit (fastica):  samples, no dimension reduction>\n",
      "Fitting ICA to data using 128 channels. \n",
      "Please be patient, this may take some time\n",
      "Inferring max_pca_components from picks.\n"
     ]
    },
    {
     "name": "stderr",
     "output_type": "stream",
     "text": [
      "[Parallel(n_jobs=2)]: Done 128 out of 128 | elapsed:    0.0s finished\n"
     ]
    },
    {
     "name": "stdout",
     "output_type": "stream",
     "text": [
      "Using all PCA components: 128\n",
      "<ICA  |  raw data decomposition, fit (fastica): 171 samples, 128 components, channels used: \"eeg\">\n",
      "Transforming to ICA space (128 components)\n",
      "Zeroing out 2 ICA components\n",
      "Creating RawArray with float64 data, n_channels=128, n_times=768\n",
      "    Range : 0 ... 767 =      0.000 ...     2.996 secs\n",
      "Ready.\n",
      "Setting up band-pass filter from 1 - 40 Hz\n",
      "fir_design defaults to \"firwin2\" in 0.15 but will change to \"firwin\" in 0.16, set it explicitly to avoid this warning.\n",
      "l_trans_bandwidth chosen to be 1.0 Hz\n",
      "h_trans_bandwidth chosen to be 10.0 Hz\n",
      "Filter length of 1690 samples (6.602 sec) selected\n",
      "filter_length (1691) is longer than the signal (768), distortion is likely. Reduce filter length or filter a longer signal.\n"
     ]
    },
    {
     "name": "stderr",
     "output_type": "stream",
     "text": [
      "/home/stakar/Studia/kogni/Magisterka/code/bieg.py:98: DeprecationWarning: fir_design defaults to \"firwin2\" in 0.15 but will change to \"firwin\" in 0.16, set it explicitly to avoid this warning.\n",
      "  self.raw.filter(filter[0], filter[1], n_jobs=2)\n",
      "/home/stakar/Studia/kogni/Magisterka/code/bieg.py:98: RuntimeWarning: filter_length (1691) is longer than the signal (768), distortion is likely. Reduce filter length or filter a longer signal.\n",
      "  self.raw.filter(filter[0], filter[1], n_jobs=2)\n"
     ]
    },
    {
     "name": "stdout",
     "output_type": "stream",
     "text": [
      "<ICA  |  no decomposition, fit (fastica):  samples, no dimension reduction>\n",
      "Fitting ICA to data using 128 channels. \n",
      "Please be patient, this may take some time\n",
      "Inferring max_pca_components from picks.\n"
     ]
    },
    {
     "name": "stderr",
     "output_type": "stream",
     "text": [
      "[Parallel(n_jobs=2)]: Done 128 out of 128 | elapsed:    0.0s finished\n"
     ]
    },
    {
     "name": "stdout",
     "output_type": "stream",
     "text": [
      "Using all PCA components: 128\n",
      "<ICA  |  raw data decomposition, fit (fastica): 171 samples, 128 components, channels used: \"eeg\">\n",
      "Creating RawArray with float64 data, n_channels=128, n_times=768\n",
      "    Range : 0 ... 767 =      0.000 ...     2.996 secs\n",
      "Ready.\n",
      "Setting up band-pass filter from 1 - 40 Hz\n",
      "fir_design defaults to \"firwin2\" in 0.15 but will change to \"firwin\" in 0.16, set it explicitly to avoid this warning.\n",
      "l_trans_bandwidth chosen to be 1.0 Hz\n",
      "h_trans_bandwidth chosen to be 10.0 Hz\n",
      "Filter length of 1690 samples (6.602 sec) selected\n",
      "filter_length (1691) is longer than the signal (768), distortion is likely. Reduce filter length or filter a longer signal.\n"
     ]
    },
    {
     "name": "stderr",
     "output_type": "stream",
     "text": [
      "/home/stakar/Studia/kogni/Magisterka/code/bieg.py:98: DeprecationWarning: fir_design defaults to \"firwin2\" in 0.15 but will change to \"firwin\" in 0.16, set it explicitly to avoid this warning.\n",
      "  self.raw.filter(filter[0], filter[1], n_jobs=2)\n",
      "/home/stakar/Studia/kogni/Magisterka/code/bieg.py:98: RuntimeWarning: filter_length (1691) is longer than the signal (768), distortion is likely. Reduce filter length or filter a longer signal.\n",
      "  self.raw.filter(filter[0], filter[1], n_jobs=2)\n"
     ]
    },
    {
     "name": "stdout",
     "output_type": "stream",
     "text": [
      "<ICA  |  no decomposition, fit (fastica):  samples, no dimension reduction>\n",
      "Fitting ICA to data using 128 channels. \n",
      "Please be patient, this may take some time\n",
      "Inferring max_pca_components from picks.\n"
     ]
    },
    {
     "name": "stderr",
     "output_type": "stream",
     "text": [
      "[Parallel(n_jobs=2)]: Done 128 out of 128 | elapsed:    0.1s finished\n"
     ]
    },
    {
     "name": "stdout",
     "output_type": "stream",
     "text": [
      "Using all PCA components: 128\n",
      "<ICA  |  raw data decomposition, fit (fastica): 171 samples, 128 components, channels used: \"eeg\">\n",
      "Transforming to ICA space (128 components)\n",
      "Zeroing out 2 ICA components\n",
      "Creating RawArray with float64 data, n_channels=128, n_times=768\n",
      "    Range : 0 ... 767 =      0.000 ...     2.996 secs\n",
      "Ready.\n",
      "Setting up band-pass filter from 1 - 40 Hz\n",
      "fir_design defaults to \"firwin2\" in 0.15 but will change to \"firwin\" in 0.16, set it explicitly to avoid this warning.\n",
      "l_trans_bandwidth chosen to be 1.0 Hz\n",
      "h_trans_bandwidth chosen to be 10.0 Hz\n",
      "Filter length of 1690 samples (6.602 sec) selected\n",
      "filter_length (1691) is longer than the signal (768), distortion is likely. Reduce filter length or filter a longer signal.\n"
     ]
    },
    {
     "name": "stderr",
     "output_type": "stream",
     "text": [
      "/home/stakar/Studia/kogni/Magisterka/code/bieg.py:98: DeprecationWarning: fir_design defaults to \"firwin2\" in 0.15 but will change to \"firwin\" in 0.16, set it explicitly to avoid this warning.\n",
      "  self.raw.filter(filter[0], filter[1], n_jobs=2)\n",
      "/home/stakar/Studia/kogni/Magisterka/code/bieg.py:98: RuntimeWarning: filter_length (1691) is longer than the signal (768), distortion is likely. Reduce filter length or filter a longer signal.\n",
      "  self.raw.filter(filter[0], filter[1], n_jobs=2)\n"
     ]
    },
    {
     "name": "stdout",
     "output_type": "stream",
     "text": [
      "<ICA  |  no decomposition, fit (fastica):  samples, no dimension reduction>\n",
      "Fitting ICA to data using 128 channels. \n",
      "Please be patient, this may take some time\n",
      "Inferring max_pca_components from picks.\n"
     ]
    },
    {
     "name": "stderr",
     "output_type": "stream",
     "text": [
      "[Parallel(n_jobs=2)]: Done 128 out of 128 | elapsed:    0.0s finished\n"
     ]
    },
    {
     "name": "stdout",
     "output_type": "stream",
     "text": [
      "Using all PCA components: 128\n",
      "<ICA  |  raw data decomposition, fit (fastica): 171 samples, 128 components, channels used: \"eeg\">\n",
      "Creating RawArray with float64 data, n_channels=128, n_times=768\n",
      "    Range : 0 ... 767 =      0.000 ...     2.996 secs\n",
      "Ready.\n",
      "Setting up band-pass filter from 1 - 40 Hz\n",
      "fir_design defaults to \"firwin2\" in 0.15 but will change to \"firwin\" in 0.16, set it explicitly to avoid this warning.\n",
      "l_trans_bandwidth chosen to be 1.0 Hz\n",
      "h_trans_bandwidth chosen to be 10.0 Hz\n",
      "Filter length of 1690 samples (6.602 sec) selected\n",
      "filter_length (1691) is longer than the signal (768), distortion is likely. Reduce filter length or filter a longer signal.\n"
     ]
    },
    {
     "name": "stderr",
     "output_type": "stream",
     "text": [
      "/home/stakar/Studia/kogni/Magisterka/code/bieg.py:98: DeprecationWarning: fir_design defaults to \"firwin2\" in 0.15 but will change to \"firwin\" in 0.16, set it explicitly to avoid this warning.\n",
      "  self.raw.filter(filter[0], filter[1], n_jobs=2)\n",
      "/home/stakar/Studia/kogni/Magisterka/code/bieg.py:98: RuntimeWarning: filter_length (1691) is longer than the signal (768), distortion is likely. Reduce filter length or filter a longer signal.\n",
      "  self.raw.filter(filter[0], filter[1], n_jobs=2)\n"
     ]
    },
    {
     "name": "stdout",
     "output_type": "stream",
     "text": [
      "<ICA  |  no decomposition, fit (fastica):  samples, no dimension reduction>\n",
      "Fitting ICA to data using 128 channels. \n",
      "Please be patient, this may take some time\n",
      "Inferring max_pca_components from picks.\n"
     ]
    },
    {
     "name": "stderr",
     "output_type": "stream",
     "text": [
      "[Parallel(n_jobs=2)]: Done 128 out of 128 | elapsed:    0.1s finished\n"
     ]
    },
    {
     "name": "stdout",
     "output_type": "stream",
     "text": [
      "Using all PCA components: 128\n",
      "<ICA  |  raw data decomposition, fit (fastica): 171 samples, 128 components, channels used: \"eeg\">\n",
      "Transforming to ICA space (128 components)\n",
      "Zeroing out 2 ICA components\n",
      "Creating RawArray with float64 data, n_channels=128, n_times=768\n",
      "    Range : 0 ... 767 =      0.000 ...     2.996 secs\n",
      "Ready.\n",
      "Setting up band-pass filter from 1 - 40 Hz\n",
      "fir_design defaults to \"firwin2\" in 0.15 but will change to \"firwin\" in 0.16, set it explicitly to avoid this warning.\n",
      "l_trans_bandwidth chosen to be 1.0 Hz\n",
      "h_trans_bandwidth chosen to be 10.0 Hz\n",
      "Filter length of 1690 samples (6.602 sec) selected\n",
      "filter_length (1691) is longer than the signal (768), distortion is likely. Reduce filter length or filter a longer signal.\n"
     ]
    },
    {
     "name": "stderr",
     "output_type": "stream",
     "text": [
      "/home/stakar/Studia/kogni/Magisterka/code/bieg.py:98: DeprecationWarning: fir_design defaults to \"firwin2\" in 0.15 but will change to \"firwin\" in 0.16, set it explicitly to avoid this warning.\n",
      "  self.raw.filter(filter[0], filter[1], n_jobs=2)\n",
      "/home/stakar/Studia/kogni/Magisterka/code/bieg.py:98: RuntimeWarning: filter_length (1691) is longer than the signal (768), distortion is likely. Reduce filter length or filter a longer signal.\n",
      "  self.raw.filter(filter[0], filter[1], n_jobs=2)\n"
     ]
    },
    {
     "name": "stdout",
     "output_type": "stream",
     "text": [
      "<ICA  |  no decomposition, fit (fastica):  samples, no dimension reduction>"
     ]
    },
    {
     "name": "stderr",
     "output_type": "stream",
     "text": [
      "[Parallel(n_jobs=2)]: Done 128 out of 128 | elapsed:    0.1s finished\n"
     ]
    },
    {
     "name": "stdout",
     "output_type": "stream",
     "text": [
      "\n",
      "Fitting ICA to data using 128 channels. \n",
      "Please be patient, this may take some time\n",
      "Inferring max_pca_components from picks.\n",
      "Using all PCA components: 128\n",
      "<ICA  |  raw data decomposition, fit (fastica): 171 samples, 128 components, channels used: \"eeg\">\n",
      "Creating RawArray with float64 data, n_channels=128, n_times=768\n",
      "    Range : 0 ... 767 =      0.000 ...     2.996 secs\n",
      "Ready.\n",
      "Setting up band-pass filter from 1 - 40 Hz\n",
      "fir_design defaults to \"firwin2\" in 0.15 but will change to \"firwin\" in 0.16, set it explicitly to avoid this warning.\n",
      "l_trans_bandwidth chosen to be 1.0 Hz\n",
      "h_trans_bandwidth chosen to be 10.0 Hz\n",
      "Filter length of 1690 samples (6.602 sec) selected\n",
      "filter_length (1691) is longer than the signal (768), distortion is likely. Reduce filter length or filter a longer signal.\n"
     ]
    },
    {
     "name": "stderr",
     "output_type": "stream",
     "text": [
      "/home/stakar/Studia/kogni/Magisterka/code/bieg.py:98: DeprecationWarning: fir_design defaults to \"firwin2\" in 0.15 but will change to \"firwin\" in 0.16, set it explicitly to avoid this warning.\n",
      "  self.raw.filter(filter[0], filter[1], n_jobs=2)\n",
      "/home/stakar/Studia/kogni/Magisterka/code/bieg.py:98: RuntimeWarning: filter_length (1691) is longer than the signal (768), distortion is likely. Reduce filter length or filter a longer signal.\n",
      "  self.raw.filter(filter[0], filter[1], n_jobs=2)\n"
     ]
    },
    {
     "name": "stdout",
     "output_type": "stream",
     "text": [
      "<ICA  |  no decomposition, fit (fastica):  samples, no dimension reduction>\n",
      "Fitting ICA to data using 128 channels. \n",
      "Please be patient, this may take some time\n",
      "Inferring max_pca_components from picks.\n"
     ]
    },
    {
     "name": "stderr",
     "output_type": "stream",
     "text": [
      "[Parallel(n_jobs=2)]: Done 128 out of 128 | elapsed:    0.0s finished\n"
     ]
    },
    {
     "name": "stdout",
     "output_type": "stream",
     "text": [
      "Using all PCA components: 128\n",
      "<ICA  |  raw data decomposition, fit (fastica): 171 samples, 128 components, channels used: \"eeg\">\n",
      "Transforming to ICA space (128 components)\n",
      "Zeroing out 2 ICA components\n",
      "Creating RawArray with float64 data, n_channels=128, n_times=768\n",
      "    Range : 0 ... 767 =      0.000 ...     2.996 secs\n",
      "Ready.\n",
      "Setting up band-pass filter from 1 - 40 Hz\n",
      "fir_design defaults to \"firwin2\" in 0.15 but will change to \"firwin\" in 0.16, set it explicitly to avoid this warning.\n",
      "l_trans_bandwidth chosen to be 1.0 Hz\n",
      "h_trans_bandwidth chosen to be 10.0 Hz\n",
      "Filter length of 1690 samples (6.602 sec) selected\n",
      "filter_length (1691) is longer than the signal (768), distortion is likely. Reduce filter length or filter a longer signal.\n"
     ]
    },
    {
     "name": "stderr",
     "output_type": "stream",
     "text": [
      "/home/stakar/Studia/kogni/Magisterka/code/bieg.py:98: DeprecationWarning: fir_design defaults to \"firwin2\" in 0.15 but will change to \"firwin\" in 0.16, set it explicitly to avoid this warning.\n",
      "  self.raw.filter(filter[0], filter[1], n_jobs=2)\n",
      "/home/stakar/Studia/kogni/Magisterka/code/bieg.py:98: RuntimeWarning: filter_length (1691) is longer than the signal (768), distortion is likely. Reduce filter length or filter a longer signal.\n",
      "  self.raw.filter(filter[0], filter[1], n_jobs=2)\n"
     ]
    },
    {
     "name": "stdout",
     "output_type": "stream",
     "text": [
      "<ICA  |  no decomposition, fit (fastica):  samples, no dimension reduction>\n",
      "Fitting ICA to data using 128 channels. \n",
      "Please be patient, this may take some time\n",
      "Inferring max_pca_components from picks.\n"
     ]
    },
    {
     "name": "stderr",
     "output_type": "stream",
     "text": [
      "[Parallel(n_jobs=2)]: Done 128 out of 128 | elapsed:    0.0s finished\n"
     ]
    },
    {
     "name": "stdout",
     "output_type": "stream",
     "text": [
      "Using all PCA components: 128\n",
      "<ICA  |  raw data decomposition, fit (fastica): 171 samples, 128 components, channels used: \"eeg\">\n",
      "Creating RawArray with float64 data, n_channels=128, n_times=768\n",
      "    Range : 0 ... 767 =      0.000 ...     2.996 secs\n",
      "Ready.\n",
      "Setting up band-pass filter from 1 - 40 Hz\n",
      "fir_design defaults to \"firwin2\" in 0.15 but will change to \"firwin\" in 0.16, set it explicitly to avoid this warning.\n",
      "l_trans_bandwidth chosen to be 1.0 Hz\n",
      "h_trans_bandwidth chosen to be 10.0 Hz\n",
      "Filter length of 1690 samples (6.602 sec) selected\n",
      "filter_length (1691) is longer than the signal (768), distortion is likely. Reduce filter length or filter a longer signal.\n"
     ]
    },
    {
     "name": "stderr",
     "output_type": "stream",
     "text": [
      "/home/stakar/Studia/kogni/Magisterka/code/bieg.py:98: DeprecationWarning: fir_design defaults to \"firwin2\" in 0.15 but will change to \"firwin\" in 0.16, set it explicitly to avoid this warning.\n",
      "  self.raw.filter(filter[0], filter[1], n_jobs=2)\n",
      "/home/stakar/Studia/kogni/Magisterka/code/bieg.py:98: RuntimeWarning: filter_length (1691) is longer than the signal (768), distortion is likely. Reduce filter length or filter a longer signal.\n",
      "  self.raw.filter(filter[0], filter[1], n_jobs=2)\n"
     ]
    },
    {
     "name": "stdout",
     "output_type": "stream",
     "text": [
      "<ICA  |  no decomposition, fit (fastica):  samples, no dimension reduction>\n",
      "Fitting ICA to data using 128 channels. \n",
      "Please be patient, this may take some time\n",
      "Inferring max_pca_components from picks.\n"
     ]
    },
    {
     "name": "stderr",
     "output_type": "stream",
     "text": [
      "[Parallel(n_jobs=2)]: Done 128 out of 128 | elapsed:    0.0s finished\n"
     ]
    },
    {
     "name": "stdout",
     "output_type": "stream",
     "text": [
      "Using all PCA components: 128\n",
      "<ICA  |  raw data decomposition, fit (fastica): 171 samples, 128 components, channels used: \"eeg\">\n",
      "Transforming to ICA space (128 components)\n",
      "Zeroing out 2 ICA components\n",
      "Creating RawArray with float64 data, n_channels=128, n_times=768\n",
      "    Range : 0 ... 767 =      0.000 ...     2.996 secs\n",
      "Ready.\n",
      "Setting up band-pass filter from 1 - 40 Hz\n",
      "fir_design defaults to \"firwin2\" in 0.15 but will change to \"firwin\" in 0.16, set it explicitly to avoid this warning.\n",
      "l_trans_bandwidth chosen to be 1.0 Hz\n",
      "h_trans_bandwidth chosen to be 10.0 Hz\n",
      "Filter length of 1690 samples (6.602 sec) selected\n",
      "filter_length (1691) is longer than the signal (768), distortion is likely. Reduce filter length or filter a longer signal.\n"
     ]
    },
    {
     "name": "stderr",
     "output_type": "stream",
     "text": [
      "/home/stakar/Studia/kogni/Magisterka/code/bieg.py:98: DeprecationWarning: fir_design defaults to \"firwin2\" in 0.15 but will change to \"firwin\" in 0.16, set it explicitly to avoid this warning.\n",
      "  self.raw.filter(filter[0], filter[1], n_jobs=2)\n",
      "/home/stakar/Studia/kogni/Magisterka/code/bieg.py:98: RuntimeWarning: filter_length (1691) is longer than the signal (768), distortion is likely. Reduce filter length or filter a longer signal.\n",
      "  self.raw.filter(filter[0], filter[1], n_jobs=2)\n",
      "[Parallel(n_jobs=2)]: Done 128 out of 128 | elapsed:    0.1s finished\n"
     ]
    },
    {
     "name": "stdout",
     "output_type": "stream",
     "text": [
      "<ICA  |  no decomposition, fit (fastica):  samples, no dimension reduction>\n",
      "Fitting ICA to data using 128 channels. \n",
      "Please be patient, this may take some time\n",
      "Inferring max_pca_components from picks.\n",
      "Using all PCA components: 128\n",
      "<ICA  |  raw data decomposition, fit (fastica): 171 samples, 128 components, channels used: \"eeg\">\n",
      "Creating RawArray with float64 data, n_channels=128, n_times=768\n",
      "    Range : 0 ... 767 =      0.000 ...     2.996 secs\n",
      "Ready.\n",
      "Setting up band-pass filter from 1 - 40 Hz\n",
      "fir_design defaults to \"firwin2\" in 0.15 but will change to \"firwin\" in 0.16, set it explicitly to avoid this warning.\n",
      "l_trans_bandwidth chosen to be 1.0 Hz\n",
      "h_trans_bandwidth chosen to be 10.0 Hz\n",
      "Filter length of 1690 samples (6.602 sec) selected\n",
      "filter_length (1691) is longer than the signal (768), distortion is likely. Reduce filter length or filter a longer signal.\n"
     ]
    },
    {
     "name": "stderr",
     "output_type": "stream",
     "text": [
      "/home/stakar/Studia/kogni/Magisterka/code/bieg.py:98: DeprecationWarning: fir_design defaults to \"firwin2\" in 0.15 but will change to \"firwin\" in 0.16, set it explicitly to avoid this warning.\n",
      "  self.raw.filter(filter[0], filter[1], n_jobs=2)\n",
      "/home/stakar/Studia/kogni/Magisterka/code/bieg.py:98: RuntimeWarning: filter_length (1691) is longer than the signal (768), distortion is likely. Reduce filter length or filter a longer signal.\n",
      "  self.raw.filter(filter[0], filter[1], n_jobs=2)\n"
     ]
    },
    {
     "name": "stdout",
     "output_type": "stream",
     "text": [
      "<ICA  |  no decomposition, fit (fastica):  samples, no dimension reduction>\n",
      "Fitting ICA to data using 128 channels. \n",
      "Please be patient, this may take some time\n",
      "Inferring max_pca_components from picks.\n"
     ]
    },
    {
     "name": "stderr",
     "output_type": "stream",
     "text": [
      "[Parallel(n_jobs=2)]: Done 128 out of 128 | elapsed:    0.1s finished\n"
     ]
    },
    {
     "name": "stdout",
     "output_type": "stream",
     "text": [
      "Using all PCA components: 128\n",
      "<ICA  |  raw data decomposition, fit (fastica): 171 samples, 128 components, channels used: \"eeg\">\n",
      "Transforming to ICA space (128 components)\n",
      "Zeroing out 2 ICA components\n",
      "Creating RawArray with float64 data, n_channels=128, n_times=768\n",
      "    Range : 0 ... 767 =      0.000 ...     2.996 secs\n",
      "Ready.\n",
      "Setting up band-pass filter from 1 - 40 Hz\n",
      "fir_design defaults to \"firwin2\" in 0.15 but will change to \"firwin\" in 0.16, set it explicitly to avoid this warning.\n",
      "l_trans_bandwidth chosen to be 1.0 Hz\n",
      "h_trans_bandwidth chosen to be 10.0 Hz\n",
      "Filter length of 1690 samples (6.602 sec) selected\n",
      "filter_length (1691) is longer than the signal (768), distortion is likely. Reduce filter length or filter a longer signal.\n"
     ]
    },
    {
     "name": "stderr",
     "output_type": "stream",
     "text": [
      "/home/stakar/Studia/kogni/Magisterka/code/bieg.py:98: DeprecationWarning: fir_design defaults to \"firwin2\" in 0.15 but will change to \"firwin\" in 0.16, set it explicitly to avoid this warning.\n",
      "  self.raw.filter(filter[0], filter[1], n_jobs=2)\n",
      "/home/stakar/Studia/kogni/Magisterka/code/bieg.py:98: RuntimeWarning: filter_length (1691) is longer than the signal (768), distortion is likely. Reduce filter length or filter a longer signal.\n",
      "  self.raw.filter(filter[0], filter[1], n_jobs=2)\n"
     ]
    },
    {
     "name": "stdout",
     "output_type": "stream",
     "text": [
      "<ICA  |  no decomposition, fit (fastica):  samples, no dimension reduction>\n",
      "Fitting ICA to data using 128 channels. \n",
      "Please be patient, this may take some time\n",
      "Inferring max_pca_components from picks.\n"
     ]
    },
    {
     "name": "stderr",
     "output_type": "stream",
     "text": [
      "[Parallel(n_jobs=2)]: Done 128 out of 128 | elapsed:    0.1s finished\n"
     ]
    },
    {
     "name": "stdout",
     "output_type": "stream",
     "text": [
      "Using all PCA components: 128\n",
      "<ICA  |  raw data decomposition, fit (fastica): 171 samples, 128 components, channels used: \"eeg\">\n",
      "Creating RawArray with float64 data, n_channels=128, n_times=768\n",
      "    Range : 0 ... 767 =      0.000 ...     2.996 secs\n",
      "Ready.\n",
      "Setting up band-pass filter from 1 - 40 Hz\n",
      "fir_design defaults to \"firwin2\" in 0.15 but will change to \"firwin\" in 0.16, set it explicitly to avoid this warning.\n",
      "l_trans_bandwidth chosen to be 1.0 Hz\n",
      "h_trans_bandwidth chosen to be 10.0 Hz\n",
      "Filter length of 1690 samples (6.602 sec) selected\n",
      "filter_length (1691) is longer than the signal (768), distortion is likely. Reduce filter length or filter a longer signal.\n"
     ]
    },
    {
     "name": "stderr",
     "output_type": "stream",
     "text": [
      "/home/stakar/Studia/kogni/Magisterka/code/bieg.py:98: DeprecationWarning: fir_design defaults to \"firwin2\" in 0.15 but will change to \"firwin\" in 0.16, set it explicitly to avoid this warning.\n",
      "  self.raw.filter(filter[0], filter[1], n_jobs=2)\n",
      "/home/stakar/Studia/kogni/Magisterka/code/bieg.py:98: RuntimeWarning: filter_length (1691) is longer than the signal (768), distortion is likely. Reduce filter length or filter a longer signal.\n",
      "  self.raw.filter(filter[0], filter[1], n_jobs=2)\n"
     ]
    },
    {
     "name": "stdout",
     "output_type": "stream",
     "text": [
      "<ICA  |  no decomposition, fit (fastica):  samples, no dimension reduction>\n",
      "Fitting ICA to data using 128 channels. \n",
      "Please be patient, this may take some time\n",
      "Inferring max_pca_components from picks.\n"
     ]
    },
    {
     "name": "stderr",
     "output_type": "stream",
     "text": [
      "[Parallel(n_jobs=2)]: Done 128 out of 128 | elapsed:    0.0s finished\n"
     ]
    },
    {
     "name": "stdout",
     "output_type": "stream",
     "text": [
      "Using all PCA components: 128\n",
      "<ICA  |  raw data decomposition, fit (fastica): 171 samples, 128 components, channels used: \"eeg\">\n",
      "Transforming to ICA space (128 components)\n",
      "Zeroing out 2 ICA components\n",
      "Creating RawArray with float64 data, n_channels=128, n_times=768\n",
      "    Range : 0 ... 767 =      0.000 ...     2.996 secs\n",
      "Ready.\n",
      "Setting up band-pass filter from 1 - 40 Hz\n",
      "fir_design defaults to \"firwin2\" in 0.15 but will change to \"firwin\" in 0.16, set it explicitly to avoid this warning.\n",
      "l_trans_bandwidth chosen to be 1.0 Hz\n",
      "h_trans_bandwidth chosen to be 10.0 Hz\n",
      "Filter length of 1690 samples (6.602 sec) selected\n",
      "filter_length (1691) is longer than the signal (768), distortion is likely. Reduce filter length or filter a longer signal.\n"
     ]
    },
    {
     "name": "stderr",
     "output_type": "stream",
     "text": [
      "/home/stakar/Studia/kogni/Magisterka/code/bieg.py:98: DeprecationWarning: fir_design defaults to \"firwin2\" in 0.15 but will change to \"firwin\" in 0.16, set it explicitly to avoid this warning.\n",
      "  self.raw.filter(filter[0], filter[1], n_jobs=2)\n",
      "/home/stakar/Studia/kogni/Magisterka/code/bieg.py:98: RuntimeWarning: filter_length (1691) is longer than the signal (768), distortion is likely. Reduce filter length or filter a longer signal.\n",
      "  self.raw.filter(filter[0], filter[1], n_jobs=2)\n"
     ]
    },
    {
     "name": "stdout",
     "output_type": "stream",
     "text": [
      "<ICA  |  no decomposition, fit (fastica):  samples, no dimension reduction>\n",
      "Fitting ICA to data using 128 channels. \n",
      "Please be patient, this may take some time\n",
      "Inferring max_pca_components from picks.\n"
     ]
    },
    {
     "name": "stderr",
     "output_type": "stream",
     "text": [
      "[Parallel(n_jobs=2)]: Done 128 out of 128 | elapsed:    0.0s finished\n"
     ]
    },
    {
     "name": "stdout",
     "output_type": "stream",
     "text": [
      "Using all PCA components: 128\n",
      "<ICA  |  raw data decomposition, fit (fastica): 171 samples, 128 components, channels used: \"eeg\">\n",
      "Creating RawArray with float64 data, n_channels=128, n_times=768\n",
      "    Range : 0 ... 767 =      0.000 ...     2.996 secs\n",
      "Ready.\n",
      "Setting up band-pass filter from 1 - 40 Hz\n",
      "fir_design defaults to \"firwin2\" in 0.15 but will change to \"firwin\" in 0.16, set it explicitly to avoid this warning.\n",
      "l_trans_bandwidth chosen to be 1.0 Hz\n",
      "h_trans_bandwidth chosen to be 10.0 Hz\n",
      "Filter length of 1690 samples (6.602 sec) selected\n",
      "filter_length (1691) is longer than the signal (768), distortion is likely. Reduce filter length or filter a longer signal.\n"
     ]
    },
    {
     "name": "stderr",
     "output_type": "stream",
     "text": [
      "/home/stakar/Studia/kogni/Magisterka/code/bieg.py:98: DeprecationWarning: fir_design defaults to \"firwin2\" in 0.15 but will change to \"firwin\" in 0.16, set it explicitly to avoid this warning.\n",
      "  self.raw.filter(filter[0], filter[1], n_jobs=2)\n",
      "/home/stakar/Studia/kogni/Magisterka/code/bieg.py:98: RuntimeWarning: filter_length (1691) is longer than the signal (768), distortion is likely. Reduce filter length or filter a longer signal.\n",
      "  self.raw.filter(filter[0], filter[1], n_jobs=2)\n"
     ]
    },
    {
     "name": "stdout",
     "output_type": "stream",
     "text": [
      "<ICA  |  no decomposition, fit (fastica):  samples, no dimension reduction>\n",
      "Fitting ICA to data using 128 channels. \n",
      "Please be patient, this may take some time\n",
      "Inferring max_pca_components from picks.\n"
     ]
    },
    {
     "name": "stderr",
     "output_type": "stream",
     "text": [
      "[Parallel(n_jobs=2)]: Done 128 out of 128 | elapsed:    0.0s finished\n"
     ]
    },
    {
     "name": "stdout",
     "output_type": "stream",
     "text": [
      "Using all PCA components: 128\n",
      "<ICA  |  raw data decomposition, fit (fastica): 171 samples, 128 components, channels used: \"eeg\">\n",
      "Transforming to ICA space (128 components)\n",
      "Zeroing out 2 ICA components\n",
      "Creating RawArray with float64 data, n_channels=128, n_times=768\n",
      "    Range : 0 ... 767 =      0.000 ...     2.996 secs\n",
      "Ready.\n",
      "Setting up band-pass filter from 1 - 40 Hz\n",
      "fir_design defaults to \"firwin2\" in 0.15 but will change to \"firwin\" in 0.16, set it explicitly to avoid this warning.\n",
      "l_trans_bandwidth chosen to be 1.0 Hz\n",
      "h_trans_bandwidth chosen to be 10.0 Hz\n",
      "Filter length of 1690 samples (6.602 sec) selected\n",
      "filter_length (1691) is longer than the signal (768), distortion is likely. Reduce filter length or filter a longer signal.\n"
     ]
    },
    {
     "name": "stderr",
     "output_type": "stream",
     "text": [
      "/home/stakar/Studia/kogni/Magisterka/code/bieg.py:98: DeprecationWarning: fir_design defaults to \"firwin2\" in 0.15 but will change to \"firwin\" in 0.16, set it explicitly to avoid this warning.\n",
      "  self.raw.filter(filter[0], filter[1], n_jobs=2)\n",
      "/home/stakar/Studia/kogni/Magisterka/code/bieg.py:98: RuntimeWarning: filter_length (1691) is longer than the signal (768), distortion is likely. Reduce filter length or filter a longer signal.\n",
      "  self.raw.filter(filter[0], filter[1], n_jobs=2)\n"
     ]
    },
    {
     "name": "stdout",
     "output_type": "stream",
     "text": [
      "<ICA  |  no decomposition, fit (fastica):  samples, no dimension reduction>\n",
      "Fitting ICA to data using 128 channels. \n",
      "Please be patient, this may take some time\n",
      "Inferring max_pca_components from picks.\n"
     ]
    },
    {
     "name": "stderr",
     "output_type": "stream",
     "text": [
      "[Parallel(n_jobs=2)]: Done 128 out of 128 | elapsed:    0.1s finished\n"
     ]
    },
    {
     "name": "stdout",
     "output_type": "stream",
     "text": [
      "Using all PCA components: 128\n",
      "<ICA  |  raw data decomposition, fit (fastica): 171 samples, 128 components, channels used: \"eeg\">\n",
      "Creating RawArray with float64 data, n_channels=128, n_times=768\n",
      "    Range : 0 ... 767 =      0.000 ...     2.996 secs\n",
      "Ready.\n",
      "Setting up band-pass filter from 1 - 40 Hz\n",
      "fir_design defaults to \"firwin2\" in 0.15 but will change to \"firwin\" in 0.16, set it explicitly to avoid this warning.\n",
      "l_trans_bandwidth chosen to be 1.0 Hz\n",
      "h_trans_bandwidth chosen to be 10.0 Hz\n",
      "Filter length of 1690 samples (6.602 sec) selected\n",
      "filter_length (1691) is longer than the signal (768), distortion is likely. Reduce filter length or filter a longer signal.\n"
     ]
    },
    {
     "name": "stderr",
     "output_type": "stream",
     "text": [
      "/home/stakar/Studia/kogni/Magisterka/code/bieg.py:98: DeprecationWarning: fir_design defaults to \"firwin2\" in 0.15 but will change to \"firwin\" in 0.16, set it explicitly to avoid this warning.\n",
      "  self.raw.filter(filter[0], filter[1], n_jobs=2)\n",
      "/home/stakar/Studia/kogni/Magisterka/code/bieg.py:98: RuntimeWarning: filter_length (1691) is longer than the signal (768), distortion is likely. Reduce filter length or filter a longer signal.\n",
      "  self.raw.filter(filter[0], filter[1], n_jobs=2)\n"
     ]
    },
    {
     "name": "stdout",
     "output_type": "stream",
     "text": [
      "<ICA  |  no decomposition, fit (fastica):  samples, no dimension reduction>\n",
      "Fitting ICA to data using 128 channels. \n",
      "Please be patient, this may take some time\n",
      "Inferring max_pca_components from picks.\n"
     ]
    },
    {
     "name": "stderr",
     "output_type": "stream",
     "text": [
      "[Parallel(n_jobs=2)]: Done 128 out of 128 | elapsed:    0.0s finished\n"
     ]
    },
    {
     "name": "stdout",
     "output_type": "stream",
     "text": [
      "Using all PCA components: 128\n",
      "<ICA  |  raw data decomposition, fit (fastica): 171 samples, 128 components, channels used: \"eeg\">\n",
      "Transforming to ICA space (128 components)\n",
      "Zeroing out 2 ICA components\n",
      "Creating RawArray with float64 data, n_channels=128, n_times=768\n",
      "    Range : 0 ... 767 =      0.000 ...     2.996 secs\n",
      "Ready.\n",
      "Setting up band-pass filter from 1 - 40 Hz\n",
      "fir_design defaults to \"firwin2\" in 0.15 but will change to \"firwin\" in 0.16, set it explicitly to avoid this warning.\n",
      "l_trans_bandwidth chosen to be 1.0 Hz\n",
      "h_trans_bandwidth chosen to be 10.0 Hz\n",
      "Filter length of 1690 samples (6.602 sec) selected\n",
      "filter_length (1691) is longer than the signal (768), distortion is likely. Reduce filter length or filter a longer signal.\n"
     ]
    },
    {
     "name": "stderr",
     "output_type": "stream",
     "text": [
      "/home/stakar/Studia/kogni/Magisterka/code/bieg.py:98: DeprecationWarning: fir_design defaults to \"firwin2\" in 0.15 but will change to \"firwin\" in 0.16, set it explicitly to avoid this warning.\n",
      "  self.raw.filter(filter[0], filter[1], n_jobs=2)\n",
      "/home/stakar/Studia/kogni/Magisterka/code/bieg.py:98: RuntimeWarning: filter_length (1691) is longer than the signal (768), distortion is likely. Reduce filter length or filter a longer signal.\n",
      "  self.raw.filter(filter[0], filter[1], n_jobs=2)\n"
     ]
    },
    {
     "name": "stdout",
     "output_type": "stream",
     "text": [
      "<ICA  |  no decomposition, fit (fastica):  samples, no dimension reduction>\n",
      "Fitting ICA to data using 128 channels. \n",
      "Please be patient, this may take some time\n",
      "Inferring max_pca_components from picks.\n"
     ]
    },
    {
     "name": "stderr",
     "output_type": "stream",
     "text": [
      "[Parallel(n_jobs=2)]: Done 128 out of 128 | elapsed:    0.0s finished\n"
     ]
    },
    {
     "name": "stdout",
     "output_type": "stream",
     "text": [
      "Using all PCA components: 128\n",
      "<ICA  |  raw data decomposition, fit (fastica): 171 samples, 128 components, channels used: \"eeg\">\n",
      "Creating RawArray with float64 data, n_channels=128, n_times=768\n",
      "    Range : 0 ... 767 =      0.000 ...     2.996 secs\n",
      "Ready.\n",
      "Setting up band-pass filter from 1 - 40 Hz\n",
      "fir_design defaults to \"firwin2\" in 0.15 but will change to \"firwin\" in 0.16, set it explicitly to avoid this warning.\n",
      "l_trans_bandwidth chosen to be 1.0 Hz\n",
      "h_trans_bandwidth chosen to be 10.0 Hz\n",
      "Filter length of 1690 samples (6.602 sec) selected\n",
      "filter_length (1691) is longer than the signal (768), distortion is likely. Reduce filter length or filter a longer signal.\n"
     ]
    },
    {
     "name": "stderr",
     "output_type": "stream",
     "text": [
      "/home/stakar/Studia/kogni/Magisterka/code/bieg.py:98: DeprecationWarning: fir_design defaults to \"firwin2\" in 0.15 but will change to \"firwin\" in 0.16, set it explicitly to avoid this warning.\n",
      "  self.raw.filter(filter[0], filter[1], n_jobs=2)\n",
      "/home/stakar/Studia/kogni/Magisterka/code/bieg.py:98: RuntimeWarning: filter_length (1691) is longer than the signal (768), distortion is likely. Reduce filter length or filter a longer signal.\n",
      "  self.raw.filter(filter[0], filter[1], n_jobs=2)\n",
      "[Parallel(n_jobs=2)]: Done 128 out of 128 | elapsed:    0.0s finished\n"
     ]
    },
    {
     "name": "stdout",
     "output_type": "stream",
     "text": [
      "<ICA  |  no decomposition, fit (fastica):  samples, no dimension reduction>\n",
      "Fitting ICA to data using 128 channels. \n",
      "Please be patient, this may take some time\n",
      "Inferring max_pca_components from picks.\n",
      "Using all PCA components: 128\n",
      "<ICA  |  raw data decomposition, fit (fastica): 171 samples, 128 components, channels used: \"eeg\">\n",
      "Transforming to ICA space (128 components)\n",
      "Zeroing out 2 ICA components\n",
      "Creating RawArray with float64 data, n_channels=128, n_times=768\n",
      "    Range : 0 ... 767 =      0.000 ...     2.996 secs\n",
      "Ready.\n",
      "Setting up band-pass filter from 1 - 40 Hz\n",
      "fir_design defaults to \"firwin2\" in 0.15 but will change to \"firwin\" in 0.16, set it explicitly to avoid this warning.\n",
      "l_trans_bandwidth chosen to be 1.0 Hz\n",
      "h_trans_bandwidth chosen to be 10.0 Hz\n",
      "Filter length of 1690 samples (6.602 sec) selected\n",
      "filter_length (1691) is longer than the signal (768), distortion is likely. Reduce filter length or filter a longer signal.\n"
     ]
    },
    {
     "name": "stderr",
     "output_type": "stream",
     "text": [
      "/home/stakar/Studia/kogni/Magisterka/code/bieg.py:98: DeprecationWarning: fir_design defaults to \"firwin2\" in 0.15 but will change to \"firwin\" in 0.16, set it explicitly to avoid this warning.\n",
      "  self.raw.filter(filter[0], filter[1], n_jobs=2)\n",
      "/home/stakar/Studia/kogni/Magisterka/code/bieg.py:98: RuntimeWarning: filter_length (1691) is longer than the signal (768), distortion is likely. Reduce filter length or filter a longer signal.\n",
      "  self.raw.filter(filter[0], filter[1], n_jobs=2)\n"
     ]
    },
    {
     "name": "stdout",
     "output_type": "stream",
     "text": [
      "<ICA  |  no decomposition, fit (fastica):  samples, no dimension reduction>\n",
      "Fitting ICA to data using 128 channels. \n",
      "Please be patient, this may take some time\n",
      "Inferring max_pca_components from picks.\n",
      "Using all PCA components: 128\n"
     ]
    },
    {
     "name": "stderr",
     "output_type": "stream",
     "text": [
      "[Parallel(n_jobs=2)]: Done 128 out of 128 | elapsed:    0.1s finished\n"
     ]
    },
    {
     "name": "stdout",
     "output_type": "stream",
     "text": [
      "<ICA  |  raw data decomposition, fit (fastica): 171 samples, 128 components, channels used: \"eeg\">\n",
      "Creating RawArray with float64 data, n_channels=128, n_times=768\n",
      "    Range : 0 ... 767 =      0.000 ...     2.996 secs\n",
      "Ready.\n",
      "Setting up band-pass filter from 1 - 40 Hz\n",
      "fir_design defaults to \"firwin2\" in 0.15 but will change to \"firwin\" in 0.16, set it explicitly to avoid this warning.\n",
      "l_trans_bandwidth chosen to be 1.0 Hz\n",
      "h_trans_bandwidth chosen to be 10.0 Hz\n",
      "Filter length of 1690 samples (6.602 sec) selected\n",
      "filter_length (1691) is longer than the signal (768), distortion is likely. Reduce filter length or filter a longer signal.\n"
     ]
    },
    {
     "name": "stderr",
     "output_type": "stream",
     "text": [
      "/home/stakar/Studia/kogni/Magisterka/code/bieg.py:98: DeprecationWarning: fir_design defaults to \"firwin2\" in 0.15 but will change to \"firwin\" in 0.16, set it explicitly to avoid this warning.\n",
      "  self.raw.filter(filter[0], filter[1], n_jobs=2)\n",
      "/home/stakar/Studia/kogni/Magisterka/code/bieg.py:98: RuntimeWarning: filter_length (1691) is longer than the signal (768), distortion is likely. Reduce filter length or filter a longer signal.\n",
      "  self.raw.filter(filter[0], filter[1], n_jobs=2)\n"
     ]
    },
    {
     "name": "stdout",
     "output_type": "stream",
     "text": [
      "<ICA  |  no decomposition, fit (fastica):  samples, no dimension reduction>\n",
      "Fitting ICA to data using 128 channels. \n",
      "Please be patient, this may take some time\n",
      "Inferring max_pca_components from picks.\n"
     ]
    },
    {
     "name": "stderr",
     "output_type": "stream",
     "text": [
      "[Parallel(n_jobs=2)]: Done 128 out of 128 | elapsed:    0.1s finished\n"
     ]
    },
    {
     "name": "stdout",
     "output_type": "stream",
     "text": [
      "Using all PCA components: 128\n",
      "<ICA  |  raw data decomposition, fit (fastica): 171 samples, 128 components, channels used: \"eeg\">\n",
      "Transforming to ICA space (128 components)\n",
      "Zeroing out 2 ICA components\n"
     ]
    }
   ],
   "source": [
    "files_08Hz = ['ssvep08Hz_1.csv','ssvep08Hz_2.csv','ssvep08Hz_3.csv','ssvep08Hz_4.csv','ssvep08Hz_5.csv']\n",
    "files_14Hz = ['ssvep14Hz_1.csv','ssvep14Hz_2.csv','ssvep14Hz_3.csv','ssvep14Hz_4.csv','ssvep14Hz_5.csv']\n",
    "files_28Hz = ['ssvep28Hz_1.csv','ssvep28Hz_2.csv','ssvep28Hz_3.csv','ssvep28Hz_4.csv','ssvep28Hz_5.csv']\n",
    "\n",
    "results_08Hz = []\n",
    "results_14Hz = []\n",
    "results_28Hz = []\n",
    "\n",
    "for z,r in zip([files_08Hz,files_14Hz,files_28Hz],[results_08Hz,results_14Hz,results_28Hz]):    \n",
    "    for n in range(0,5):\n",
    "        bs = BakardjianSystem(path=z[n],seconds=3)\n",
    "        res = bs.bak_system()\n",
    "        r.append(res)"
   ]
  },
  {
   "cell_type": "code",
   "execution_count": 3,
   "metadata": {},
   "outputs": [],
   "source": [
    "results = [results_08Hz,results_14Hz,results_28Hz]"
   ]
  },
  {
   "cell_type": "code",
   "execution_count": 28,
   "metadata": {},
   "outputs": [
    {
     "ename": "TypeError",
     "evalue": "unhashable type: 'list'",
     "output_type": "error",
     "traceback": [
      "\u001b[0;31m---------------------------------------------------------------------------\u001b[0m",
      "\u001b[0;31mTypeError\u001b[0m                                 Traceback (most recent call last)",
      "\u001b[0;32m<ipython-input-28-c9d6e4f38bd9>\u001b[0m in \u001b[0;36m<module>\u001b[0;34m()\u001b[0m\n\u001b[0;32m----> 1\u001b[0;31m \u001b[0mresults_dicth\u001b[0m \u001b[0;34m=\u001b[0m \u001b[0;34m{\u001b[0m\u001b[0;34m(\u001b[0m\u001b[0mresults_08Hz\u001b[0m\u001b[0;34m)\u001b[0m\u001b[0;34m:\u001b[0m\u001b[0;34m'results8Hz'\u001b[0m\u001b[0;34m,\u001b[0m\u001b[0;34m(\u001b[0m\u001b[0mresults_14Hz\u001b[0m\u001b[0;34m)\u001b[0m\u001b[0;34m:\u001b[0m\u001b[0;34m'results14Hz'\u001b[0m\u001b[0;34m,\u001b[0m\u001b[0;34m(\u001b[0m\u001b[0mresults_28Hz\u001b[0m\u001b[0;34m)\u001b[0m\u001b[0;34m:\u001b[0m\u001b[0;34m'results_28Hz'\u001b[0m\u001b[0;34m}\u001b[0m\u001b[0;34m\u001b[0m\u001b[0m\n\u001b[0m",
      "\u001b[0;31mTypeError\u001b[0m: unhashable type: 'list'"
     ]
    }
   ],
   "source": [
    "results_dicth = {(results_08Hz):'results8Hz',(results_14Hz):'results14Hz',(results_28Hz):'results_28Hz'}"
   ]
  },
  {
   "cell_type": "code",
   "execution_count": 29,
   "metadata": {},
   "outputs": [
    {
     "data": {
      "text/plain": [
       "[[(0.33333333333333331, 0.33333333333333343, 0.33333333333333337),\n",
       "  (0.33333333333333331, 0.33333333333333326, 0.33333333333333337),\n",
       "  (0.33333333333333331, 0.33333333333333337, 0.33333333333333331),\n",
       "  (0.33333333333333331, 0.33333333333333337, 0.33333333333333337),\n",
       "  (0.33333333333333331, 0.33333333333333337, 0.33333333333333331)],\n",
       " [(0.33333333333333337, 0.33333333333333337, 0.33333333333333331),\n",
       "  (0.33333333333333331, 0.33333333333333343, 0.33333333333333337),\n",
       "  (0.33333333333333331, 0.33333333333333337, 0.33333333333333337),\n",
       "  (0.33333333333333343, 0.33333333333333331, 0.33333333333333331),\n",
       "  (0.33333333333333337, 0.33333333333333337, 0.33333333333333337)],\n",
       " [(0.33333333333333337, 0.33333333333333331, 0.33333333333333331),\n",
       "  (0.33333333333333331, 0.33333333333333337, 0.33333333333333343),\n",
       "  (0.33333333333333331, 0.33333333333333326, 0.33333333333333337),\n",
       "  (0.33333333333333343, 0.33333333333333331, 0.33333333333333337),\n",
       "  (0.33333333333333343, 0.33333333333333331, 0.33333333333333337)]]"
      ]
     },
     "execution_count": 29,
     "metadata": {},
     "output_type": "execute_result"
    }
   ],
   "source": [
    "results"
   ]
  },
  {
   "cell_type": "code",
   "execution_count": null,
   "metadata": {},
   "outputs": [],
   "source": [
    "def check_class_bs(res):\n",
    "    for n in res:\n",
    "        if "
   ]
  }
 ],
 "metadata": {
  "kernelspec": {
   "display_name": "Python 3",
   "language": "python",
   "name": "python3"
  },
  "language_info": {
   "codemirror_mode": {
    "name": "ipython",
    "version": 3
   },
   "file_extension": ".py",
   "mimetype": "text/x-python",
   "name": "python",
   "nbconvert_exporter": "python",
   "pygments_lexer": "ipython3",
   "version": "3.6.4"
  }
 },
 "nbformat": 4,
 "nbformat_minor": 2
}
