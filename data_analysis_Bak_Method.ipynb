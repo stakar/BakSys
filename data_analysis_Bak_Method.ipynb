{
 "cells": [
  {
   "cell_type": "code",
   "execution_count": 179,
   "metadata": {},
   "outputs": [],
   "source": [
    "\n",
    "\"\"\"\n",
    "This file is containing a class, that perform all extraction modules for \n",
    "Hovagim Bakardjian system that serves for classification of \n",
    "\n",
    "\"\"\"\n",
    "\n",
    "import aseegg as ag\n",
    "import numpy as np\n",
    "import pandas as pd\n",
    "from bieg import ICAManager\n",
    "import matplotlib.pyplot as plt\n",
    "import math\n",
    "import scipy.signal as sig\n",
    "\n",
    "pre_data_path = \"../data/subject1/SSVEP_8Hz_Trial1_SUBJ1.MAT\"\n",
    "pre_data_path2 = \"../data/subject1/SSVEP_14Hz_Trial5_SUBJ1.MAT\"\n",
    "pre_data_path3 = \"../data/subject1/SSVEP_28Hz_Trial3_SUBJ1.MAT\"\n",
    "\n",
    "class BakardjianSystem(object):\n",
    "    \n",
    "    def __init__(self,path,seconds,components_to_exclude = [0,14,16,22,24,27,28,127],s_08Hz=np.zeros(1),\n",
    "                s_14Hz = np.zeros(1),s_28Hz = np.zeros(1),es_08Hz = np.zeros(1),\n",
    "                es_14Hz = np.zeros(1),es_28Hz = np.zeros(1)):\n",
    "        self.path = path\n",
    "        self.seconds = seconds\n",
    "        self.ica_file = ICAManager(input_path=self.path,method='fastica')\n",
    "        self.components_to_exclude = components_to_exclude\n",
    "        self.s_08Hz = s_08Hz\n",
    "        self.s_14Hz = s_14Hz\n",
    "        self.s_28Hz = s_28Hz\n",
    "        self.es_08Hz = es_08Hz\n",
    "        self.es_14Hz = es_14Hz\n",
    "        self.es_28Hz = es_28Hz\n",
    "        self.window_length = 15\n",
    "\n",
    "    #Module 1: Blind Source Separation/ICA \n",
    "    def bss_ica(self):\n",
    "        \n",
    "        self.ica_file = ICAManager(input_path=self.path,method='fastica')\n",
    "        self.ica_file.load_matlab_data()\n",
    "        self.ica_file.extract_components()\n",
    "        self.ica_file.exclude_ica_components(components_to_exclude=self.components_to_exclude)\n",
    "        return self.ica_file\n",
    "    \n",
    "    #Module 2: Narrow-band filters\n",
    "        \n",
    "    def bank_of_filters(self):\n",
    "    \n",
    "        #Electrodes of occipital region\n",
    "        \n",
    "        ica_file = self.ica_file\n",
    "        \n",
    "        beg = 5*256\n",
    "        end = 20*256\n",
    "\n",
    "        electrode_O1 = ica_file.data[15][beg:end]\n",
    "        electrode_0z = ica_file.data[23][beg:end]\n",
    "        electrode_O2 = ica_file.data[28][beg:end]\n",
    "\n",
    "        prefiltered = [electrode_0z,electrode_O1,electrode_O2]\n",
    "\n",
    "        #Signals filtered:\n",
    "\n",
    "        self.s_08Hz = np.zeros((3,len(electrode_O1)))\n",
    "        self.s_14Hz = np.zeros((3,len(electrode_O1)))\n",
    "        self.s_28Hz = np.zeros((3,len(electrode_O1)))\n",
    "\n",
    "        for n in range(0,3):\n",
    "            signal_filtered_08Hz = ag.pasmowoprzepustowy(prefiltered[n],czestOdciecia1=7.9,czestOdciecia2=8.1,czestProbkowania=256)\n",
    "            signal_filtered_14Hz = ag.pasmowoprzepustowy(prefiltered[n],czestOdciecia1=13.9,czestOdciecia2=14.1,czestProbkowania=256)\n",
    "            signal_filtered_28Hz = ag.pasmowoprzepustowy(prefiltered[n],czestOdciecia1=27.9,czestOdciecia2=28.1,czestProbkowania=256)\n",
    "            self.s_08Hz[n] = signal_filtered_08Hz\n",
    "            self.s_14Hz[n] = signal_filtered_14Hz\n",
    "            self.s_28Hz[n] = signal_filtered_28Hz\n",
    "            \n",
    "        return self.s_08Hz, self.s_14Hz, self.s_28Hz\n",
    "        \n",
    "    #Module3: Variance analyzer\n",
    "        \n",
    "    def variance_analyzer(self):\n",
    "        for z in [self.s_08Hz,self.s_14Hz,self.s_28Hz]:\n",
    "            for n in range(0,z.shape[0]):\n",
    "                z[n] = np.square(z[n])\n",
    "                z[n] = np.sqrt(z[n])\n",
    "        return self.s_08Hz, self.s_14Hz, self.s_28Hz\n",
    "    \n",
    "    #Module 4: Smoothing procedure\n",
    "\n",
    "    def smoother(self):        \n",
    "        for z in [self.s_08Hz,self.s_14Hz,self.s_28Hz]:\n",
    "            for n in range(0,z.shape[0]):\n",
    "                z[n] = sig.savgol_filter(z[n],polyorder=2,window_length=self.window_length)\n",
    "        return self.s_08Hz,self.s_14Hz,self.s_28Hz\n",
    "\n",
    "    #Module5: Integrator\n",
    "    \n",
    "    def integrator(self):\n",
    "        self.es_08Hz = np.divide((self.s_08Hz[0] + self.s_08Hz[1] + self.s_08Hz[2]),self.s_08Hz.shape[0])\n",
    "        self.es_14Hz = np.divide((self.s_14Hz[0] + self.s_14Hz[1] + self.s_14Hz[2]),self.s_14Hz.shape[0])\n",
    "        self.es_28Hz = np.divide((self.s_28Hz[0] + self.s_28Hz[1] + self.s_28Hz[2]),self.s_28Hz.shape[0]) \n",
    "        return self.es_08Hz,self.es_14Hz,self.es_28Hz\n",
    "    \n",
    "    #Module6: Normalization\n",
    "    \n",
    "    def normalizer(self):\n",
    "        self.s_08Hz = np.sum(self.es_08Hz)/np.sum((np.sum(self.s_08Hz[0]),\n",
    "                                     np.sum(self.s_08Hz[1]),np.sum(self.s_08Hz[2])))\n",
    "        self.s_14Hz = np.sum(self.es_14Hz)/np.sum((np.sum(self.s_14Hz[0]),\n",
    "                                     np.sum(self.s_14Hz[1]),np.sum(self.s_14Hz[2])))\n",
    "        self.s_28Hz = np.sum(self.es_28Hz)/np.sum((np.sum(self.s_28Hz[0]),\n",
    "                                     np.sum(self.s_28Hz[1]),np.sum(self.s_28Hz[2])))\n",
    "        return self.s_08Hz,self.s_14Hz,self.s_28Hz\n",
    "\n",
    "    #Bakardjian system, all functions at once\n",
    "    \n",
    "    def bak_system(self):\n",
    "        self.bss_ica()\n",
    "        self.bank_of_filters()\n",
    "        self.variance_analyzer()\n",
    "        self.smoother()\n",
    "        self.integrator()\n",
    "        self.normalizer()\n",
    "        return self.s_08Hz, self.s_14Hz, self.s_28Hz \n",
    "        \n",
    "\n",
    "    "
   ]
  },
  {
   "cell_type": "code",
   "execution_count": 182,
   "metadata": {},
   "outputs": [],
   "source": [
    "bs = BakardjianSystem(pre_data_path3,seconds=15)"
   ]
  },
  {
   "cell_type": "code",
   "execution_count": 183,
   "metadata": {},
   "outputs": [
    {
     "name": "stdout",
     "output_type": "stream",
     "text": [
      "Creating RawArray with float64 data, n_channels=128, n_times=6379\n",
      "    Range : 0 ... 6378 =      0.000 ...    24.914 secs\n",
      "Ready.\n",
      "Setting up band-pass filter from 1 - 40 Hz\n",
      "fir_design defaults to \"firwin2\" in 0.15 but will change to \"firwin\" in 0.16, set it explicitly to avoid this warning.\n",
      "l_trans_bandwidth chosen to be 1.0 Hz\n",
      "h_trans_bandwidth chosen to be 10.0 Hz\n",
      "Filter length of 1690 samples (6.602 sec) selected\n"
     ]
    },
    {
     "name": "stderr",
     "output_type": "stream",
     "text": [
      "/home/stakar/Studia/kogni/Magisterka/code/bieg.py:98: DeprecationWarning: fir_design defaults to \"firwin2\" in 0.15 but will change to \"firwin\" in 0.16, set it explicitly to avoid this warning.\n",
      "  self.raw.filter(filter[0], filter[1], n_jobs=2)\n"
     ]
    },
    {
     "name": "stdout",
     "output_type": "stream",
     "text": [
      "<ICA  |  no decomposition, fit (fastica):  samples, no dimension reduction>\n",
      "Fitting ICA to data using 128 channels. \n",
      "Please be patient, this may take some time\n",
      "Inferring max_pca_components from picks.\n"
     ]
    },
    {
     "name": "stderr",
     "output_type": "stream",
     "text": [
      "[Parallel(n_jobs=2)]: Done 128 out of 128 | elapsed:    0.1s finished\n"
     ]
    },
    {
     "name": "stdout",
     "output_type": "stream",
     "text": [
      "Using all PCA components: 128\n",
      "<ICA  |  raw data decomposition, fit (fastica): 2052 samples, 128 components, channels used: \"eeg\">\n",
      "Creating RawArray with float64 data, n_channels=128, n_times=6379\n",
      "    Range : 0 ... 6378 =      0.000 ...    24.914 secs\n",
      "Ready.\n",
      "Setting up band-pass filter from 1 - 40 Hz\n",
      "fir_design defaults to \"firwin2\" in 0.15 but will change to \"firwin\" in 0.16, set it explicitly to avoid this warning.\n",
      "l_trans_bandwidth chosen to be 1.0 Hz\n",
      "h_trans_bandwidth chosen to be 10.0 Hz\n",
      "Filter length of 1690 samples (6.602 sec) selected\n"
     ]
    },
    {
     "name": "stderr",
     "output_type": "stream",
     "text": [
      "/usr/lib/python3.6/site-packages/sklearn/decomposition/fastica_.py:116: UserWarning: FastICA did not converge. Consider increasing tolerance or the maximum number of iterations.\n",
      "  warnings.warn('FastICA did not converge. Consider increasing '\n",
      "/home/stakar/Studia/kogni/Magisterka/code/bieg.py:98: DeprecationWarning: fir_design defaults to \"firwin2\" in 0.15 but will change to \"firwin\" in 0.16, set it explicitly to avoid this warning.\n",
      "  self.raw.filter(filter[0], filter[1], n_jobs=2)\n"
     ]
    },
    {
     "name": "stdout",
     "output_type": "stream",
     "text": [
      "<ICA  |  no decomposition, fit (fastica):  samples, no dimension reduction>\n",
      "Fitting ICA to data using 128 channels. \n",
      "Please be patient, this may take some time\n",
      "Inferring max_pca_components from picks.\n"
     ]
    },
    {
     "name": "stderr",
     "output_type": "stream",
     "text": [
      "[Parallel(n_jobs=2)]: Done 128 out of 128 | elapsed:    0.1s finished\n"
     ]
    },
    {
     "name": "stdout",
     "output_type": "stream",
     "text": [
      "Using all PCA components: 128\n",
      "<ICA  |  raw data decomposition, fit (fastica): 2052 samples, 128 components, channels used: \"eeg\">\n",
      "Transforming to ICA space (128 components)\n",
      "Zeroing out 8 ICA components\n"
     ]
    },
    {
     "data": {
      "text/plain": [
       "(0.33333333333333337, 0.33333333333333337, 0.33333333333333331)"
      ]
     },
     "execution_count": 183,
     "metadata": {},
     "output_type": "execute_result"
    }
   ],
   "source": [
    "bs.bak_system()"
   ]
  },
  {
   "cell_type": "code",
   "execution_count": null,
   "metadata": {},
   "outputs": [],
   "source": []
  }
 ],
 "metadata": {
  "kernelspec": {
   "display_name": "Python 3",
   "language": "python",
   "name": "python3"
  },
  "language_info": {
   "codemirror_mode": {
    "name": "ipython",
    "version": 3
   },
   "file_extension": ".py",
   "mimetype": "text/x-python",
   "name": "python",
   "nbconvert_exporter": "python",
   "pygments_lexer": "ipython3",
   "version": "3.6.4"
  }
 },
 "nbformat": 4,
 "nbformat_minor": 2
}
