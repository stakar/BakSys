{
 "cells": [
  {
   "cell_type": "markdown",
   "metadata": {},
   "source": [
    "This is data analysis for study of Bakardjian's method in "
   ]
  },
  {
   "cell_type": "code",
   "execution_count": 1,
   "metadata": {},
   "outputs": [],
   "source": [
    "\n",
    "import aseegg as ag\n",
    "import numpy as np\n",
    "import pandas as pd\n",
    "from bieg import ICAManager\n",
    "import matplotlib.pyplot as plt\n",
    "import math\n",
    "import scipy.signal as sig\n",
    "import math\n",
    "from sklearn.preprocessing import Normalizer\n"
   ]
  },
  {
   "cell_type": "code",
   "execution_count": 74,
   "metadata": {},
   "outputs": [],
   "source": [
    "#Preparing data\n",
    "\n",
    "import aseegg as ag\n",
    "import numpy as np\n",
    "import pandas as pd\n",
    "from bieg import ICAManager\n",
    "import matplotlib.pyplot as plt\n",
    "import math\n",
    "import scipy.signal as sig\n",
    "import math\n",
    "from sklearn.preprocessing import Normalizer\n",
    "\n",
    "pre_data_path = \"../data/subject1/SSVEP_8Hz_Trial1_SUBJ1.MAT\"\n",
    "\n",
    "class BakardjianSystem(object):\n",
    "    \n",
    "    def __init__(self,path,seconds,components_to_exclude = [0,14,16,22,24,27,28,127],s_08Hz=np.zeros(1),\n",
    "                s_14Hz = np.zeros(1),s_28Hz = np.zeros(1)):\n",
    "        self.path = path\n",
    "        self.seconds = seconds\n",
    "        self.ica_file = ICAManager(input_path=self.path,method='fastica')\n",
    "        self.components_to_exclude = components_to_exclude\n",
    "        self.s_08Hz = s_08Hz\n",
    "        self.s_14Hz = s_14Hz\n",
    "        self.s_28Hz = s_28Hz\n",
    "\n",
    "    #Module 1: Blind Source Separation/ICA \n",
    "    def bss_ica(self):\n",
    "        \n",
    "        self.ica_file = ICAManager(input_path=self.path,method='fastica')\n",
    "        self.ica_file.load_matlab_data()\n",
    "        self.ica_file.extract_components()\n",
    "        self.ica_file.exclude_ica_components(components_to_exclude=self.components_to_exclude)\n",
    "        return self.ica_file\n",
    "        \n",
    "    def bank_of_filters(self):\n",
    "    \n",
    "        #Electrodes of occipital region\n",
    "        \n",
    "        ica_file = self.ica_file\n",
    "        \n",
    "        beg = 5*256\n",
    "        end = 20*256\n",
    "\n",
    "        electrode_O1 = ica_file.data[15][beg:end]\n",
    "        electrode_0z = ica_file.data[23][beg:end]\n",
    "        electrode_O2 = ica_file.data[28][beg:end]\n",
    "        #Module 2: Narrow-band filters\n",
    "\n",
    "        prefiltered = [electrode_0z,electrode_O1,electrode_O2]\n",
    "\n",
    "        #Signals filtered:\n",
    "\n",
    "        self.s_08Hz = np.zeros((3,len(electrode_O1)))\n",
    "        self.s_14Hz = np.zeros((3,len(electrode_O1)))\n",
    "        self.s_28Hz = np.zeros((3,len(electrode_O1)))\n",
    "\n",
    "        for n in range(0,3):\n",
    "            signal_filtered_08Hz = ag.pasmowoprzepustowy(prefiltered[n],czestOdciecia1=7.9,czestOdciecia2=8.1,czestProbkowania=256)\n",
    "            signal_filtered_14Hz = ag.pasmowoprzepustowy(prefiltered[n],czestOdciecia1=13.9,czestOdciecia2=14.1,czestProbkowania=256)\n",
    "            signal_filtered_28Hz = ag.pasmowoprzepustowy(prefiltered[n],czestOdciecia1=27.9,czestOdciecia2=28.1,czestProbkowania=256)\n",
    "            self.s_08Hz[n] = signal_filtered_08Hz\n",
    "            self.s_14Hz[n] = signal_filtered_14Hz\n",
    "            self.s_28Hz[n] = signal_filtered_28Hz\n",
    "            \n",
    "        return self.s_08Hz, self.s_14Hz, self.s_28Hz\n",
    "        \n",
    "    #Module3: Variance analyzer\n",
    "\n",
    "    def variance_analyzing(array_to_va):\n",
    "        squared = np.square(array_to_va)\n",
    "        result = np.sqrt(squared)\n",
    "        return result\n",
    "    \n",
    "    def variance_analyzer(self):\n",
    "        for z in [self.s_08Hz,self.s_14Hz,self.s_28Hz]:\n",
    "            for n in range(0,z.shape[0]):\n",
    "                z[n] = self.variance_analyzing(z[n])\n",
    "        return self.s_08Hz, self.s_14Hz, self.s_28Hz\n",
    "\n",
    "    #Module 4: smoother\n",
    "\n",
    "    def smoothing(array_to_smooth,window_length=15):\n",
    "        smoothed = sig.savgol_filter(array_to_smooth,polyorder=2,window_length=window_length)\n",
    "        return smoothed\n",
    "    \n",
    "    def smoother(self):        \n",
    "        for n in [self.s_08Hz,self.s_14Hz,self.s_28Hz]:\n",
    "            for z in range(0,n.shape[0]):\n",
    "                n[z] = smoothing(n[z],window_length=15)\n",
    "        return self.s_08Hz,self.s_14Hz,self.s_28Hz\n",
    "\n",
    "    #Module5: integrator\n",
    "\n",
    "    def integrating(self,array_to_integrate):\n",
    "        result = 0\n",
    "        length = array_to_integrate.shape[0]\n",
    "        for n in range(0,length):\n",
    "            result += array_to_integrate[n]\n",
    "        result = result/length\n",
    "        return results\n",
    "    \n",
    "    def integrator(self):      \n",
    "        for n in [self.s_08Hz,self.s_14Hz,self.s_28Hz]:\n",
    "            n = integrating(n)\n",
    "        return self.s_08Hz,self.s_14Hz,self.s_28Hz\n",
    "\n",
    "    \"\"\"    \n",
    "    #Module6: Normalizer\n",
    "\n",
    "    normalized = []\n",
    "\n",
    "    for r in integrated:\n",
    "        result = Normalizer(r)\n",
    "        normalized.append(result)\n",
    "    \"\"\""
   ]
  },
  {
   "cell_type": "code",
   "execution_count": 75,
   "metadata": {},
   "outputs": [],
   "source": [
    "bs = BakardjianSystem(pre_data_path,seconds=15)"
   ]
  },
  {
   "cell_type": "code",
   "execution_count": 76,
   "metadata": {},
   "outputs": [
    {
     "name": "stdout",
     "output_type": "stream",
     "text": [
      "Creating RawArray with float64 data, n_channels=128, n_times=6330\n",
      "    Range : 0 ... 6329 =      0.000 ...    24.723 secs\n",
      "Ready.\n",
      "Setting up band-pass filter from 1 - 40 Hz\n",
      "fir_design defaults to \"firwin2\" in 0.15 but will change to \"firwin\" in 0.16, set it explicitly to avoid this warning.\n",
      "l_trans_bandwidth chosen to be 1.0 Hz\n",
      "h_trans_bandwidth chosen to be 10.0 Hz\n",
      "Filter length of 1690 samples (6.602 sec) selected\n"
     ]
    },
    {
     "name": "stderr",
     "output_type": "stream",
     "text": [
      "/home/stakar/Studia/kogni/Magisterka/code/bieg.py:98: DeprecationWarning: fir_design defaults to \"firwin2\" in 0.15 but will change to \"firwin\" in 0.16, set it explicitly to avoid this warning.\n",
      "  self.raw.filter(filter[0], filter[1], n_jobs=2)\n",
      "[Parallel(n_jobs=2)]: Done 128 out of 128 | elapsed:    0.1s finished\n"
     ]
    },
    {
     "name": "stdout",
     "output_type": "stream",
     "text": [
      "<ICA  |  no decomposition, fit (fastica):  samples, no dimension reduction>\n",
      "Fitting ICA to data using 128 channels. \n",
      "Please be patient, this may take some time\n",
      "Inferring max_pca_components from picks.\n",
      "Using all PCA components: 128\n",
      "<ICA  |  raw data decomposition, fit (fastica): 2052 samples, 128 components, channels used: \"eeg\">\n",
      "Creating RawArray with float64 data, n_channels=128, n_times=6330\n",
      "    Range : 0 ... 6329 =      0.000 ...    24.723 secs\n",
      "Ready.\n",
      "Setting up band-pass filter from 1 - 40 Hz\n",
      "fir_design defaults to \"firwin2\" in 0.15 but will change to \"firwin\" in 0.16, set it explicitly to avoid this warning.\n",
      "l_trans_bandwidth chosen to be 1.0 Hz\n",
      "h_trans_bandwidth chosen to be 10.0 Hz\n",
      "Filter length of 1690 samples (6.602 sec) selected\n"
     ]
    },
    {
     "name": "stderr",
     "output_type": "stream",
     "text": [
      "/usr/lib/python3.6/site-packages/sklearn/decomposition/fastica_.py:116: UserWarning: FastICA did not converge. Consider increasing tolerance or the maximum number of iterations.\n",
      "  warnings.warn('FastICA did not converge. Consider increasing '\n",
      "/home/stakar/Studia/kogni/Magisterka/code/bieg.py:98: DeprecationWarning: fir_design defaults to \"firwin2\" in 0.15 but will change to \"firwin\" in 0.16, set it explicitly to avoid this warning.\n",
      "  self.raw.filter(filter[0], filter[1], n_jobs=2)\n"
     ]
    },
    {
     "name": "stdout",
     "output_type": "stream",
     "text": [
      "<ICA  |  no decomposition, fit (fastica):  samples, no dimension reduction>\n",
      "Fitting ICA to data using 128 channels. \n",
      "Please be patient, this may take some time\n",
      "Inferring max_pca_components from picks.\n",
      "Using all PCA components: 128\n"
     ]
    },
    {
     "name": "stderr",
     "output_type": "stream",
     "text": [
      "[Parallel(n_jobs=2)]: Done 128 out of 128 | elapsed:    0.1s finished\n"
     ]
    },
    {
     "name": "stdout",
     "output_type": "stream",
     "text": [
      "<ICA  |  raw data decomposition, fit (fastica): 2052 samples, 128 components, channels used: \"eeg\">\n",
      "Transforming to ICA space (128 components)\n",
      "Zeroing out 8 ICA components\n"
     ]
    },
    {
     "data": {
      "text/plain": [
       "<bieg.ICAManager at 0x7f4ec2c9b898>"
      ]
     },
     "execution_count": 76,
     "metadata": {},
     "output_type": "execute_result"
    }
   ],
   "source": [
    "bs.bss_ica()"
   ]
  },
  {
   "cell_type": "code",
   "execution_count": 77,
   "metadata": {},
   "outputs": [
    {
     "data": {
      "text/plain": [
       "(array([[ -3.79214511e-01,  -5.31407481e-01,  -6.63150842e-01, ...,\n",
       "           3.07768482e-06,   2.50833605e-06,   1.92874170e-06],\n",
       "        [ -3.15242093e-01,  -4.52938249e-01,  -5.73186224e-01, ...,\n",
       "           2.82553979e-06,   2.33146164e-06,   1.81959206e-06],\n",
       "        [ -3.68288954e-01,  -5.04944005e-01,  -6.22147273e-01, ...,\n",
       "           2.99920363e-06,   2.44372328e-06,   1.87845966e-06]]),\n",
       " array([[  5.42252663e-02,  -6.42360788e-02,  -1.75459833e-01, ...,\n",
       "           5.96140890e-08,   1.24924349e-07,   1.59607539e-07],\n",
       "        [ -1.15786206e-02,  -8.88005578e-02,  -1.55847603e-01, ...,\n",
       "           2.21637412e-08,   7.50600380e-08,   1.06362531e-07],\n",
       "        [  5.12567075e-02,  -2.40265752e-02,  -9.67200005e-02, ...,\n",
       "           4.05561558e-08,   1.32765514e-07,   1.87125983e-07]]),\n",
       " array([[  8.62034006e-02,   2.01640636e-01,   2.25729721e-01, ...,\n",
       "          -8.73625199e-08,   1.62066170e-08,   8.82222520e-08],\n",
       "        [  9.98810644e-02,   1.92301778e-01,   1.97518396e-01, ...,\n",
       "          -1.20580845e-07,  -1.83798818e-08,   6.70438582e-08],\n",
       "        [  2.98900596e-02,   1.23808891e-01,   1.61751101e-01, ...,\n",
       "          -1.08354050e-07,  -3.23280855e-08,   3.89767099e-08]]))"
      ]
     },
     "execution_count": 77,
     "metadata": {},
     "output_type": "execute_result"
    }
   ],
   "source": [
    "bs.bank_of_filters()"
   ]
  },
  {
   "cell_type": "code",
   "execution_count": 78,
   "metadata": {},
   "outputs": [
    {
     "ename": "TypeError",
     "evalue": "variance_analyzing() takes 1 positional argument but 2 were given",
     "output_type": "error",
     "traceback": [
      "\u001b[0;31m---------------------------------------------------------------------------\u001b[0m",
      "\u001b[0;31mTypeError\u001b[0m                                 Traceback (most recent call last)",
      "\u001b[0;32m<ipython-input-78-29026c6b4cdf>\u001b[0m in \u001b[0;36m<module>\u001b[0;34m()\u001b[0m\n\u001b[0;32m----> 1\u001b[0;31m \u001b[0mbs\u001b[0m\u001b[0;34m.\u001b[0m\u001b[0mvariance_analyzer\u001b[0m\u001b[0;34m(\u001b[0m\u001b[0;34m)\u001b[0m\u001b[0;34m\u001b[0m\u001b[0m\n\u001b[0m",
      "\u001b[0;32m<ipython-input-74-448957eb460b>\u001b[0m in \u001b[0;36mvariance_analyzer\u001b[0;34m(self)\u001b[0m\n\u001b[1;32m     76\u001b[0m         \u001b[0;32mfor\u001b[0m \u001b[0mz\u001b[0m \u001b[0;32min\u001b[0m \u001b[0;34m[\u001b[0m\u001b[0mself\u001b[0m\u001b[0;34m.\u001b[0m\u001b[0ms_08Hz\u001b[0m\u001b[0;34m,\u001b[0m\u001b[0mself\u001b[0m\u001b[0;34m.\u001b[0m\u001b[0ms_14Hz\u001b[0m\u001b[0;34m,\u001b[0m\u001b[0mself\u001b[0m\u001b[0;34m.\u001b[0m\u001b[0ms_28Hz\u001b[0m\u001b[0;34m]\u001b[0m\u001b[0;34m:\u001b[0m\u001b[0;34m\u001b[0m\u001b[0m\n\u001b[1;32m     77\u001b[0m             \u001b[0;32mfor\u001b[0m \u001b[0mn\u001b[0m \u001b[0;32min\u001b[0m \u001b[0mrange\u001b[0m\u001b[0;34m(\u001b[0m\u001b[0;36m0\u001b[0m\u001b[0;34m,\u001b[0m\u001b[0mz\u001b[0m\u001b[0;34m.\u001b[0m\u001b[0mshape\u001b[0m\u001b[0;34m[\u001b[0m\u001b[0;36m0\u001b[0m\u001b[0;34m]\u001b[0m\u001b[0;34m)\u001b[0m\u001b[0;34m:\u001b[0m\u001b[0;34m\u001b[0m\u001b[0m\n\u001b[0;32m---> 78\u001b[0;31m                 \u001b[0mz\u001b[0m\u001b[0;34m[\u001b[0m\u001b[0mn\u001b[0m\u001b[0;34m]\u001b[0m \u001b[0;34m=\u001b[0m \u001b[0mself\u001b[0m\u001b[0;34m.\u001b[0m\u001b[0mvariance_analyzing\u001b[0m\u001b[0;34m(\u001b[0m\u001b[0mz\u001b[0m\u001b[0;34m[\u001b[0m\u001b[0mn\u001b[0m\u001b[0;34m]\u001b[0m\u001b[0;34m)\u001b[0m\u001b[0;34m\u001b[0m\u001b[0m\n\u001b[0m\u001b[1;32m     79\u001b[0m         \u001b[0;32mreturn\u001b[0m \u001b[0mself\u001b[0m\u001b[0;34m.\u001b[0m\u001b[0ms_08Hz\u001b[0m\u001b[0;34m,\u001b[0m \u001b[0mself\u001b[0m\u001b[0;34m.\u001b[0m\u001b[0ms_14Hz\u001b[0m\u001b[0;34m,\u001b[0m \u001b[0mself\u001b[0m\u001b[0;34m.\u001b[0m\u001b[0ms_28Hz\u001b[0m\u001b[0;34m\u001b[0m\u001b[0m\n\u001b[1;32m     80\u001b[0m \u001b[0;34m\u001b[0m\u001b[0m\n",
      "\u001b[0;31mTypeError\u001b[0m: variance_analyzing() takes 1 positional argument but 2 were given"
     ]
    }
   ],
   "source": [
    "bs.variance_analyzer()"
   ]
  },
  {
   "cell_type": "code",
   "execution_count": null,
   "metadata": {},
   "outputs": [],
   "source": []
  },
  {
   "cell_type": "code",
   "execution_count": null,
   "metadata": {},
   "outputs": [],
   "source": []
  },
  {
   "cell_type": "code",
   "execution_count": null,
   "metadata": {},
   "outputs": [],
   "source": []
  },
  {
   "cell_type": "code",
   "execution_count": null,
   "metadata": {},
   "outputs": [],
   "source": []
  },
  {
   "cell_type": "code",
   "execution_count": null,
   "metadata": {},
   "outputs": [],
   "source": []
  },
  {
   "cell_type": "code",
   "execution_count": null,
   "metadata": {},
   "outputs": [],
   "source": []
  },
  {
   "cell_type": "code",
   "execution_count": null,
   "metadata": {},
   "outputs": [],
   "source": [
    "#Module 2: Narrow-band filters\n",
    "\n",
    "prefiltered = [electrode_0z,electrode_O1,electrode_O2]\n",
    "\n",
    "#Signals filtered:\n",
    "\n",
    "s_08Hz = np.zeros((3,len(signal_filtered_08Hz)))\n",
    "s_14Hz = np.zeros((3,len(signal_filtered_08Hz)))\n",
    "s_28Hz = np.zeros((3,len(signal_filtered_08Hz)))\n",
    "\n",
    "for n in range(0,3):\n",
    "    signal_filtered_08Hz = ag.pasmowoprzepustowy(prefiltered[n],czestOdciecia1=7.9,czestOdciecia2=8.1,czestProbkowania=256)\n",
    "    signal_filtered_14Hz = ag.pasmowoprzepustowy(prefiltered[n],czestOdciecia1=13.9,czestOdciecia2=14.1,czestProbkowania=256)\n",
    "    signal_filtered_28Hz = ag.pasmowoprzepustowy(prefiltered[n],czestOdciecia1=27.9,czestOdciecia2=28.1,czestProbkowania=256)\n",
    "    s_08Hz[n] = signal_filtered_08Hz\n",
    "    s_14Hz[n] = signal_filtered_14Hz\n",
    "    s_28Hz[n] = signal_filtered_28Hz\n",
    "\n",
    "#Module3: Variance analyzer\n",
    "    \n",
    "def variance_analyzer(array_to_va):\n",
    "    squared = np.square(array_to_va)\n",
    "    result = np.sqrt(squared)\n",
    "    return result\n",
    "\n",
    "for z in [s_08Hz,s_14Hz,s_28Hz]:\n",
    "    for n in range(0,z.shape[0]):\n",
    "        z[n] = variance_analyzer(z[n])\n",
    "\n",
    "#Module 4: smoother\n",
    "\n",
    "def smoothing(array_to_smooth,window_length=15):\n",
    "    smoothed = sig.savgol_filter(array_to_smooth,polyorder=2,window_length=window_length)\n",
    "    return smoothed\n",
    "\n",
    "for n in [s_08Hz,s_14Hz,s_28Hz]:\n",
    "    for z in range(0,n.shape[0]):\n",
    "        n[z] = smoothing(n[z],window_length=15)\n",
    "    \n",
    "#Module5: integrator\n",
    "\n",
    "def integrating(array_to_integrate):\n",
    "    result = 0\n",
    "    length = array_to_integrate.shape[0]\n",
    "    for n in range(0,length):\n",
    "        result += array_to_integrate[n]\n",
    "    result = result/length\n",
    "    return results\n",
    "\n",
    "for n in [s_08Hz,s_14Hz,s_28Hz]:\n",
    "    n = integrating(n)\n",
    "\n",
    "\"\"\"    \n",
    "#Module6: Normalizer\n",
    "\n",
    "normalized = []\n",
    "\n",
    "for r in integrated:\n",
    "    result = Normalizer(r)\n",
    "    normalized.append(result)\n",
    "\"\"\""
   ]
  }
 ],
 "metadata": {
  "kernelspec": {
   "display_name": "Python 3",
   "language": "python",
   "name": "python3"
  },
  "language_info": {
   "codemirror_mode": {
    "name": "ipython",
    "version": 3
   },
   "file_extension": ".py",
   "mimetype": "text/x-python",
   "name": "python",
   "nbconvert_exporter": "python",
   "pygments_lexer": "ipython3",
   "version": "3.6.4"
  }
 },
 "nbformat": 4,
 "nbformat_minor": 2
}
